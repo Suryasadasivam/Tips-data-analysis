{
  "nbformat": 4,
  "nbformat_minor": 0,
  "metadata": {
    "colab": {
      "provenance": []
    },
    "kernelspec": {
      "name": "python3",
      "display_name": "Python 3"
    },
    "language_info": {
      "name": "python"
    }
  },
  "cells": [
    {
      "cell_type": "code",
      "execution_count": 2,
      "metadata": {
        "id": "sU4ow7mxmI-C"
      },
      "outputs": [],
      "source": [
        "import pandas as pd\n",
        "import numpy as np\n",
        "from scipy import stats\n",
        "import plotly.graph_objects as go\n",
        "import plotly.express as px\n",
        "import matplotlib.pyplot as plt\n",
        "import seaborn as sns\n"
      ]
    },
    {
      "cell_type": "markdown",
      "source": [
        "Dataset"
      ],
      "metadata": {
        "id": "khpnZrGnm3Ot"
      }
    },
    {
      "cell_type": "code",
      "source": [
        "sns.get_dataset_names()"
      ],
      "metadata": {
        "colab": {
          "base_uri": "https://localhost:8080/"
        },
        "id": "m5jEpC3Nm7dq",
        "outputId": "3e2dd538-d572-44f3-a35c-e3c7470acd51"
      },
      "execution_count": 3,
      "outputs": [
        {
          "output_type": "execute_result",
          "data": {
            "text/plain": [
              "['anagrams',\n",
              " 'anscombe',\n",
              " 'attention',\n",
              " 'brain_networks',\n",
              " 'car_crashes',\n",
              " 'diamonds',\n",
              " 'dots',\n",
              " 'dowjones',\n",
              " 'exercise',\n",
              " 'flights',\n",
              " 'fmri',\n",
              " 'geyser',\n",
              " 'glue',\n",
              " 'healthexp',\n",
              " 'iris',\n",
              " 'mpg',\n",
              " 'penguins',\n",
              " 'planets',\n",
              " 'seaice',\n",
              " 'taxis',\n",
              " 'tips',\n",
              " 'titanic']"
            ]
          },
          "metadata": {},
          "execution_count": 3
        }
      ]
    },
    {
      "cell_type": "code",
      "source": [
        "df=sns.load_dataset(\"tips\")\n",
        "df"
      ],
      "metadata": {
        "colab": {
          "base_uri": "https://localhost:8080/",
          "height": 424
        },
        "id": "QUnAKlk8o4Yq",
        "outputId": "6f14be7b-a38c-4273-d813-11ce6574a8da"
      },
      "execution_count": 4,
      "outputs": [
        {
          "output_type": "execute_result",
          "data": {
            "text/plain": [
              "     total_bill   tip     sex smoker   day    time  size\n",
              "0         16.99  1.01  Female     No   Sun  Dinner     2\n",
              "1         10.34  1.66    Male     No   Sun  Dinner     3\n",
              "2         21.01  3.50    Male     No   Sun  Dinner     3\n",
              "3         23.68  3.31    Male     No   Sun  Dinner     2\n",
              "4         24.59  3.61  Female     No   Sun  Dinner     4\n",
              "..          ...   ...     ...    ...   ...     ...   ...\n",
              "239       29.03  5.92    Male     No   Sat  Dinner     3\n",
              "240       27.18  2.00  Female    Yes   Sat  Dinner     2\n",
              "241       22.67  2.00    Male    Yes   Sat  Dinner     2\n",
              "242       17.82  1.75    Male     No   Sat  Dinner     2\n",
              "243       18.78  3.00  Female     No  Thur  Dinner     2\n",
              "\n",
              "[244 rows x 7 columns]"
            ],
            "text/html": [
              "\n",
              "  <div id=\"df-919e6a25-f476-497a-ab8c-5fc36bb7fd31\" class=\"colab-df-container\">\n",
              "    <div>\n",
              "<style scoped>\n",
              "    .dataframe tbody tr th:only-of-type {\n",
              "        vertical-align: middle;\n",
              "    }\n",
              "\n",
              "    .dataframe tbody tr th {\n",
              "        vertical-align: top;\n",
              "    }\n",
              "\n",
              "    .dataframe thead th {\n",
              "        text-align: right;\n",
              "    }\n",
              "</style>\n",
              "<table border=\"1\" class=\"dataframe\">\n",
              "  <thead>\n",
              "    <tr style=\"text-align: right;\">\n",
              "      <th></th>\n",
              "      <th>total_bill</th>\n",
              "      <th>tip</th>\n",
              "      <th>sex</th>\n",
              "      <th>smoker</th>\n",
              "      <th>day</th>\n",
              "      <th>time</th>\n",
              "      <th>size</th>\n",
              "    </tr>\n",
              "  </thead>\n",
              "  <tbody>\n",
              "    <tr>\n",
              "      <th>0</th>\n",
              "      <td>16.99</td>\n",
              "      <td>1.01</td>\n",
              "      <td>Female</td>\n",
              "      <td>No</td>\n",
              "      <td>Sun</td>\n",
              "      <td>Dinner</td>\n",
              "      <td>2</td>\n",
              "    </tr>\n",
              "    <tr>\n",
              "      <th>1</th>\n",
              "      <td>10.34</td>\n",
              "      <td>1.66</td>\n",
              "      <td>Male</td>\n",
              "      <td>No</td>\n",
              "      <td>Sun</td>\n",
              "      <td>Dinner</td>\n",
              "      <td>3</td>\n",
              "    </tr>\n",
              "    <tr>\n",
              "      <th>2</th>\n",
              "      <td>21.01</td>\n",
              "      <td>3.50</td>\n",
              "      <td>Male</td>\n",
              "      <td>No</td>\n",
              "      <td>Sun</td>\n",
              "      <td>Dinner</td>\n",
              "      <td>3</td>\n",
              "    </tr>\n",
              "    <tr>\n",
              "      <th>3</th>\n",
              "      <td>23.68</td>\n",
              "      <td>3.31</td>\n",
              "      <td>Male</td>\n",
              "      <td>No</td>\n",
              "      <td>Sun</td>\n",
              "      <td>Dinner</td>\n",
              "      <td>2</td>\n",
              "    </tr>\n",
              "    <tr>\n",
              "      <th>4</th>\n",
              "      <td>24.59</td>\n",
              "      <td>3.61</td>\n",
              "      <td>Female</td>\n",
              "      <td>No</td>\n",
              "      <td>Sun</td>\n",
              "      <td>Dinner</td>\n",
              "      <td>4</td>\n",
              "    </tr>\n",
              "    <tr>\n",
              "      <th>...</th>\n",
              "      <td>...</td>\n",
              "      <td>...</td>\n",
              "      <td>...</td>\n",
              "      <td>...</td>\n",
              "      <td>...</td>\n",
              "      <td>...</td>\n",
              "      <td>...</td>\n",
              "    </tr>\n",
              "    <tr>\n",
              "      <th>239</th>\n",
              "      <td>29.03</td>\n",
              "      <td>5.92</td>\n",
              "      <td>Male</td>\n",
              "      <td>No</td>\n",
              "      <td>Sat</td>\n",
              "      <td>Dinner</td>\n",
              "      <td>3</td>\n",
              "    </tr>\n",
              "    <tr>\n",
              "      <th>240</th>\n",
              "      <td>27.18</td>\n",
              "      <td>2.00</td>\n",
              "      <td>Female</td>\n",
              "      <td>Yes</td>\n",
              "      <td>Sat</td>\n",
              "      <td>Dinner</td>\n",
              "      <td>2</td>\n",
              "    </tr>\n",
              "    <tr>\n",
              "      <th>241</th>\n",
              "      <td>22.67</td>\n",
              "      <td>2.00</td>\n",
              "      <td>Male</td>\n",
              "      <td>Yes</td>\n",
              "      <td>Sat</td>\n",
              "      <td>Dinner</td>\n",
              "      <td>2</td>\n",
              "    </tr>\n",
              "    <tr>\n",
              "      <th>242</th>\n",
              "      <td>17.82</td>\n",
              "      <td>1.75</td>\n",
              "      <td>Male</td>\n",
              "      <td>No</td>\n",
              "      <td>Sat</td>\n",
              "      <td>Dinner</td>\n",
              "      <td>2</td>\n",
              "    </tr>\n",
              "    <tr>\n",
              "      <th>243</th>\n",
              "      <td>18.78</td>\n",
              "      <td>3.00</td>\n",
              "      <td>Female</td>\n",
              "      <td>No</td>\n",
              "      <td>Thur</td>\n",
              "      <td>Dinner</td>\n",
              "      <td>2</td>\n",
              "    </tr>\n",
              "  </tbody>\n",
              "</table>\n",
              "<p>244 rows × 7 columns</p>\n",
              "</div>\n",
              "    <div class=\"colab-df-buttons\">\n",
              "\n",
              "  <div class=\"colab-df-container\">\n",
              "    <button class=\"colab-df-convert\" onclick=\"convertToInteractive('df-919e6a25-f476-497a-ab8c-5fc36bb7fd31')\"\n",
              "            title=\"Convert this dataframe to an interactive table.\"\n",
              "            style=\"display:none;\">\n",
              "\n",
              "  <svg xmlns=\"http://www.w3.org/2000/svg\" height=\"24px\" viewBox=\"0 -960 960 960\">\n",
              "    <path d=\"M120-120v-720h720v720H120Zm60-500h600v-160H180v160Zm220 220h160v-160H400v160Zm0 220h160v-160H400v160ZM180-400h160v-160H180v160Zm440 0h160v-160H620v160ZM180-180h160v-160H180v160Zm440 0h160v-160H620v160Z\"/>\n",
              "  </svg>\n",
              "    </button>\n",
              "\n",
              "  <style>\n",
              "    .colab-df-container {\n",
              "      display:flex;\n",
              "      gap: 12px;\n",
              "    }\n",
              "\n",
              "    .colab-df-convert {\n",
              "      background-color: #E8F0FE;\n",
              "      border: none;\n",
              "      border-radius: 50%;\n",
              "      cursor: pointer;\n",
              "      display: none;\n",
              "      fill: #1967D2;\n",
              "      height: 32px;\n",
              "      padding: 0 0 0 0;\n",
              "      width: 32px;\n",
              "    }\n",
              "\n",
              "    .colab-df-convert:hover {\n",
              "      background-color: #E2EBFA;\n",
              "      box-shadow: 0px 1px 2px rgba(60, 64, 67, 0.3), 0px 1px 3px 1px rgba(60, 64, 67, 0.15);\n",
              "      fill: #174EA6;\n",
              "    }\n",
              "\n",
              "    .colab-df-buttons div {\n",
              "      margin-bottom: 4px;\n",
              "    }\n",
              "\n",
              "    [theme=dark] .colab-df-convert {\n",
              "      background-color: #3B4455;\n",
              "      fill: #D2E3FC;\n",
              "    }\n",
              "\n",
              "    [theme=dark] .colab-df-convert:hover {\n",
              "      background-color: #434B5C;\n",
              "      box-shadow: 0px 1px 3px 1px rgba(0, 0, 0, 0.15);\n",
              "      filter: drop-shadow(0px 1px 2px rgba(0, 0, 0, 0.3));\n",
              "      fill: #FFFFFF;\n",
              "    }\n",
              "  </style>\n",
              "\n",
              "    <script>\n",
              "      const buttonEl =\n",
              "        document.querySelector('#df-919e6a25-f476-497a-ab8c-5fc36bb7fd31 button.colab-df-convert');\n",
              "      buttonEl.style.display =\n",
              "        google.colab.kernel.accessAllowed ? 'block' : 'none';\n",
              "\n",
              "      async function convertToInteractive(key) {\n",
              "        const element = document.querySelector('#df-919e6a25-f476-497a-ab8c-5fc36bb7fd31');\n",
              "        const dataTable =\n",
              "          await google.colab.kernel.invokeFunction('convertToInteractive',\n",
              "                                                    [key], {});\n",
              "        if (!dataTable) return;\n",
              "\n",
              "        const docLinkHtml = 'Like what you see? Visit the ' +\n",
              "          '<a target=\"_blank\" href=https://colab.research.google.com/notebooks/data_table.ipynb>data table notebook</a>'\n",
              "          + ' to learn more about interactive tables.';\n",
              "        element.innerHTML = '';\n",
              "        dataTable['output_type'] = 'display_data';\n",
              "        await google.colab.output.renderOutput(dataTable, element);\n",
              "        const docLink = document.createElement('div');\n",
              "        docLink.innerHTML = docLinkHtml;\n",
              "        element.appendChild(docLink);\n",
              "      }\n",
              "    </script>\n",
              "  </div>\n",
              "\n",
              "\n",
              "<div id=\"df-cadacc0e-88bc-4770-a75b-ef3414683258\">\n",
              "  <button class=\"colab-df-quickchart\" onclick=\"quickchart('df-cadacc0e-88bc-4770-a75b-ef3414683258')\"\n",
              "            title=\"Suggest charts\"\n",
              "            style=\"display:none;\">\n",
              "\n",
              "<svg xmlns=\"http://www.w3.org/2000/svg\" height=\"24px\"viewBox=\"0 0 24 24\"\n",
              "     width=\"24px\">\n",
              "    <g>\n",
              "        <path d=\"M19 3H5c-1.1 0-2 .9-2 2v14c0 1.1.9 2 2 2h14c1.1 0 2-.9 2-2V5c0-1.1-.9-2-2-2zM9 17H7v-7h2v7zm4 0h-2V7h2v10zm4 0h-2v-4h2v4z\"/>\n",
              "    </g>\n",
              "</svg>\n",
              "  </button>\n",
              "\n",
              "<style>\n",
              "  .colab-df-quickchart {\n",
              "      --bg-color: #E8F0FE;\n",
              "      --fill-color: #1967D2;\n",
              "      --hover-bg-color: #E2EBFA;\n",
              "      --hover-fill-color: #174EA6;\n",
              "      --disabled-fill-color: #AAA;\n",
              "      --disabled-bg-color: #DDD;\n",
              "  }\n",
              "\n",
              "  [theme=dark] .colab-df-quickchart {\n",
              "      --bg-color: #3B4455;\n",
              "      --fill-color: #D2E3FC;\n",
              "      --hover-bg-color: #434B5C;\n",
              "      --hover-fill-color: #FFFFFF;\n",
              "      --disabled-bg-color: #3B4455;\n",
              "      --disabled-fill-color: #666;\n",
              "  }\n",
              "\n",
              "  .colab-df-quickchart {\n",
              "    background-color: var(--bg-color);\n",
              "    border: none;\n",
              "    border-radius: 50%;\n",
              "    cursor: pointer;\n",
              "    display: none;\n",
              "    fill: var(--fill-color);\n",
              "    height: 32px;\n",
              "    padding: 0;\n",
              "    width: 32px;\n",
              "  }\n",
              "\n",
              "  .colab-df-quickchart:hover {\n",
              "    background-color: var(--hover-bg-color);\n",
              "    box-shadow: 0 1px 2px rgba(60, 64, 67, 0.3), 0 1px 3px 1px rgba(60, 64, 67, 0.15);\n",
              "    fill: var(--button-hover-fill-color);\n",
              "  }\n",
              "\n",
              "  .colab-df-quickchart-complete:disabled,\n",
              "  .colab-df-quickchart-complete:disabled:hover {\n",
              "    background-color: var(--disabled-bg-color);\n",
              "    fill: var(--disabled-fill-color);\n",
              "    box-shadow: none;\n",
              "  }\n",
              "\n",
              "  .colab-df-spinner {\n",
              "    border: 2px solid var(--fill-color);\n",
              "    border-color: transparent;\n",
              "    border-bottom-color: var(--fill-color);\n",
              "    animation:\n",
              "      spin 1s steps(1) infinite;\n",
              "  }\n",
              "\n",
              "  @keyframes spin {\n",
              "    0% {\n",
              "      border-color: transparent;\n",
              "      border-bottom-color: var(--fill-color);\n",
              "      border-left-color: var(--fill-color);\n",
              "    }\n",
              "    20% {\n",
              "      border-color: transparent;\n",
              "      border-left-color: var(--fill-color);\n",
              "      border-top-color: var(--fill-color);\n",
              "    }\n",
              "    30% {\n",
              "      border-color: transparent;\n",
              "      border-left-color: var(--fill-color);\n",
              "      border-top-color: var(--fill-color);\n",
              "      border-right-color: var(--fill-color);\n",
              "    }\n",
              "    40% {\n",
              "      border-color: transparent;\n",
              "      border-right-color: var(--fill-color);\n",
              "      border-top-color: var(--fill-color);\n",
              "    }\n",
              "    60% {\n",
              "      border-color: transparent;\n",
              "      border-right-color: var(--fill-color);\n",
              "    }\n",
              "    80% {\n",
              "      border-color: transparent;\n",
              "      border-right-color: var(--fill-color);\n",
              "      border-bottom-color: var(--fill-color);\n",
              "    }\n",
              "    90% {\n",
              "      border-color: transparent;\n",
              "      border-bottom-color: var(--fill-color);\n",
              "    }\n",
              "  }\n",
              "</style>\n",
              "\n",
              "  <script>\n",
              "    async function quickchart(key) {\n",
              "      const quickchartButtonEl =\n",
              "        document.querySelector('#' + key + ' button');\n",
              "      quickchartButtonEl.disabled = true;  // To prevent multiple clicks.\n",
              "      quickchartButtonEl.classList.add('colab-df-spinner');\n",
              "      try {\n",
              "        const charts = await google.colab.kernel.invokeFunction(\n",
              "            'suggestCharts', [key], {});\n",
              "      } catch (error) {\n",
              "        console.error('Error during call to suggestCharts:', error);\n",
              "      }\n",
              "      quickchartButtonEl.classList.remove('colab-df-spinner');\n",
              "      quickchartButtonEl.classList.add('colab-df-quickchart-complete');\n",
              "    }\n",
              "    (() => {\n",
              "      let quickchartButtonEl =\n",
              "        document.querySelector('#df-cadacc0e-88bc-4770-a75b-ef3414683258 button');\n",
              "      quickchartButtonEl.style.display =\n",
              "        google.colab.kernel.accessAllowed ? 'block' : 'none';\n",
              "    })();\n",
              "  </script>\n",
              "</div>\n",
              "\n",
              "  <div id=\"id_58fdd6cf-197d-407e-a37e-560675f8f3ee\">\n",
              "    <style>\n",
              "      .colab-df-generate {\n",
              "        background-color: #E8F0FE;\n",
              "        border: none;\n",
              "        border-radius: 50%;\n",
              "        cursor: pointer;\n",
              "        display: none;\n",
              "        fill: #1967D2;\n",
              "        height: 32px;\n",
              "        padding: 0 0 0 0;\n",
              "        width: 32px;\n",
              "      }\n",
              "\n",
              "      .colab-df-generate:hover {\n",
              "        background-color: #E2EBFA;\n",
              "        box-shadow: 0px 1px 2px rgba(60, 64, 67, 0.3), 0px 1px 3px 1px rgba(60, 64, 67, 0.15);\n",
              "        fill: #174EA6;\n",
              "      }\n",
              "\n",
              "      [theme=dark] .colab-df-generate {\n",
              "        background-color: #3B4455;\n",
              "        fill: #D2E3FC;\n",
              "      }\n",
              "\n",
              "      [theme=dark] .colab-df-generate:hover {\n",
              "        background-color: #434B5C;\n",
              "        box-shadow: 0px 1px 3px 1px rgba(0, 0, 0, 0.15);\n",
              "        filter: drop-shadow(0px 1px 2px rgba(0, 0, 0, 0.3));\n",
              "        fill: #FFFFFF;\n",
              "      }\n",
              "    </style>\n",
              "    <button class=\"colab-df-generate\" onclick=\"generateWithVariable('df')\"\n",
              "            title=\"Generate code using this dataframe.\"\n",
              "            style=\"display:none;\">\n",
              "\n",
              "  <svg xmlns=\"http://www.w3.org/2000/svg\" height=\"24px\"viewBox=\"0 0 24 24\"\n",
              "       width=\"24px\">\n",
              "    <path d=\"M7,19H8.4L18.45,9,17,7.55,7,17.6ZM5,21V16.75L18.45,3.32a2,2,0,0,1,2.83,0l1.4,1.43a1.91,1.91,0,0,1,.58,1.4,1.91,1.91,0,0,1-.58,1.4L9.25,21ZM18.45,9,17,7.55Zm-12,3A5.31,5.31,0,0,0,4.9,8.1,5.31,5.31,0,0,0,1,6.5,5.31,5.31,0,0,0,4.9,4.9,5.31,5.31,0,0,0,6.5,1,5.31,5.31,0,0,0,8.1,4.9,5.31,5.31,0,0,0,12,6.5,5.46,5.46,0,0,0,6.5,12Z\"/>\n",
              "  </svg>\n",
              "    </button>\n",
              "    <script>\n",
              "      (() => {\n",
              "      const buttonEl =\n",
              "        document.querySelector('#id_58fdd6cf-197d-407e-a37e-560675f8f3ee button.colab-df-generate');\n",
              "      buttonEl.style.display =\n",
              "        google.colab.kernel.accessAllowed ? 'block' : 'none';\n",
              "\n",
              "      buttonEl.onclick = () => {\n",
              "        google.colab.notebook.generateWithVariable('df');\n",
              "      }\n",
              "      })();\n",
              "    </script>\n",
              "  </div>\n",
              "\n",
              "    </div>\n",
              "  </div>\n"
            ],
            "application/vnd.google.colaboratory.intrinsic+json": {
              "type": "dataframe",
              "variable_name": "df",
              "summary": "{\n  \"name\": \"df\",\n  \"rows\": 244,\n  \"fields\": [\n    {\n      \"column\": \"total_bill\",\n      \"properties\": {\n        \"dtype\": \"number\",\n        \"std\": 8.902411954856856,\n        \"min\": 3.07,\n        \"max\": 50.81,\n        \"num_unique_values\": 229,\n        \"samples\": [\n          22.12,\n          20.23,\n          14.78\n        ],\n        \"semantic_type\": \"\",\n        \"description\": \"\"\n      }\n    },\n    {\n      \"column\": \"tip\",\n      \"properties\": {\n        \"dtype\": \"number\",\n        \"std\": 1.3836381890011822,\n        \"min\": 1.0,\n        \"max\": 10.0,\n        \"num_unique_values\": 123,\n        \"samples\": [\n          3.35,\n          1.5,\n          6.73\n        ],\n        \"semantic_type\": \"\",\n        \"description\": \"\"\n      }\n    },\n    {\n      \"column\": \"sex\",\n      \"properties\": {\n        \"dtype\": \"category\",\n        \"num_unique_values\": 2,\n        \"samples\": [\n          \"Male\",\n          \"Female\"\n        ],\n        \"semantic_type\": \"\",\n        \"description\": \"\"\n      }\n    },\n    {\n      \"column\": \"smoker\",\n      \"properties\": {\n        \"dtype\": \"category\",\n        \"num_unique_values\": 2,\n        \"samples\": [\n          \"Yes\",\n          \"No\"\n        ],\n        \"semantic_type\": \"\",\n        \"description\": \"\"\n      }\n    },\n    {\n      \"column\": \"day\",\n      \"properties\": {\n        \"dtype\": \"category\",\n        \"num_unique_values\": 4,\n        \"samples\": [\n          \"Sat\",\n          \"Fri\"\n        ],\n        \"semantic_type\": \"\",\n        \"description\": \"\"\n      }\n    },\n    {\n      \"column\": \"time\",\n      \"properties\": {\n        \"dtype\": \"category\",\n        \"num_unique_values\": 2,\n        \"samples\": [\n          \"Lunch\",\n          \"Dinner\"\n        ],\n        \"semantic_type\": \"\",\n        \"description\": \"\"\n      }\n    },\n    {\n      \"column\": \"size\",\n      \"properties\": {\n        \"dtype\": \"number\",\n        \"std\": 0,\n        \"min\": 1,\n        \"max\": 6,\n        \"num_unique_values\": 6,\n        \"samples\": [\n          2,\n          3\n        ],\n        \"semantic_type\": \"\",\n        \"description\": \"\"\n      }\n    }\n  ]\n}"
            }
          },
          "metadata": {},
          "execution_count": 4
        }
      ]
    },
    {
      "cell_type": "markdown",
      "source": [
        "The given dataset is unsupervised,As there is no dependent column\n",
        "total_bill,tip are continous/regresssion data\n",
        "sex,day,smoker,time, size are category/classification  \n"
      ],
      "metadata": {
        "id": "SR1mvwH8qbVz"
      }
    },
    {
      "cell_type": "code",
      "source": [
        "df.corr()"
      ],
      "metadata": {
        "colab": {
          "base_uri": "https://localhost:8080/",
          "height": 198
        },
        "id": "I4TiMVF0rfCC",
        "outputId": "522d50e5-c720-474d-913b-264e76659a1d"
      },
      "execution_count": 5,
      "outputs": [
        {
          "output_type": "stream",
          "name": "stderr",
          "text": [
            "<ipython-input-5-2f6f6606aa2c>:1: FutureWarning: The default value of numeric_only in DataFrame.corr is deprecated. In a future version, it will default to False. Select only valid columns or specify the value of numeric_only to silence this warning.\n",
            "  df.corr()\n"
          ]
        },
        {
          "output_type": "execute_result",
          "data": {
            "text/plain": [
              "            total_bill       tip      size\n",
              "total_bill    1.000000  0.675734  0.598315\n",
              "tip           0.675734  1.000000  0.489299\n",
              "size          0.598315  0.489299  1.000000"
            ],
            "text/html": [
              "\n",
              "  <div id=\"df-4efc07f3-bf30-4e15-80c1-5a1125e61244\" class=\"colab-df-container\">\n",
              "    <div>\n",
              "<style scoped>\n",
              "    .dataframe tbody tr th:only-of-type {\n",
              "        vertical-align: middle;\n",
              "    }\n",
              "\n",
              "    .dataframe tbody tr th {\n",
              "        vertical-align: top;\n",
              "    }\n",
              "\n",
              "    .dataframe thead th {\n",
              "        text-align: right;\n",
              "    }\n",
              "</style>\n",
              "<table border=\"1\" class=\"dataframe\">\n",
              "  <thead>\n",
              "    <tr style=\"text-align: right;\">\n",
              "      <th></th>\n",
              "      <th>total_bill</th>\n",
              "      <th>tip</th>\n",
              "      <th>size</th>\n",
              "    </tr>\n",
              "  </thead>\n",
              "  <tbody>\n",
              "    <tr>\n",
              "      <th>total_bill</th>\n",
              "      <td>1.000000</td>\n",
              "      <td>0.675734</td>\n",
              "      <td>0.598315</td>\n",
              "    </tr>\n",
              "    <tr>\n",
              "      <th>tip</th>\n",
              "      <td>0.675734</td>\n",
              "      <td>1.000000</td>\n",
              "      <td>0.489299</td>\n",
              "    </tr>\n",
              "    <tr>\n",
              "      <th>size</th>\n",
              "      <td>0.598315</td>\n",
              "      <td>0.489299</td>\n",
              "      <td>1.000000</td>\n",
              "    </tr>\n",
              "  </tbody>\n",
              "</table>\n",
              "</div>\n",
              "    <div class=\"colab-df-buttons\">\n",
              "\n",
              "  <div class=\"colab-df-container\">\n",
              "    <button class=\"colab-df-convert\" onclick=\"convertToInteractive('df-4efc07f3-bf30-4e15-80c1-5a1125e61244')\"\n",
              "            title=\"Convert this dataframe to an interactive table.\"\n",
              "            style=\"display:none;\">\n",
              "\n",
              "  <svg xmlns=\"http://www.w3.org/2000/svg\" height=\"24px\" viewBox=\"0 -960 960 960\">\n",
              "    <path d=\"M120-120v-720h720v720H120Zm60-500h600v-160H180v160Zm220 220h160v-160H400v160Zm0 220h160v-160H400v160ZM180-400h160v-160H180v160Zm440 0h160v-160H620v160ZM180-180h160v-160H180v160Zm440 0h160v-160H620v160Z\"/>\n",
              "  </svg>\n",
              "    </button>\n",
              "\n",
              "  <style>\n",
              "    .colab-df-container {\n",
              "      display:flex;\n",
              "      gap: 12px;\n",
              "    }\n",
              "\n",
              "    .colab-df-convert {\n",
              "      background-color: #E8F0FE;\n",
              "      border: none;\n",
              "      border-radius: 50%;\n",
              "      cursor: pointer;\n",
              "      display: none;\n",
              "      fill: #1967D2;\n",
              "      height: 32px;\n",
              "      padding: 0 0 0 0;\n",
              "      width: 32px;\n",
              "    }\n",
              "\n",
              "    .colab-df-convert:hover {\n",
              "      background-color: #E2EBFA;\n",
              "      box-shadow: 0px 1px 2px rgba(60, 64, 67, 0.3), 0px 1px 3px 1px rgba(60, 64, 67, 0.15);\n",
              "      fill: #174EA6;\n",
              "    }\n",
              "\n",
              "    .colab-df-buttons div {\n",
              "      margin-bottom: 4px;\n",
              "    }\n",
              "\n",
              "    [theme=dark] .colab-df-convert {\n",
              "      background-color: #3B4455;\n",
              "      fill: #D2E3FC;\n",
              "    }\n",
              "\n",
              "    [theme=dark] .colab-df-convert:hover {\n",
              "      background-color: #434B5C;\n",
              "      box-shadow: 0px 1px 3px 1px rgba(0, 0, 0, 0.15);\n",
              "      filter: drop-shadow(0px 1px 2px rgba(0, 0, 0, 0.3));\n",
              "      fill: #FFFFFF;\n",
              "    }\n",
              "  </style>\n",
              "\n",
              "    <script>\n",
              "      const buttonEl =\n",
              "        document.querySelector('#df-4efc07f3-bf30-4e15-80c1-5a1125e61244 button.colab-df-convert');\n",
              "      buttonEl.style.display =\n",
              "        google.colab.kernel.accessAllowed ? 'block' : 'none';\n",
              "\n",
              "      async function convertToInteractive(key) {\n",
              "        const element = document.querySelector('#df-4efc07f3-bf30-4e15-80c1-5a1125e61244');\n",
              "        const dataTable =\n",
              "          await google.colab.kernel.invokeFunction('convertToInteractive',\n",
              "                                                    [key], {});\n",
              "        if (!dataTable) return;\n",
              "\n",
              "        const docLinkHtml = 'Like what you see? Visit the ' +\n",
              "          '<a target=\"_blank\" href=https://colab.research.google.com/notebooks/data_table.ipynb>data table notebook</a>'\n",
              "          + ' to learn more about interactive tables.';\n",
              "        element.innerHTML = '';\n",
              "        dataTable['output_type'] = 'display_data';\n",
              "        await google.colab.output.renderOutput(dataTable, element);\n",
              "        const docLink = document.createElement('div');\n",
              "        docLink.innerHTML = docLinkHtml;\n",
              "        element.appendChild(docLink);\n",
              "      }\n",
              "    </script>\n",
              "  </div>\n",
              "\n",
              "\n",
              "<div id=\"df-b3cb9a24-d2bf-4cf1-a9df-412f1f2b4df1\">\n",
              "  <button class=\"colab-df-quickchart\" onclick=\"quickchart('df-b3cb9a24-d2bf-4cf1-a9df-412f1f2b4df1')\"\n",
              "            title=\"Suggest charts\"\n",
              "            style=\"display:none;\">\n",
              "\n",
              "<svg xmlns=\"http://www.w3.org/2000/svg\" height=\"24px\"viewBox=\"0 0 24 24\"\n",
              "     width=\"24px\">\n",
              "    <g>\n",
              "        <path d=\"M19 3H5c-1.1 0-2 .9-2 2v14c0 1.1.9 2 2 2h14c1.1 0 2-.9 2-2V5c0-1.1-.9-2-2-2zM9 17H7v-7h2v7zm4 0h-2V7h2v10zm4 0h-2v-4h2v4z\"/>\n",
              "    </g>\n",
              "</svg>\n",
              "  </button>\n",
              "\n",
              "<style>\n",
              "  .colab-df-quickchart {\n",
              "      --bg-color: #E8F0FE;\n",
              "      --fill-color: #1967D2;\n",
              "      --hover-bg-color: #E2EBFA;\n",
              "      --hover-fill-color: #174EA6;\n",
              "      --disabled-fill-color: #AAA;\n",
              "      --disabled-bg-color: #DDD;\n",
              "  }\n",
              "\n",
              "  [theme=dark] .colab-df-quickchart {\n",
              "      --bg-color: #3B4455;\n",
              "      --fill-color: #D2E3FC;\n",
              "      --hover-bg-color: #434B5C;\n",
              "      --hover-fill-color: #FFFFFF;\n",
              "      --disabled-bg-color: #3B4455;\n",
              "      --disabled-fill-color: #666;\n",
              "  }\n",
              "\n",
              "  .colab-df-quickchart {\n",
              "    background-color: var(--bg-color);\n",
              "    border: none;\n",
              "    border-radius: 50%;\n",
              "    cursor: pointer;\n",
              "    display: none;\n",
              "    fill: var(--fill-color);\n",
              "    height: 32px;\n",
              "    padding: 0;\n",
              "    width: 32px;\n",
              "  }\n",
              "\n",
              "  .colab-df-quickchart:hover {\n",
              "    background-color: var(--hover-bg-color);\n",
              "    box-shadow: 0 1px 2px rgba(60, 64, 67, 0.3), 0 1px 3px 1px rgba(60, 64, 67, 0.15);\n",
              "    fill: var(--button-hover-fill-color);\n",
              "  }\n",
              "\n",
              "  .colab-df-quickchart-complete:disabled,\n",
              "  .colab-df-quickchart-complete:disabled:hover {\n",
              "    background-color: var(--disabled-bg-color);\n",
              "    fill: var(--disabled-fill-color);\n",
              "    box-shadow: none;\n",
              "  }\n",
              "\n",
              "  .colab-df-spinner {\n",
              "    border: 2px solid var(--fill-color);\n",
              "    border-color: transparent;\n",
              "    border-bottom-color: var(--fill-color);\n",
              "    animation:\n",
              "      spin 1s steps(1) infinite;\n",
              "  }\n",
              "\n",
              "  @keyframes spin {\n",
              "    0% {\n",
              "      border-color: transparent;\n",
              "      border-bottom-color: var(--fill-color);\n",
              "      border-left-color: var(--fill-color);\n",
              "    }\n",
              "    20% {\n",
              "      border-color: transparent;\n",
              "      border-left-color: var(--fill-color);\n",
              "      border-top-color: var(--fill-color);\n",
              "    }\n",
              "    30% {\n",
              "      border-color: transparent;\n",
              "      border-left-color: var(--fill-color);\n",
              "      border-top-color: var(--fill-color);\n",
              "      border-right-color: var(--fill-color);\n",
              "    }\n",
              "    40% {\n",
              "      border-color: transparent;\n",
              "      border-right-color: var(--fill-color);\n",
              "      border-top-color: var(--fill-color);\n",
              "    }\n",
              "    60% {\n",
              "      border-color: transparent;\n",
              "      border-right-color: var(--fill-color);\n",
              "    }\n",
              "    80% {\n",
              "      border-color: transparent;\n",
              "      border-right-color: var(--fill-color);\n",
              "      border-bottom-color: var(--fill-color);\n",
              "    }\n",
              "    90% {\n",
              "      border-color: transparent;\n",
              "      border-bottom-color: var(--fill-color);\n",
              "    }\n",
              "  }\n",
              "</style>\n",
              "\n",
              "  <script>\n",
              "    async function quickchart(key) {\n",
              "      const quickchartButtonEl =\n",
              "        document.querySelector('#' + key + ' button');\n",
              "      quickchartButtonEl.disabled = true;  // To prevent multiple clicks.\n",
              "      quickchartButtonEl.classList.add('colab-df-spinner');\n",
              "      try {\n",
              "        const charts = await google.colab.kernel.invokeFunction(\n",
              "            'suggestCharts', [key], {});\n",
              "      } catch (error) {\n",
              "        console.error('Error during call to suggestCharts:', error);\n",
              "      }\n",
              "      quickchartButtonEl.classList.remove('colab-df-spinner');\n",
              "      quickchartButtonEl.classList.add('colab-df-quickchart-complete');\n",
              "    }\n",
              "    (() => {\n",
              "      let quickchartButtonEl =\n",
              "        document.querySelector('#df-b3cb9a24-d2bf-4cf1-a9df-412f1f2b4df1 button');\n",
              "      quickchartButtonEl.style.display =\n",
              "        google.colab.kernel.accessAllowed ? 'block' : 'none';\n",
              "    })();\n",
              "  </script>\n",
              "</div>\n",
              "\n",
              "    </div>\n",
              "  </div>\n"
            ],
            "application/vnd.google.colaboratory.intrinsic+json": {
              "type": "dataframe",
              "summary": "{\n  \"name\": \"df\",\n  \"rows\": 3,\n  \"fields\": [\n    {\n      \"column\": \"total_bill\",\n      \"properties\": {\n        \"dtype\": \"number\",\n        \"std\": 0.21310904884233575,\n        \"min\": 0.5983151309049014,\n        \"max\": 1.0,\n        \"num_unique_values\": 3,\n        \"samples\": [\n          1.0,\n          0.6757341092113648,\n          0.5983151309049014\n        ],\n        \"semantic_type\": \"\",\n        \"description\": \"\"\n      }\n    },\n    {\n      \"column\": \"tip\",\n      \"properties\": {\n        \"dtype\": \"number\",\n        \"std\": 0.25843188743740914,\n        \"min\": 0.48929877523035714,\n        \"max\": 1.0,\n        \"num_unique_values\": 3,\n        \"samples\": [\n          0.6757341092113648,\n          1.0,\n          0.48929877523035714\n        ],\n        \"semantic_type\": \"\",\n        \"description\": \"\"\n      }\n    },\n    {\n      \"column\": \"size\",\n      \"properties\": {\n        \"dtype\": \"number\",\n        \"std\": 0.2689643845213583,\n        \"min\": 0.48929877523035714,\n        \"max\": 1.0,\n        \"num_unique_values\": 3,\n        \"samples\": [\n          0.5983151309049014,\n          0.48929877523035714,\n          1.0\n        ],\n        \"semantic_type\": \"\",\n        \"description\": \"\"\n      }\n    }\n  ]\n}"
            }
          },
          "metadata": {},
          "execution_count": 5
        }
      ]
    },
    {
      "cell_type": "code",
      "source": [
        "#central limit theorem for total bill\n",
        "pop= df.total_bill.values\n",
        "pop.mean()"
      ],
      "metadata": {
        "colab": {
          "base_uri": "https://localhost:8080/"
        },
        "id": "j_UAGMyMtk_B",
        "outputId": "aaff1f62-605f-45d8-8826-d687fee3d134"
      },
      "execution_count": 6,
      "outputs": [
        {
          "output_type": "execute_result",
          "data": {
            "text/plain": [
              "19.78594262295082"
            ]
          },
          "metadata": {},
          "execution_count": 6
        }
      ]
    },
    {
      "cell_type": "code",
      "source": [
        "allsample=[]\n",
        "size=50\n",
        "for i in range(10):\n",
        "  sample=np.random.choice(pop,size)\n",
        "  allsample.append(sample.mean())\n",
        "sample_mean=np.mean(allsample)\n",
        "\n",
        "\n"
      ],
      "metadata": {
        "id": "KSyXC0LRv_a6"
      },
      "execution_count": 7,
      "outputs": []
    },
    {
      "cell_type": "code",
      "source": [
        "pop.mean(),sample_mean# we can see the population mean and sample mean are approximate same."
      ],
      "metadata": {
        "colab": {
          "base_uri": "https://localhost:8080/"
        },
        "id": "W5IbiHBXw1Ll",
        "outputId": "7d33e4ba-f435-4086-c68d-9ac1f4934afc"
      },
      "execution_count": 8,
      "outputs": [
        {
          "output_type": "execute_result",
          "data": {
            "text/plain": [
              "(19.78594262295082, 19.5131)"
            ]
          },
          "metadata": {},
          "execution_count": 8
        }
      ]
    },
    {
      "cell_type": "code",
      "source": [
        "#central limit theorem for total tips\n",
        "tip_pop= df.tip.values\n",
        "tip_pop.mean()"
      ],
      "metadata": {
        "colab": {
          "base_uri": "https://localhost:8080/"
        },
        "id": "B6FPlSCoxq9K",
        "outputId": "7031f4ef-4763-43b2-cff2-2937cc9a3787"
      },
      "execution_count": 9,
      "outputs": [
        {
          "output_type": "execute_result",
          "data": {
            "text/plain": [
              "2.99827868852459"
            ]
          },
          "metadata": {},
          "execution_count": 9
        }
      ]
    },
    {
      "cell_type": "code",
      "source": [
        "allsample1=[]\n",
        "size=50\n",
        "for i in range(10):\n",
        "  sample=np.random.choice(tip_pop,size)\n",
        "  allsample1.append(sample.mean())\n",
        "sample_mean=np.mean(allsample1)"
      ],
      "metadata": {
        "id": "X_oIO_xN2tPT"
      },
      "execution_count": 10,
      "outputs": []
    },
    {
      "cell_type": "code",
      "source": [
        "tip_pop.mean(),sample_mean# we can see the population mean and sample mean are approximate same."
      ],
      "metadata": {
        "colab": {
          "base_uri": "https://localhost:8080/"
        },
        "id": "eiIyWWw23C_S",
        "outputId": "9d59b5e9-efdf-46f1-bd25-b67ebe6a86ed"
      },
      "execution_count": 11,
      "outputs": [
        {
          "output_type": "execute_result",
          "data": {
            "text/plain": [
              "(2.99827868852459, 2.9491400000000003)"
            ]
          },
          "metadata": {},
          "execution_count": 11
        }
      ]
    },
    {
      "cell_type": "markdown",
      "source": [
        "one sample t-test for continous data. we have two continuous column in dataset(total bills, tips)\n"
      ],
      "metadata": {
        "id": "ECEScjVD3dHI"
      }
    },
    {
      "cell_type": "code",
      "source": [
        "#ones sample test for tota bills\n",
        "sample1=df.total_bill.sample(frac=0.04)"
      ],
      "metadata": {
        "id": "Ll_5d7aG322i"
      },
      "execution_count": 12,
      "outputs": []
    },
    {
      "cell_type": "code",
      "source": [
        "t_test,p_value=stats.ttest_1samp(sample1,df.total_bill.mean())"
      ],
      "metadata": {
        "id": "XeI__NOi43uT"
      },
      "execution_count": 13,
      "outputs": []
    },
    {
      "cell_type": "code",
      "source": [
        "t_test, p_value"
      ],
      "metadata": {
        "colab": {
          "base_uri": "https://localhost:8080/"
        },
        "id": "xlLfj2pU6Glb",
        "outputId": "959bec0a-7433-4b4b-a3a9-0949b03555cc"
      },
      "execution_count": 14,
      "outputs": [
        {
          "output_type": "execute_result",
          "data": {
            "text/plain": [
              "(0.939562340260046, 0.37197246651968385)"
            ]
          },
          "metadata": {},
          "execution_count": 14
        }
      ]
    },
    {
      "cell_type": "code",
      "source": [
        "if p_value<0.05:\n",
        "  print(\"Null Hypothesis H0 is rejected, Ha is accepted, independent, data not distributed properly\")\n",
        "else:\n",
        "  print(\"Null Hypothesis H0 is accepted, Ha is rejected, dependent, data is distributed properly\")"
      ],
      "metadata": {
        "colab": {
          "base_uri": "https://localhost:8080/"
        },
        "id": "zDKwJfJW6L5y",
        "outputId": "6518bade-3736-44ce-e38c-b6e2494b64c4"
      },
      "execution_count": 15,
      "outputs": [
        {
          "output_type": "stream",
          "name": "stdout",
          "text": [
            "Null Hypothesis H0 is accepted, Ha is rejected, dependent, data is distributed properly\n"
          ]
        }
      ]
    },
    {
      "cell_type": "code",
      "source": [
        "for i in range(30):\n",
        "  sample1=df.total_bill.sample(frac=0.04)\n",
        "  t_test,p_value=stats.ttest_1samp(sample1,df.total_bill.mean())\n",
        "  if p_value<0.05:\n",
        "    print(\"Null Hypothesis H0 is rejected, Ha is accepted, independent, data not distributed properly\")\n",
        "  else:\n",
        "    print(\"Null Hypothesis H0 is accepted, Ha is rejected, dependent, data is distributed properly\")\n"
      ],
      "metadata": {
        "colab": {
          "base_uri": "https://localhost:8080/"
        },
        "id": "RGmrv28s6oFz",
        "outputId": "ad5d645a-be5d-43b0-aa19-d968046714e9"
      },
      "execution_count": 16,
      "outputs": [
        {
          "output_type": "stream",
          "name": "stdout",
          "text": [
            "Null Hypothesis H0 is accepted, Ha is rejected, dependent, data is distributed properly\n",
            "Null Hypothesis H0 is accepted, Ha is rejected, dependent, data is distributed properly\n",
            "Null Hypothesis H0 is accepted, Ha is rejected, dependent, data is distributed properly\n",
            "Null Hypothesis H0 is accepted, Ha is rejected, dependent, data is distributed properly\n",
            "Null Hypothesis H0 is accepted, Ha is rejected, dependent, data is distributed properly\n",
            "Null Hypothesis H0 is accepted, Ha is rejected, dependent, data is distributed properly\n",
            "Null Hypothesis H0 is accepted, Ha is rejected, dependent, data is distributed properly\n",
            "Null Hypothesis H0 is rejected, Ha is accepted, independent, data not distributed properly\n",
            "Null Hypothesis H0 is accepted, Ha is rejected, dependent, data is distributed properly\n",
            "Null Hypothesis H0 is accepted, Ha is rejected, dependent, data is distributed properly\n",
            "Null Hypothesis H0 is rejected, Ha is accepted, independent, data not distributed properly\n",
            "Null Hypothesis H0 is accepted, Ha is rejected, dependent, data is distributed properly\n",
            "Null Hypothesis H0 is accepted, Ha is rejected, dependent, data is distributed properly\n",
            "Null Hypothesis H0 is rejected, Ha is accepted, independent, data not distributed properly\n",
            "Null Hypothesis H0 is accepted, Ha is rejected, dependent, data is distributed properly\n",
            "Null Hypothesis H0 is accepted, Ha is rejected, dependent, data is distributed properly\n",
            "Null Hypothesis H0 is accepted, Ha is rejected, dependent, data is distributed properly\n",
            "Null Hypothesis H0 is accepted, Ha is rejected, dependent, data is distributed properly\n",
            "Null Hypothesis H0 is accepted, Ha is rejected, dependent, data is distributed properly\n",
            "Null Hypothesis H0 is accepted, Ha is rejected, dependent, data is distributed properly\n",
            "Null Hypothesis H0 is accepted, Ha is rejected, dependent, data is distributed properly\n",
            "Null Hypothesis H0 is accepted, Ha is rejected, dependent, data is distributed properly\n",
            "Null Hypothesis H0 is accepted, Ha is rejected, dependent, data is distributed properly\n",
            "Null Hypothesis H0 is accepted, Ha is rejected, dependent, data is distributed properly\n",
            "Null Hypothesis H0 is accepted, Ha is rejected, dependent, data is distributed properly\n",
            "Null Hypothesis H0 is accepted, Ha is rejected, dependent, data is distributed properly\n",
            "Null Hypothesis H0 is accepted, Ha is rejected, dependent, data is distributed properly\n",
            "Null Hypothesis H0 is accepted, Ha is rejected, dependent, data is distributed properly\n",
            "Null Hypothesis H0 is accepted, Ha is rejected, dependent, data is distributed properly\n",
            "Null Hypothesis H0 is accepted, Ha is rejected, dependent, data is distributed properly\n"
          ]
        }
      ]
    },
    {
      "cell_type": "code",
      "source": [
        "#one sample t-test for tips\n",
        "for i in range(30):\n",
        "  sample1=df.tip.sample(frac=0.04)\n",
        "  t_test,p_value=stats.ttest_1samp(sample1,df.tip.mean())\n",
        "  if p_value<0.05:\n",
        "    print(\"Null Hypothesis H0 is rejected, Ha is accepted, independent, data not distributed properly\")\n",
        "  else:\n",
        "    print(\"Null Hypothesis H0 is accepted, Ha is rejected, dependent, data is distributed properly\")\n"
      ],
      "metadata": {
        "colab": {
          "base_uri": "https://localhost:8080/"
        },
        "id": "zB_qQ3rM7wfi",
        "outputId": "c03c2cfc-745c-4db2-da48-09ff0fa3cdbc"
      },
      "execution_count": 17,
      "outputs": [
        {
          "output_type": "stream",
          "name": "stdout",
          "text": [
            "Null Hypothesis H0 is accepted, Ha is rejected, dependent, data is distributed properly\n",
            "Null Hypothesis H0 is accepted, Ha is rejected, dependent, data is distributed properly\n",
            "Null Hypothesis H0 is accepted, Ha is rejected, dependent, data is distributed properly\n",
            "Null Hypothesis H0 is accepted, Ha is rejected, dependent, data is distributed properly\n",
            "Null Hypothesis H0 is accepted, Ha is rejected, dependent, data is distributed properly\n",
            "Null Hypothesis H0 is accepted, Ha is rejected, dependent, data is distributed properly\n",
            "Null Hypothesis H0 is accepted, Ha is rejected, dependent, data is distributed properly\n",
            "Null Hypothesis H0 is accepted, Ha is rejected, dependent, data is distributed properly\n",
            "Null Hypothesis H0 is accepted, Ha is rejected, dependent, data is distributed properly\n",
            "Null Hypothesis H0 is accepted, Ha is rejected, dependent, data is distributed properly\n",
            "Null Hypothesis H0 is accepted, Ha is rejected, dependent, data is distributed properly\n",
            "Null Hypothesis H0 is accepted, Ha is rejected, dependent, data is distributed properly\n",
            "Null Hypothesis H0 is accepted, Ha is rejected, dependent, data is distributed properly\n",
            "Null Hypothesis H0 is accepted, Ha is rejected, dependent, data is distributed properly\n",
            "Null Hypothesis H0 is accepted, Ha is rejected, dependent, data is distributed properly\n",
            "Null Hypothesis H0 is accepted, Ha is rejected, dependent, data is distributed properly\n",
            "Null Hypothesis H0 is accepted, Ha is rejected, dependent, data is distributed properly\n",
            "Null Hypothesis H0 is accepted, Ha is rejected, dependent, data is distributed properly\n",
            "Null Hypothesis H0 is accepted, Ha is rejected, dependent, data is distributed properly\n",
            "Null Hypothesis H0 is accepted, Ha is rejected, dependent, data is distributed properly\n",
            "Null Hypothesis H0 is accepted, Ha is rejected, dependent, data is distributed properly\n",
            "Null Hypothesis H0 is accepted, Ha is rejected, dependent, data is distributed properly\n",
            "Null Hypothesis H0 is accepted, Ha is rejected, dependent, data is distributed properly\n",
            "Null Hypothesis H0 is accepted, Ha is rejected, dependent, data is distributed properly\n",
            "Null Hypothesis H0 is accepted, Ha is rejected, dependent, data is distributed properly\n",
            "Null Hypothesis H0 is accepted, Ha is rejected, dependent, data is distributed properly\n",
            "Null Hypothesis H0 is accepted, Ha is rejected, dependent, data is distributed properly\n",
            "Null Hypothesis H0 is accepted, Ha is rejected, dependent, data is distributed properly\n",
            "Null Hypothesis H0 is accepted, Ha is rejected, dependent, data is distributed properly\n",
            "Null Hypothesis H0 is accepted, Ha is rejected, dependent, data is distributed properly\n"
          ]
        }
      ]
    },
    {
      "cell_type": "markdown",
      "source": [
        "for two continous vs continous we can use two sample t test, here we have total bill and tip column as continous so we are going to do two sample ttest"
      ],
      "metadata": {
        "id": "J_dDCBBx85FU"
      }
    },
    {
      "cell_type": "code",
      "source": [
        "for i in range(20):\n",
        "  sample1=df.tip.sample(frac=0.04)\n",
        "  sample2=df.total_bill.sample(frac=0.04)\n",
        "  t_test,p_value=stats.ttest_ind(sample1,sample2)\n",
        "  if p_value<0.05:\n",
        "    print(\"Null Hypothesis H0 is rejected, Ha is accepted, independent\")\n",
        "  else:\n",
        "    print(\"Null Hypothesis H0 is accepted, Ha is rejected, dependent\")\n",
        "\n"
      ],
      "metadata": {
        "colab": {
          "base_uri": "https://localhost:8080/"
        },
        "id": "EpX6LV2Q8swx",
        "outputId": "1f853762-5b61-4ab5-d0a7-e1f107ca2b96"
      },
      "execution_count": 18,
      "outputs": [
        {
          "output_type": "stream",
          "name": "stdout",
          "text": [
            "Null Hypothesis H0 is rejected, Ha is accepted, independent\n",
            "Null Hypothesis H0 is rejected, Ha is accepted, independent\n",
            "Null Hypothesis H0 is rejected, Ha is accepted, independent\n",
            "Null Hypothesis H0 is rejected, Ha is accepted, independent\n",
            "Null Hypothesis H0 is rejected, Ha is accepted, independent\n",
            "Null Hypothesis H0 is rejected, Ha is accepted, independent\n",
            "Null Hypothesis H0 is rejected, Ha is accepted, independent\n",
            "Null Hypothesis H0 is rejected, Ha is accepted, independent\n",
            "Null Hypothesis H0 is rejected, Ha is accepted, independent\n",
            "Null Hypothesis H0 is rejected, Ha is accepted, independent\n",
            "Null Hypothesis H0 is rejected, Ha is accepted, independent\n",
            "Null Hypothesis H0 is rejected, Ha is accepted, independent\n",
            "Null Hypothesis H0 is rejected, Ha is accepted, independent\n",
            "Null Hypothesis H0 is rejected, Ha is accepted, independent\n",
            "Null Hypothesis H0 is rejected, Ha is accepted, independent\n",
            "Null Hypothesis H0 is rejected, Ha is accepted, independent\n",
            "Null Hypothesis H0 is rejected, Ha is accepted, independent\n",
            "Null Hypothesis H0 is rejected, Ha is accepted, independent\n",
            "Null Hypothesis H0 is rejected, Ha is accepted, independent\n",
            "Null Hypothesis H0 is rejected, Ha is accepted, independent\n"
          ]
        }
      ]
    },
    {
      "cell_type": "markdown",
      "source": [
        "Two sample t test with using central limit theorem"
      ],
      "metadata": {
        "id": "xxmyrA4a_q4y"
      }
    },
    {
      "cell_type": "code",
      "source": [
        "t_test,p_value=stats.ttest_ind(allsample,allsample1)# allsample is the sample mean of total_bill, allsample1 is the sample mean of tip\n",
        "if p_value<0.05:\n",
        "    print(\"Null Hypothesis H0 is rejected, Ha is accepted, independent\")\n",
        "else:\n",
        "    print(\"Null Hypothesis H0 is accepted, Ha is rejected, dependent\")\n"
      ],
      "metadata": {
        "colab": {
          "base_uri": "https://localhost:8080/"
        },
        "id": "whlQJlCTAXla",
        "outputId": "d82514a2-8742-4a0a-c1df-a68f0e179e3b"
      },
      "execution_count": 19,
      "outputs": [
        {
          "output_type": "stream",
          "name": "stdout",
          "text": [
            "Null Hypothesis H0 is rejected, Ha is accepted, independent\n"
          ]
        }
      ]
    },
    {
      "cell_type": "markdown",
      "source": [
        "Now we are going to do hypothesisi testing for category data. we have 4 category so we'll be doing 10 chi square test\n",
        "\n",
        "sex, smoker   \n",
        "sex,day     \n",
        "sex,time    \n",
        "sex,size\n",
        "\n",
        "smoker, day\n",
        "smoker,time\n",
        "smoker, size\n",
        "\n",
        "day,time     \n",
        "day, size\n",
        "\n",
        "time,size\n"
      ],
      "metadata": {
        "id": "xXEdo2pEA3uH"
      }
    },
    {
      "cell_type": "code",
      "source": [
        "#sex, smoker\n",
        "data=pd.crosstab(df[\"sex\"],df[\"smoker\"])\n",
        "data"
      ],
      "metadata": {
        "colab": {
          "base_uri": "https://localhost:8080/",
          "height": 144
        },
        "id": "h1K62UBoAfQq",
        "outputId": "a5136377-ad73-4489-a7e2-5e7e46ec851d"
      },
      "execution_count": 20,
      "outputs": [
        {
          "output_type": "execute_result",
          "data": {
            "text/plain": [
              "smoker  Yes  No\n",
              "sex            \n",
              "Male     60  97\n",
              "Female   33  54"
            ],
            "text/html": [
              "\n",
              "  <div id=\"df-45e0e542-0306-462c-887c-b859fdfc2441\" class=\"colab-df-container\">\n",
              "    <div>\n",
              "<style scoped>\n",
              "    .dataframe tbody tr th:only-of-type {\n",
              "        vertical-align: middle;\n",
              "    }\n",
              "\n",
              "    .dataframe tbody tr th {\n",
              "        vertical-align: top;\n",
              "    }\n",
              "\n",
              "    .dataframe thead th {\n",
              "        text-align: right;\n",
              "    }\n",
              "</style>\n",
              "<table border=\"1\" class=\"dataframe\">\n",
              "  <thead>\n",
              "    <tr style=\"text-align: right;\">\n",
              "      <th>smoker</th>\n",
              "      <th>Yes</th>\n",
              "      <th>No</th>\n",
              "    </tr>\n",
              "    <tr>\n",
              "      <th>sex</th>\n",
              "      <th></th>\n",
              "      <th></th>\n",
              "    </tr>\n",
              "  </thead>\n",
              "  <tbody>\n",
              "    <tr>\n",
              "      <th>Male</th>\n",
              "      <td>60</td>\n",
              "      <td>97</td>\n",
              "    </tr>\n",
              "    <tr>\n",
              "      <th>Female</th>\n",
              "      <td>33</td>\n",
              "      <td>54</td>\n",
              "    </tr>\n",
              "  </tbody>\n",
              "</table>\n",
              "</div>\n",
              "    <div class=\"colab-df-buttons\">\n",
              "\n",
              "  <div class=\"colab-df-container\">\n",
              "    <button class=\"colab-df-convert\" onclick=\"convertToInteractive('df-45e0e542-0306-462c-887c-b859fdfc2441')\"\n",
              "            title=\"Convert this dataframe to an interactive table.\"\n",
              "            style=\"display:none;\">\n",
              "\n",
              "  <svg xmlns=\"http://www.w3.org/2000/svg\" height=\"24px\" viewBox=\"0 -960 960 960\">\n",
              "    <path d=\"M120-120v-720h720v720H120Zm60-500h600v-160H180v160Zm220 220h160v-160H400v160Zm0 220h160v-160H400v160ZM180-400h160v-160H180v160Zm440 0h160v-160H620v160ZM180-180h160v-160H180v160Zm440 0h160v-160H620v160Z\"/>\n",
              "  </svg>\n",
              "    </button>\n",
              "\n",
              "  <style>\n",
              "    .colab-df-container {\n",
              "      display:flex;\n",
              "      gap: 12px;\n",
              "    }\n",
              "\n",
              "    .colab-df-convert {\n",
              "      background-color: #E8F0FE;\n",
              "      border: none;\n",
              "      border-radius: 50%;\n",
              "      cursor: pointer;\n",
              "      display: none;\n",
              "      fill: #1967D2;\n",
              "      height: 32px;\n",
              "      padding: 0 0 0 0;\n",
              "      width: 32px;\n",
              "    }\n",
              "\n",
              "    .colab-df-convert:hover {\n",
              "      background-color: #E2EBFA;\n",
              "      box-shadow: 0px 1px 2px rgba(60, 64, 67, 0.3), 0px 1px 3px 1px rgba(60, 64, 67, 0.15);\n",
              "      fill: #174EA6;\n",
              "    }\n",
              "\n",
              "    .colab-df-buttons div {\n",
              "      margin-bottom: 4px;\n",
              "    }\n",
              "\n",
              "    [theme=dark] .colab-df-convert {\n",
              "      background-color: #3B4455;\n",
              "      fill: #D2E3FC;\n",
              "    }\n",
              "\n",
              "    [theme=dark] .colab-df-convert:hover {\n",
              "      background-color: #434B5C;\n",
              "      box-shadow: 0px 1px 3px 1px rgba(0, 0, 0, 0.15);\n",
              "      filter: drop-shadow(0px 1px 2px rgba(0, 0, 0, 0.3));\n",
              "      fill: #FFFFFF;\n",
              "    }\n",
              "  </style>\n",
              "\n",
              "    <script>\n",
              "      const buttonEl =\n",
              "        document.querySelector('#df-45e0e542-0306-462c-887c-b859fdfc2441 button.colab-df-convert');\n",
              "      buttonEl.style.display =\n",
              "        google.colab.kernel.accessAllowed ? 'block' : 'none';\n",
              "\n",
              "      async function convertToInteractive(key) {\n",
              "        const element = document.querySelector('#df-45e0e542-0306-462c-887c-b859fdfc2441');\n",
              "        const dataTable =\n",
              "          await google.colab.kernel.invokeFunction('convertToInteractive',\n",
              "                                                    [key], {});\n",
              "        if (!dataTable) return;\n",
              "\n",
              "        const docLinkHtml = 'Like what you see? Visit the ' +\n",
              "          '<a target=\"_blank\" href=https://colab.research.google.com/notebooks/data_table.ipynb>data table notebook</a>'\n",
              "          + ' to learn more about interactive tables.';\n",
              "        element.innerHTML = '';\n",
              "        dataTable['output_type'] = 'display_data';\n",
              "        await google.colab.output.renderOutput(dataTable, element);\n",
              "        const docLink = document.createElement('div');\n",
              "        docLink.innerHTML = docLinkHtml;\n",
              "        element.appendChild(docLink);\n",
              "      }\n",
              "    </script>\n",
              "  </div>\n",
              "\n",
              "\n",
              "<div id=\"df-bf45ef44-3034-490b-91b8-8b8891d23632\">\n",
              "  <button class=\"colab-df-quickchart\" onclick=\"quickchart('df-bf45ef44-3034-490b-91b8-8b8891d23632')\"\n",
              "            title=\"Suggest charts\"\n",
              "            style=\"display:none;\">\n",
              "\n",
              "<svg xmlns=\"http://www.w3.org/2000/svg\" height=\"24px\"viewBox=\"0 0 24 24\"\n",
              "     width=\"24px\">\n",
              "    <g>\n",
              "        <path d=\"M19 3H5c-1.1 0-2 .9-2 2v14c0 1.1.9 2 2 2h14c1.1 0 2-.9 2-2V5c0-1.1-.9-2-2-2zM9 17H7v-7h2v7zm4 0h-2V7h2v10zm4 0h-2v-4h2v4z\"/>\n",
              "    </g>\n",
              "</svg>\n",
              "  </button>\n",
              "\n",
              "<style>\n",
              "  .colab-df-quickchart {\n",
              "      --bg-color: #E8F0FE;\n",
              "      --fill-color: #1967D2;\n",
              "      --hover-bg-color: #E2EBFA;\n",
              "      --hover-fill-color: #174EA6;\n",
              "      --disabled-fill-color: #AAA;\n",
              "      --disabled-bg-color: #DDD;\n",
              "  }\n",
              "\n",
              "  [theme=dark] .colab-df-quickchart {\n",
              "      --bg-color: #3B4455;\n",
              "      --fill-color: #D2E3FC;\n",
              "      --hover-bg-color: #434B5C;\n",
              "      --hover-fill-color: #FFFFFF;\n",
              "      --disabled-bg-color: #3B4455;\n",
              "      --disabled-fill-color: #666;\n",
              "  }\n",
              "\n",
              "  .colab-df-quickchart {\n",
              "    background-color: var(--bg-color);\n",
              "    border: none;\n",
              "    border-radius: 50%;\n",
              "    cursor: pointer;\n",
              "    display: none;\n",
              "    fill: var(--fill-color);\n",
              "    height: 32px;\n",
              "    padding: 0;\n",
              "    width: 32px;\n",
              "  }\n",
              "\n",
              "  .colab-df-quickchart:hover {\n",
              "    background-color: var(--hover-bg-color);\n",
              "    box-shadow: 0 1px 2px rgba(60, 64, 67, 0.3), 0 1px 3px 1px rgba(60, 64, 67, 0.15);\n",
              "    fill: var(--button-hover-fill-color);\n",
              "  }\n",
              "\n",
              "  .colab-df-quickchart-complete:disabled,\n",
              "  .colab-df-quickchart-complete:disabled:hover {\n",
              "    background-color: var(--disabled-bg-color);\n",
              "    fill: var(--disabled-fill-color);\n",
              "    box-shadow: none;\n",
              "  }\n",
              "\n",
              "  .colab-df-spinner {\n",
              "    border: 2px solid var(--fill-color);\n",
              "    border-color: transparent;\n",
              "    border-bottom-color: var(--fill-color);\n",
              "    animation:\n",
              "      spin 1s steps(1) infinite;\n",
              "  }\n",
              "\n",
              "  @keyframes spin {\n",
              "    0% {\n",
              "      border-color: transparent;\n",
              "      border-bottom-color: var(--fill-color);\n",
              "      border-left-color: var(--fill-color);\n",
              "    }\n",
              "    20% {\n",
              "      border-color: transparent;\n",
              "      border-left-color: var(--fill-color);\n",
              "      border-top-color: var(--fill-color);\n",
              "    }\n",
              "    30% {\n",
              "      border-color: transparent;\n",
              "      border-left-color: var(--fill-color);\n",
              "      border-top-color: var(--fill-color);\n",
              "      border-right-color: var(--fill-color);\n",
              "    }\n",
              "    40% {\n",
              "      border-color: transparent;\n",
              "      border-right-color: var(--fill-color);\n",
              "      border-top-color: var(--fill-color);\n",
              "    }\n",
              "    60% {\n",
              "      border-color: transparent;\n",
              "      border-right-color: var(--fill-color);\n",
              "    }\n",
              "    80% {\n",
              "      border-color: transparent;\n",
              "      border-right-color: var(--fill-color);\n",
              "      border-bottom-color: var(--fill-color);\n",
              "    }\n",
              "    90% {\n",
              "      border-color: transparent;\n",
              "      border-bottom-color: var(--fill-color);\n",
              "    }\n",
              "  }\n",
              "</style>\n",
              "\n",
              "  <script>\n",
              "    async function quickchart(key) {\n",
              "      const quickchartButtonEl =\n",
              "        document.querySelector('#' + key + ' button');\n",
              "      quickchartButtonEl.disabled = true;  // To prevent multiple clicks.\n",
              "      quickchartButtonEl.classList.add('colab-df-spinner');\n",
              "      try {\n",
              "        const charts = await google.colab.kernel.invokeFunction(\n",
              "            'suggestCharts', [key], {});\n",
              "      } catch (error) {\n",
              "        console.error('Error during call to suggestCharts:', error);\n",
              "      }\n",
              "      quickchartButtonEl.classList.remove('colab-df-spinner');\n",
              "      quickchartButtonEl.classList.add('colab-df-quickchart-complete');\n",
              "    }\n",
              "    (() => {\n",
              "      let quickchartButtonEl =\n",
              "        document.querySelector('#df-bf45ef44-3034-490b-91b8-8b8891d23632 button');\n",
              "      quickchartButtonEl.style.display =\n",
              "        google.colab.kernel.accessAllowed ? 'block' : 'none';\n",
              "    })();\n",
              "  </script>\n",
              "</div>\n",
              "\n",
              "  <div id=\"id_1015c97d-9737-4448-89ef-e00b569e9db9\">\n",
              "    <style>\n",
              "      .colab-df-generate {\n",
              "        background-color: #E8F0FE;\n",
              "        border: none;\n",
              "        border-radius: 50%;\n",
              "        cursor: pointer;\n",
              "        display: none;\n",
              "        fill: #1967D2;\n",
              "        height: 32px;\n",
              "        padding: 0 0 0 0;\n",
              "        width: 32px;\n",
              "      }\n",
              "\n",
              "      .colab-df-generate:hover {\n",
              "        background-color: #E2EBFA;\n",
              "        box-shadow: 0px 1px 2px rgba(60, 64, 67, 0.3), 0px 1px 3px 1px rgba(60, 64, 67, 0.15);\n",
              "        fill: #174EA6;\n",
              "      }\n",
              "\n",
              "      [theme=dark] .colab-df-generate {\n",
              "        background-color: #3B4455;\n",
              "        fill: #D2E3FC;\n",
              "      }\n",
              "\n",
              "      [theme=dark] .colab-df-generate:hover {\n",
              "        background-color: #434B5C;\n",
              "        box-shadow: 0px 1px 3px 1px rgba(0, 0, 0, 0.15);\n",
              "        filter: drop-shadow(0px 1px 2px rgba(0, 0, 0, 0.3));\n",
              "        fill: #FFFFFF;\n",
              "      }\n",
              "    </style>\n",
              "    <button class=\"colab-df-generate\" onclick=\"generateWithVariable('data')\"\n",
              "            title=\"Generate code using this dataframe.\"\n",
              "            style=\"display:none;\">\n",
              "\n",
              "  <svg xmlns=\"http://www.w3.org/2000/svg\" height=\"24px\"viewBox=\"0 0 24 24\"\n",
              "       width=\"24px\">\n",
              "    <path d=\"M7,19H8.4L18.45,9,17,7.55,7,17.6ZM5,21V16.75L18.45,3.32a2,2,0,0,1,2.83,0l1.4,1.43a1.91,1.91,0,0,1,.58,1.4,1.91,1.91,0,0,1-.58,1.4L9.25,21ZM18.45,9,17,7.55Zm-12,3A5.31,5.31,0,0,0,4.9,8.1,5.31,5.31,0,0,0,1,6.5,5.31,5.31,0,0,0,4.9,4.9,5.31,5.31,0,0,0,6.5,1,5.31,5.31,0,0,0,8.1,4.9,5.31,5.31,0,0,0,12,6.5,5.46,5.46,0,0,0,6.5,12Z\"/>\n",
              "  </svg>\n",
              "    </button>\n",
              "    <script>\n",
              "      (() => {\n",
              "      const buttonEl =\n",
              "        document.querySelector('#id_1015c97d-9737-4448-89ef-e00b569e9db9 button.colab-df-generate');\n",
              "      buttonEl.style.display =\n",
              "        google.colab.kernel.accessAllowed ? 'block' : 'none';\n",
              "\n",
              "      buttonEl.onclick = () => {\n",
              "        google.colab.notebook.generateWithVariable('data');\n",
              "      }\n",
              "      })();\n",
              "    </script>\n",
              "  </div>\n",
              "\n",
              "    </div>\n",
              "  </div>\n"
            ],
            "application/vnd.google.colaboratory.intrinsic+json": {
              "type": "dataframe",
              "variable_name": "data",
              "summary": "{\n  \"name\": \"data\",\n  \"rows\": 2,\n  \"fields\": [\n    {\n      \"column\": \"sex\",\n      \"properties\": {\n        \"dtype\": \"category\",\n        \"num_unique_values\": 2,\n        \"samples\": [\n          \"Female\",\n          \"Male\"\n        ],\n        \"semantic_type\": \"\",\n        \"description\": \"\"\n      }\n    },\n    {\n      \"column\": \"Yes\",\n      \"properties\": {\n        \"dtype\": \"number\",\n        \"std\": 19,\n        \"min\": 33,\n        \"max\": 60,\n        \"num_unique_values\": 2,\n        \"samples\": [\n          33,\n          60\n        ],\n        \"semantic_type\": \"\",\n        \"description\": \"\"\n      }\n    },\n    {\n      \"column\": \"No\",\n      \"properties\": {\n        \"dtype\": \"number\",\n        \"std\": 30,\n        \"min\": 54,\n        \"max\": 97,\n        \"num_unique_values\": 2,\n        \"samples\": [\n          54,\n          97\n        ],\n        \"semantic_type\": \"\",\n        \"description\": \"\"\n      }\n    }\n  ]\n}"
            }
          },
          "metadata": {},
          "execution_count": 20
        }
      ]
    },
    {
      "cell_type": "code",
      "source": [
        "observed_values = data.values\n",
        "observed_values"
      ],
      "metadata": {
        "colab": {
          "base_uri": "https://localhost:8080/"
        },
        "id": "HAmUNx7nD7OC",
        "outputId": "f4bee259-c6e7-47aa-ca6f-88d616cd7421"
      },
      "execution_count": 21,
      "outputs": [
        {
          "output_type": "execute_result",
          "data": {
            "text/plain": [
              "array([[60, 97],\n",
              "       [33, 54]])"
            ]
          },
          "metadata": {},
          "execution_count": 21
        }
      ]
    },
    {
      "cell_type": "code",
      "source": [
        "value=stats.chi2_contingency(observed_values)\n",
        "value"
      ],
      "metadata": {
        "colab": {
          "base_uri": "https://localhost:8080/"
        },
        "id": "ZvFqdBlNFAGM",
        "outputId": "550f006a-65a1-46d7-b152-cb32e05a3251"
      },
      "execution_count": 22,
      "outputs": [
        {
          "output_type": "execute_result",
          "data": {
            "text/plain": [
              "Chi2ContingencyResult(statistic=0.0, pvalue=1.0, dof=1, expected_freq=array([[59.84016393, 97.15983607],\n",
              "       [33.15983607, 53.84016393]]))"
            ]
          },
          "metadata": {},
          "execution_count": 22
        }
      ]
    },
    {
      "cell_type": "code",
      "source": [
        "p_value=value[1]\n",
        "p_value"
      ],
      "metadata": {
        "colab": {
          "base_uri": "https://localhost:8080/"
        },
        "id": "RyNsgxFRHYfQ",
        "outputId": "d7f16ac1-2f2c-4924-9e09-2098637be245"
      },
      "execution_count": 23,
      "outputs": [
        {
          "output_type": "execute_result",
          "data": {
            "text/plain": [
              "1.0"
            ]
          },
          "metadata": {},
          "execution_count": 23
        }
      ]
    },
    {
      "cell_type": "code",
      "source": [
        "if(p_value<0.05):\n",
        "  print(\"H0 - Null hypothesis is rejected and Ha is accepted that means there exists a relationship between the mentioned columns\")\n",
        "else:\n",
        "  print(\"H0 - Null hypothesis is accepted and Ha is rejected that means there exists no relationship between the mentioned columns\")"
      ],
      "metadata": {
        "colab": {
          "base_uri": "https://localhost:8080/"
        },
        "id": "1NExxDNFFic7",
        "outputId": "ed4dfa93-1d10-45af-d6d3-1949124c8911"
      },
      "execution_count": 24,
      "outputs": [
        {
          "output_type": "stream",
          "name": "stdout",
          "text": [
            "H0 - Null hypothesis is accepted and Ha is rejected that means there exists no relationship between the mentioned columns\n"
          ]
        }
      ]
    },
    {
      "cell_type": "code",
      "source": [
        "#sex,day\n",
        "data1=pd.crosstab(df[\"sex\"],df[\"day\"])\n",
        "observed_values = data1.values\n",
        "value=stats.chi2_contingency(observed_values)\n",
        "p_value=value[1]\n",
        "if(p_value<0.05):\n",
        "  print(\"H0 - Null hypothesis is rejected and Ha is accepted that means there exists a relationship between the mentioned columns\")\n",
        "else:\n",
        "  print(\"H0 - Null hypothesis is accepted and Ha is rejected that means there exists no relationship between the mentioned columns\")"
      ],
      "metadata": {
        "colab": {
          "base_uri": "https://localhost:8080/"
        },
        "id": "E8UeASoyH6yf",
        "outputId": "e3023cb4-acc0-4550-a075-c83e07008613"
      },
      "execution_count": 25,
      "outputs": [
        {
          "output_type": "stream",
          "name": "stdout",
          "text": [
            "H0 - Null hypothesis is rejected and Ha is accepted that means there exists a relationship between the mentioned columns\n"
          ]
        }
      ]
    },
    {
      "cell_type": "code",
      "source": [
        "#sex,time\n",
        "data2=pd.crosstab(df[\"sex\"],df[\"time\"])\n",
        "observed_values = data2.values\n",
        "value=stats.chi2_contingency(observed_values)\n",
        "p_value=value[1]\n",
        "if(p_value<0.05):\n",
        "  print(\"H0 - Null hypothesis is rejected and Ha is accepted that means there exists a relationship between the mentioned columns\")\n",
        "else:\n",
        "  print(\"H0 - Null hypothesis is accepted and Ha is rejected that means there exists no relationship between the mentioned columns\")"
      ],
      "metadata": {
        "colab": {
          "base_uri": "https://localhost:8080/"
        },
        "id": "wq_YUvqPIc7D",
        "outputId": "090d01e5-8d81-4188-c780-d4de449912c2"
      },
      "execution_count": 26,
      "outputs": [
        {
          "output_type": "stream",
          "name": "stdout",
          "text": [
            "H0 - Null hypothesis is rejected and Ha is accepted that means there exists a relationship between the mentioned columns\n"
          ]
        }
      ]
    },
    {
      "cell_type": "code",
      "source": [
        "#sex, size\n",
        "data3=pd.crosstab(df[\"sex\"],df[\"size\"])\n",
        "observed_values = data3.values\n",
        "value=stats.chi2_contingency(observed_values)\n",
        "p_value=value[1]\n",
        "if(p_value<0.05):\n",
        "  print(\"H0 - Null hypothesis is rejected and Ha is accepted that means there exists a relationship between the mentioned columns\")\n",
        "else:\n",
        "  print(\"H0 - Null hypothesis is accepted and Ha is rejected that means there exists no relationship between the mentioned columns\")"
      ],
      "metadata": {
        "colab": {
          "base_uri": "https://localhost:8080/"
        },
        "id": "A3O0uhXZIwPn",
        "outputId": "09fd3c8f-67f3-4146-f036-416777c89fee"
      },
      "execution_count": 27,
      "outputs": [
        {
          "output_type": "stream",
          "name": "stdout",
          "text": [
            "H0 - Null hypothesis is accepted and Ha is rejected that means there exists no relationship between the mentioned columns\n"
          ]
        }
      ]
    },
    {
      "cell_type": "code",
      "source": [
        "#smoker, day\n",
        "data4=pd.crosstab(df[\"smoker\"],df[\"day\"])\n",
        "observed_values = data4.values\n",
        "value=stats.chi2_contingency(observed_values)\n",
        "p_value=value[1]\n",
        "if(p_value<0.05):\n",
        "  print(\"H0 - Null hypothesis is rejected and Ha is accepted that means there exists a relationship between the mentioned columns\")\n",
        "else:\n",
        "  print(\"H0 - Null hypothesis is accepted and Ha is rejected that means there exists no relationship between the mentioned columns\")"
      ],
      "metadata": {
        "colab": {
          "base_uri": "https://localhost:8080/"
        },
        "id": "fZR4Z6W1ItW6",
        "outputId": "d9613355-ca17-48cc-c2ad-8112cd166f58"
      },
      "execution_count": 28,
      "outputs": [
        {
          "output_type": "stream",
          "name": "stdout",
          "text": [
            "H0 - Null hypothesis is rejected and Ha is accepted that means there exists a relationship between the mentioned columns\n"
          ]
        }
      ]
    },
    {
      "cell_type": "code",
      "source": [
        "#smoker, time\n",
        "data5=pd.crosstab(df[\"smoker\"],df[\"time\"])\n",
        "observed_values = data5.values\n",
        "value=stats.chi2_contingency(observed_values)\n",
        "p_value=value[1]\n",
        "if(p_value<0.05):\n",
        "  print(\"H0 - Null hypothesis is rejected and Ha is accepted that means there exists a relationship between the mentioned columns\")\n",
        "else:\n",
        "  print(\"H0 - Null hypothesis is accepted and Ha is rejected that means there exists no relationship between the mentioned columns\")"
      ],
      "metadata": {
        "colab": {
          "base_uri": "https://localhost:8080/"
        },
        "id": "zRlAh_w0KE7h",
        "outputId": "be1ce7b3-47e1-4461-8279-6643936219dd"
      },
      "execution_count": 29,
      "outputs": [
        {
          "output_type": "stream",
          "name": "stdout",
          "text": [
            "H0 - Null hypothesis is accepted and Ha is rejected that means there exists no relationship between the mentioned columns\n"
          ]
        }
      ]
    },
    {
      "cell_type": "code",
      "source": [
        "#smoker, size\n",
        "data6=pd.crosstab(df[\"smoker\"],df[\"size\"])\n",
        "observed_values = data6.values\n",
        "value=stats.chi2_contingency(observed_values)\n",
        "p_value=value[1]\n",
        "if(p_value<0.05):\n",
        "  print(\"H0 - Null hypothesis is rejected and Ha is accepted that means there exists a relationship between the mentioned columns\")\n",
        "else:\n",
        "  print(\"H0 - Null hypothesis is accepted and Ha is rejected that means there exists no relationship between the mentioned columns\")"
      ],
      "metadata": {
        "colab": {
          "base_uri": "https://localhost:8080/"
        },
        "id": "xRIEqm6KKXIj",
        "outputId": "8f75363a-0f3a-4933-9129-315c2f0a3807"
      },
      "execution_count": 30,
      "outputs": [
        {
          "output_type": "stream",
          "name": "stdout",
          "text": [
            "H0 - Null hypothesis is accepted and Ha is rejected that means there exists no relationship between the mentioned columns\n"
          ]
        }
      ]
    },
    {
      "cell_type": "code",
      "source": [
        "#day,time\n",
        "data7=pd.crosstab(df[\"day\"],df[\"time\"])\n",
        "observed_values = data7.values\n",
        "value=stats.chi2_contingency(observed_values)\n",
        "p_value=value[1]\n",
        "if(p_value<0.05):\n",
        "  print(\"H0 - Null hypothesis is rejected and Ha is accepted that means there exists a relationship between the mentioned columns\")\n",
        "else:\n",
        "  print(\"H0 - Null hypothesis is accepted and Ha is rejected that means there exists no relationship between the mentioned columns\")"
      ],
      "metadata": {
        "colab": {
          "base_uri": "https://localhost:8080/"
        },
        "id": "jntnC4EtKtOi",
        "outputId": "fd14d3db-6bd2-4de9-ac35-e84a0f24db7e"
      },
      "execution_count": 31,
      "outputs": [
        {
          "output_type": "stream",
          "name": "stdout",
          "text": [
            "H0 - Null hypothesis is rejected and Ha is accepted that means there exists a relationship between the mentioned columns\n"
          ]
        }
      ]
    },
    {
      "cell_type": "code",
      "source": [
        "#day,size\n",
        "data8=pd.crosstab(df[\"day\"],df[\"size\"])\n",
        "observed_values = data8.values\n",
        "value=stats.chi2_contingency(observed_values)\n",
        "p_value=value[1]\n",
        "if(p_value<0.05):\n",
        "  print(\"H0 - Null hypothesis is rejected and Ha is accepted that means there exists a relationship between the mentioned columns\")\n",
        "else:\n",
        "  print(\"H0 - Null hypothesis is accepted and Ha is rejected that means there exists no relationship between the mentioned columns\")"
      ],
      "metadata": {
        "colab": {
          "base_uri": "https://localhost:8080/"
        },
        "id": "mijEo8xRLbxb",
        "outputId": "eff1fb8b-b4ad-4008-9cba-43e193e5c38f"
      },
      "execution_count": 32,
      "outputs": [
        {
          "output_type": "stream",
          "name": "stdout",
          "text": [
            "H0 - Null hypothesis is rejected and Ha is accepted that means there exists a relationship between the mentioned columns\n"
          ]
        }
      ]
    },
    {
      "cell_type": "code",
      "source": [
        "#time,size\n",
        "data9=pd.crosstab(df[\"time\"],df[\"size\"])\n",
        "observed_values = data9.values\n",
        "value=stats.chi2_contingency(observed_values)\n",
        "p_value=value[1]\n",
        "if(p_value<0.05):\n",
        "  print(\"H0 - Null hypothesis is rejected and Ha is accepted that means there exists a relationship between the mentioned columns\")\n",
        "else:\n",
        "  print(\"H0 - Null hypothesis is accepted and Ha is rejected that means there exists no relationship between the mentioned columns\")"
      ],
      "metadata": {
        "colab": {
          "base_uri": "https://localhost:8080/"
        },
        "id": "MLb63FejLuMw",
        "outputId": "4581d42e-81ca-4b04-f077-ec575704d5f8"
      },
      "execution_count": 33,
      "outputs": [
        {
          "output_type": "stream",
          "name": "stdout",
          "text": [
            "H0 - Null hypothesis is rejected and Ha is accepted that means there exists a relationship between the mentioned columns\n"
          ]
        }
      ]
    },
    {
      "cell_type": "markdown",
      "source": [
        "Now we are going to do hypothesis testing for Continous and category data.we will be doing annova test\n",
        "\n",
        "- Total_bill, smoker\n",
        "- total_bill,sex\n",
        "- bill,day\n",
        "- bill,time\n",
        "- bill,size\n",
        "\n",
        "- tip, sex\n",
        "-tip,smoke\n",
        "- tip,day\n",
        "- tip,time\n",
        "- tip,size"
      ],
      "metadata": {
        "id": "7MDyf8iKNXSV"
      }
    },
    {
      "cell_type": "code",
      "source": [
        "# Total_bill, smoker\n",
        "group=df.smoker.unique()\n",
        "grp={}\n",
        "for i in group:\n",
        "  grp[i]=df['total_bill'][df[\"smoker\"]==i]\n",
        "\n",
        "f_value, p_value=stats.f_oneway(grp[\"Yes\"],grp[\"No\"])\n",
        "print(f_value, p_value)\n",
        "if p_value<0.05:\n",
        "  print(\"H0 - Null hypothesis is rejected which means no relationship exists\")\n",
        "else:\n",
        "  print(\"H0 - Null hypothesis is accepted which means relationship exists\")\n",
        "\n"
      ],
      "metadata": {
        "colab": {
          "base_uri": "https://localhost:8080/"
        },
        "id": "_DqSskNo-sxU",
        "outputId": "a55fb1b5-5dcb-4756-db75-d2366a830c4e"
      },
      "execution_count": 34,
      "outputs": [
        {
          "output_type": "stream",
          "name": "stdout",
          "text": [
            "1.7914119525962602 0.18201032884302323\n",
            "H0 - Null hypothesis is accepted which means relationship exists\n"
          ]
        }
      ]
    },
    {
      "cell_type": "code",
      "source": [
        "#total_bill, sex\n",
        "group=df.sex.unique()\n",
        "grp={}\n",
        "for i in group:\n",
        "  grp[i]=df['total_bill'][df[\"sex\"]==i]\n",
        "\n",
        "f_value, p_value=stats.f_oneway(grp[\"Female\"],grp[\"Male\"])\n",
        "print(f_value, p_value)\n",
        "if p_value<0.05:\n",
        "  print(\"H0 - Null hypothesis is rejected which means no relationship exists\")\n",
        "else:\n",
        "  print(\"H0 - Null hypothesis is accepted which means relationship exists\")"
      ],
      "metadata": {
        "colab": {
          "base_uri": "https://localhost:8080/"
        },
        "id": "2jSKrKdDCZf0",
        "outputId": "cb5948fa-25d3-41f6-c3df-42457f0a1974"
      },
      "execution_count": 35,
      "outputs": [
        {
          "output_type": "stream",
          "name": "stdout",
          "text": [
            "5.188345638458361 0.023611666846859697\n",
            "H0 - Null hypothesis is rejected which means no relationship exists\n"
          ]
        }
      ]
    },
    {
      "cell_type": "code",
      "source": [
        "#total_bill, day\n",
        "group=df.day.unique()\n",
        "grp={}\n",
        "for i in group:\n",
        "  grp[i]=df['total_bill'][df[\"day\"]==i]\n",
        "f_value, p_value=stats.f_oneway(grp[\"Thur\"],grp[\"Fri\"],grp[\"Sat\"],grp[\"Sun\"])\n",
        "print(f_value, p_value)\n",
        "if p_value<0.05:\n",
        "  print(\"H0 - Null hypothesis is rejected which means no relationship exists\")\n",
        "else:\n",
        "  print(\"H0 - Null hypothesis is accepted which means relationship exists\")"
      ],
      "metadata": {
        "colab": {
          "base_uri": "https://localhost:8080/"
        },
        "id": "XZGiqWYZEgrI",
        "outputId": "8d355601-4acc-42f0-c047-d87943654bf4"
      },
      "execution_count": 36,
      "outputs": [
        {
          "output_type": "stream",
          "name": "stdout",
          "text": [
            "2.7674794432863363 0.04245383328952047\n",
            "H0 - Null hypothesis is rejected which means no relationship exists\n"
          ]
        }
      ]
    },
    {
      "cell_type": "code",
      "source": [
        "#total_bill,time\n",
        "group=df.time.unique()\n",
        "grp={}\n",
        "for i in group:\n",
        "  grp[i]=df['total_bill'][df[\"time\"]==i]\n",
        "f_value, p_value=stats.f_oneway(grp[\"Lunch\"],grp[\"Dinner\"])\n",
        "print(f_value, p_value)\n",
        "if p_value<0.05:\n",
        "  print(\"H0 - Null hypothesis is rejected which means no relationship exists\")\n",
        "else:\n",
        "  print(\"H0 - Null hypothesis is accepted which means relationship exists\")"
      ],
      "metadata": {
        "colab": {
          "base_uri": "https://localhost:8080/"
        },
        "id": "dvTPGbX_FIxh",
        "outputId": "d5934522-17cc-49bc-e45a-b2318f54e794"
      },
      "execution_count": 37,
      "outputs": [
        {
          "output_type": "stream",
          "name": "stdout",
          "text": [
            "8.396303207955595 0.00410462140759571\n",
            "H0 - Null hypothesis is rejected which means no relationship exists\n"
          ]
        }
      ]
    },
    {
      "cell_type": "code",
      "source": [
        "# totl_bill,size\n",
        "group=df['size'].unique()\n",
        "grp={}\n",
        "for i in group:\n",
        "  grp[i]=df['total_bill'][df[\"size\"]==i]\n",
        "f_value, p_value=stats.f_oneway(grp[1],grp[2],grp[3],grp[4],grp[5],grp[6])\n",
        "print(f_value, p_value)\n",
        "if p_value<0.05:\n",
        "  print(\"H0 - Null hypothesis is rejected which means no relationship exists\")\n",
        "else:\n",
        "  print(\"H0 - Null hypothesis is accepted which means relationship exists\")"
      ],
      "metadata": {
        "colab": {
          "base_uri": "https://localhost:8080/"
        },
        "id": "iOiMZCUMFyBo",
        "outputId": "9f2ce9d4-1aa3-4367-9bc0-828c381b1cfa"
      },
      "execution_count": 38,
      "outputs": [
        {
          "output_type": "stream",
          "name": "stdout",
          "text": [
            "28.09461523749822 2.434919254210166e-22\n",
            "H0 - Null hypothesis is rejected which means no relationship exists\n"
          ]
        }
      ]
    },
    {
      "cell_type": "code",
      "source": [
        "#tip, smoker\n",
        "group=df.smoker.unique()\n",
        "grp={}\n",
        "for i in group:\n",
        "  grp[i]=df['tip'][df[\"smoker\"]==i]\n",
        "\n",
        "f_value, p_value=stats.f_oneway(grp[\"Yes\"],grp[\"No\"])\n",
        "print(f_value, p_value)\n",
        "if p_value<0.05:\n",
        "  print(\"H0 - Null hypothesis is rejected which means no relationship exists\")\n",
        "else:\n",
        "  print(\"H0 - Null hypothesis is accepted which means relationship exists\")\n"
      ],
      "metadata": {
        "colab": {
          "base_uri": "https://localhost:8080/"
        },
        "id": "mvk4ySzQGXRe",
        "outputId": "e823165f-76b5-49f9-8ad2-980c7cc30329"
      },
      "execution_count": 39,
      "outputs": [
        {
          "output_type": "stream",
          "name": "stdout",
          "text": [
            "0.008506013551529044 0.926593152224447\n",
            "H0 - Null hypothesis is accepted which means relationship exists\n"
          ]
        }
      ]
    },
    {
      "cell_type": "code",
      "source": [
        "#tip, sex\n",
        "group=df.sex.unique()\n",
        "grp={}\n",
        "for i in group:\n",
        "  grp[i]=df['tip'][df[\"sex\"]==i]\n",
        "\n",
        "f_value, p_value=stats.f_oneway(grp[\"Female\"],grp[\"Male\"])\n",
        "print(f_value, p_value)\n",
        "if p_value<0.05:\n",
        "  print(\"H0 - Null hypothesis is rejected which means no relationship exists\")\n",
        "else:\n",
        "  print(\"H0 - Null hypothesis is accepted which means relationship exists\")"
      ],
      "metadata": {
        "colab": {
          "base_uri": "https://localhost:8080/"
        },
        "id": "dGbMTmdwG-wB",
        "outputId": "e5b1fedf-376c-4c6c-fc78-aef66478c8a5"
      },
      "execution_count": 40,
      "outputs": [
        {
          "output_type": "stream",
          "name": "stdout",
          "text": [
            "1.9261545619320046 0.166456235034572\n",
            "H0 - Null hypothesis is accepted which means relationship exists\n"
          ]
        }
      ]
    },
    {
      "cell_type": "code",
      "source": [
        "# tip,day\n",
        "group=df.day.unique()\n",
        "grp={}\n",
        "for i in group:\n",
        "  grp[i]=df['tip'][df[\"day\"]==i]\n",
        "f_value, p_value=stats.f_oneway(grp[\"Thur\"],grp[\"Fri\"],grp[\"Sat\"],grp[\"Sun\"])\n",
        "print(f_value, p_value)\n",
        "if p_value<0.05:\n",
        "  print(\"H0 - Null hypothesis is rejected which means no relationship exists\")\n",
        "else:\n",
        "  print(\"H0 - Null hypothesis is accepted which means relationship exists\")\n"
      ],
      "metadata": {
        "colab": {
          "base_uri": "https://localhost:8080/"
        },
        "id": "ezthC67cHLRu",
        "outputId": "1fc9a983-9d50-4895-c6b2-bcd961f1f272"
      },
      "execution_count": 41,
      "outputs": [
        {
          "output_type": "stream",
          "name": "stdout",
          "text": [
            "1.6723551980998699 0.1735885553040592\n",
            "H0 - Null hypothesis is accepted which means relationship exists\n"
          ]
        }
      ]
    },
    {
      "cell_type": "code",
      "source": [
        "#tip,time\n",
        "group=df.time.unique()\n",
        "grp={}\n",
        "for i in group:\n",
        "  grp[i]=df['tip'][df[\"time\"]==i]\n",
        "f_value, p_value=stats.f_oneway(grp[\"Lunch\"],grp[\"Dinner\"])\n",
        "print(f_value, p_value)\n",
        "if p_value<0.05:\n",
        "  print(\"H0 - Null hypothesis is rejected which means no relationship exists\")\n",
        "else:\n",
        "  print(\"H0 - Null hypothesis is accepted which means relationship exists\")"
      ],
      "metadata": {
        "colab": {
          "base_uri": "https://localhost:8080/"
        },
        "id": "UIVfVbDWHl4F",
        "outputId": "5dc94bc4-6158-4f31-f1bd-b5481c4473cc"
      },
      "execution_count": 42,
      "outputs": [
        {
          "output_type": "stream",
          "name": "stdout",
          "text": [
            "3.633815483631457 0.05780153475171573\n",
            "H0 - Null hypothesis is accepted which means relationship exists\n"
          ]
        }
      ]
    },
    {
      "cell_type": "code",
      "source": [
        "# tip,size\n",
        "group=df['size'].unique()\n",
        "grp={}\n",
        "for i in group:\n",
        "  grp[i]=df['tip'][df[\"size\"]==i]\n",
        "f_value, p_value=stats.f_oneway(grp[1],grp[2],grp[3],grp[4],grp[5],grp[6])\n",
        "print(f_value, p_value)\n",
        "if p_value<0.05:\n",
        "  print(\"H0 - Null hypothesis is rejected which means no relationship exists\")\n",
        "else:\n",
        "  print(\"H0 - Null hypothesis is accepted which means relationship exists\")"
      ],
      "metadata": {
        "colab": {
          "base_uri": "https://localhost:8080/"
        },
        "id": "JL5Ag0jtHuCN",
        "outputId": "a11aeede-ffba-4efb-c224-68eef539a38e"
      },
      "execution_count": 43,
      "outputs": [
        {
          "output_type": "stream",
          "name": "stdout",
          "text": [
            "15.746330672727057 2.1694633916208174e-13\n",
            "H0 - Null hypothesis is rejected which means no relationship exists\n"
          ]
        }
      ]
    },
    {
      "cell_type": "markdown",
      "source": [
        "**Data Visualisation**"
      ],
      "metadata": {
        "id": "BgcUIPgUesAi"
      }
    },
    {
      "cell_type": "code",
      "source": [
        "cor=df.corr()\n",
        "sns.heatmap(cor)"
      ],
      "metadata": {
        "colab": {
          "base_uri": "https://localhost:8080/",
          "height": 507
        },
        "id": "pf76SdNgIVqO",
        "outputId": "8afdbab1-4259-4170-850c-80a503b29df1"
      },
      "execution_count": 44,
      "outputs": [
        {
          "output_type": "stream",
          "name": "stderr",
          "text": [
            "<ipython-input-44-47f5e7c89c25>:1: FutureWarning: The default value of numeric_only in DataFrame.corr is deprecated. In a future version, it will default to False. Select only valid columns or specify the value of numeric_only to silence this warning.\n",
            "  cor=df.corr()\n"
          ]
        },
        {
          "output_type": "execute_result",
          "data": {
            "text/plain": [
              "<Axes: >"
            ]
          },
          "metadata": {},
          "execution_count": 44
        },
        {
          "output_type": "display_data",
          "data": {
            "text/plain": [
              "<Figure size 640x480 with 2 Axes>"
            ],
            "image/png": "[encoded data removed]"
          },
          "metadata": {}
        }
      ]
    },
    {
      "cell_type": "code",
      "source": [
        "fig=px.scatter(df,x=\"total_bill\",y=\"tip\", color=\"sex\")\n",
        "fig.show()"
      ],
      "metadata": {
        "colab": {
          "base_uri": "https://localhost:8080/",
          "height": 542
        },
        "id": "c28MspkpIvXe",
        "outputId": "a1b7e381-2416-4637-c8df-fba2036252d3"
      },
      "execution_count": 49,
      "outputs": [
        {
          "output_type": "display_data",
          "data": {
            "text/html": [
              "<html>\n",
              "<head><meta charset=\"utf-8\" /></head>\n",
              "<body>\n",
              "    <div>            <script src=\"https://cdnjs.cloudflare.com/ajax/libs/mathjax/2.7.5/MathJax.js?config=TeX-AMS-MML_SVG\"></script><script type=\"text/javascript\">if (window.MathJax && window.MathJax.Hub && window.MathJax.Hub.Config) {window.MathJax.Hub.Config({SVG: {font: \"STIX-Web\"}});}</script>                <script type=\"text/javascript\">window.PlotlyConfig = {MathJaxConfig: 'local'};</script>\n",
              "        <script charset=\"utf-8\" src=\"https://cdn.plot.ly/plotly-2.24.1.min.js\"></script>                <div id=\"00d53855-9616-4cf1-ad98-54d8b7043809\" class=\"plotly-graph-div\" style=\"height:525px; width:100%;\"></div>            <script type=\"text/javascript\">                                    window.PLOTLYENV=window.PLOTLYENV || {};                                    if (document.getElementById(\"00d53855-9616-4cf1-ad98-54d8b7043809\")) {                    Plotly.newPlot(                        \"00d53855-9616-4cf1-ad98-54d8b7043809\",                        [{\"hovertemplate\":\"sex=Female\\u003cbr\\u003etotal_bill=%{x}\\u003cbr\\u003etip=%{y}\\u003cextra\\u003e\\u003c\\u002fextra\\u003e\",\"legendgroup\":\"Female\",\"marker\":{\"color\":\"#636efa\",\"symbol\":\"circle\"},\"mode\":\"markers\",\"name\":\"Female\",\"orientation\":\"v\",\"showlegend\":true,\"x\":[16.99,24.59,35.26,14.83,10.33,16.97,20.29,15.77,19.65,15.06,20.69,16.93,10.29,34.81,26.41,16.45,3.07,17.07,26.86,25.28,14.73,10.07,34.83,5.75,16.32,22.75,11.35,15.38,44.3,22.42,20.92,14.31,7.25,25.71,17.31,10.65,12.43,24.08,13.42,12.48,29.8,14.52,11.38,20.27,11.17,12.26,18.26,8.51,10.33,14.15,13.16,17.47,27.05,16.43,8.35,18.64,11.87,29.85,25.0,13.39,16.21,17.51,10.59,10.63,9.6,20.9,18.15,19.81,43.11,13.0,12.74,13.0,16.4,16.47,12.76,13.27,28.17,12.9,30.14,13.42,15.98,16.27,10.09,22.12,35.83,27.18,18.78],\"xaxis\":\"x\",\"y\":[1.01,3.61,5.0,3.02,1.67,3.5,2.75,2.23,3.0,3.0,2.45,3.07,2.6,5.2,1.5,2.47,1.0,3.0,3.14,5.0,2.2,1.83,5.17,1.0,4.3,3.25,2.5,3.0,2.5,3.48,4.08,4.0,1.0,4.0,3.5,1.5,1.8,2.92,1.68,2.52,4.2,2.0,2.0,2.83,1.5,2.0,3.25,1.25,2.0,2.0,2.75,3.5,5.0,2.3,1.5,1.36,1.63,5.14,3.75,2.61,2.0,3.0,1.61,2.0,4.0,3.5,3.5,4.19,5.0,2.0,2.01,2.0,2.5,3.23,2.23,2.5,6.5,1.1,3.09,3.48,3.0,2.5,2.0,2.88,4.67,2.0,3.0],\"yaxis\":\"y\",\"type\":\"scatter\"},{\"hovertemplate\":\"sex=Male\\u003cbr\\u003etotal_bill=%{x}\\u003cbr\\u003etip=%{y}\\u003cextra\\u003e\\u003c\\u002fextra\\u003e\",\"legendgroup\":\"Male\",\"marker\":{\"color\":\"#EF553B\",\"symbol\":\"circle\"},\"mode\":\"markers\",\"name\":\"Male\",\"orientation\":\"v\",\"showlegend\":true,\"x\":[10.34,21.01,23.68,25.29,8.77,26.88,15.04,14.78,10.27,15.42,18.43,21.58,16.29,20.65,17.92,39.42,19.82,17.81,13.37,12.69,21.7,9.55,18.35,17.78,24.06,16.31,18.69,31.27,16.04,17.46,13.94,9.68,30.4,18.29,22.23,32.4,28.55,18.04,12.54,9.94,25.56,19.49,38.01,11.24,48.27,20.29,13.81,11.02,18.29,17.59,20.08,20.23,15.01,12.02,10.51,17.92,27.2,22.76,17.29,19.44,16.66,32.68,15.98,13.03,18.28,24.71,21.16,28.97,22.49,40.17,27.28,12.03,21.01,12.46,15.36,20.49,25.21,18.24,14.0,38.07,23.95,29.93,11.69,14.26,15.95,8.52,22.82,19.08,16.0,34.3,41.19,9.78,7.51,14.07,13.13,17.26,24.55,19.77,48.17,16.49,21.5,12.66,13.81,24.52,20.76,31.71,50.81,15.81,7.25,31.85,16.82,32.9,17.89,14.48,34.63,34.65,23.33,45.35,23.17,40.55,20.69,30.46,23.1,15.69,28.44,15.48,16.58,7.56,10.34,13.51,18.71,20.53,26.59,38.73,24.27,30.06,25.89,48.33,28.15,11.59,7.74,12.16,8.58,13.42,20.45,13.28,24.01,15.69,11.61,10.77,15.53,10.07,12.6,32.83,29.03,22.67,17.82],\"xaxis\":\"x\",\"y\":[1.66,3.5,3.31,4.71,2.0,3.12,1.96,3.23,1.71,1.57,3.0,3.92,3.71,3.35,4.08,7.58,3.18,2.34,2.0,2.0,4.3,1.45,2.5,3.27,3.6,2.0,2.31,5.0,2.24,2.54,3.06,1.32,5.6,3.0,5.0,6.0,2.05,3.0,2.5,1.56,4.34,3.51,3.0,1.76,6.73,3.21,2.0,1.98,3.76,2.64,3.15,2.01,2.09,1.97,1.25,3.08,4.0,3.0,2.71,3.0,3.4,5.0,2.03,2.0,4.0,5.85,3.0,3.0,3.5,4.73,4.0,1.5,3.0,1.5,1.64,4.06,4.29,3.76,3.0,4.0,2.55,5.07,2.31,2.5,2.0,1.48,2.18,1.5,2.0,6.7,5.0,1.73,2.0,2.5,2.0,2.74,2.0,2.0,5.0,2.0,3.5,2.5,2.0,3.48,2.24,4.5,10.0,3.16,5.15,3.18,4.0,3.11,2.0,2.0,3.55,3.68,5.65,3.5,6.5,3.0,5.0,2.0,4.0,1.5,2.56,2.02,4.0,1.44,2.0,2.0,4.0,4.0,3.41,3.0,2.03,2.0,5.16,9.0,3.0,1.5,1.44,2.2,1.92,1.58,3.0,2.72,2.0,3.0,3.39,1.47,3.0,1.25,1.0,1.17,5.92,2.0,1.75],\"yaxis\":\"y\",\"type\":\"scatter\"}],                        {\"template\":{\"data\":{\"histogram2dcontour\":[{\"type\":\"histogram2dcontour\",\"colorbar\":{\"outlinewidth\":0,\"ticks\":\"\"},\"colorscale\":[[0.0,\"#0d0887\"],[0.1111111111111111,\"#46039f\"],[0.2222222222222222,\"#7201a8\"],[0.3333333333333333,\"#9c179e\"],[0.4444444444444444,\"#bd3786\"],[0.5555555555555556,\"#d8576b\"],[0.6666666666666666,\"#ed7953\"],[0.7777777777777778,\"#fb9f3a\"],[0.8888888888888888,\"#fdca26\"],[1.0,\"#f0f921\"]]}],\"choropleth\":[{\"type\":\"choropleth\",\"colorbar\":{\"outlinewidth\":0,\"ticks\":\"\"}}],\"histogram2d\":[{\"type\":\"histogram2d\",\"colorbar\":{\"outlinewidth\":0,\"ticks\":\"\"},\"colorscale\":[[0.0,\"#0d0887\"],[0.1111111111111111,\"#46039f\"],[0.2222222222222222,\"#7201a8\"],[0.3333333333333333,\"#9c179e\"],[0.4444444444444444,\"#bd3786\"],[0.5555555555555556,\"#d8576b\"],[0.6666666666666666,\"#ed7953\"],[0.7777777777777778,\"#fb9f3a\"],[0.8888888888888888,\"#fdca26\"],[1.0,\"#f0f921\"]]}],\"heatmap\":[{\"type\":\"heatmap\",\"colorbar\":{\"outlinewidth\":0,\"ticks\":\"\"},\"colorscale\":[[0.0,\"#0d0887\"],[0.1111111111111111,\"#46039f\"],[0.2222222222222222,\"#7201a8\"],[0.3333333333333333,\"#9c179e\"],[0.4444444444444444,\"#bd3786\"],[0.5555555555555556,\"#d8576b\"],[0.6666666666666666,\"#ed7953\"],[0.7777777777777778,\"#fb9f3a\"],[0.8888888888888888,\"#fdca26\"],[1.0,\"#f0f921\"]]}],\"heatmapgl\":[{\"type\":\"heatmapgl\",\"colorbar\":{\"outlinewidth\":0,\"ticks\":\"\"},\"colorscale\":[[0.0,\"#0d0887\"],[0.1111111111111111,\"#46039f\"],[0.2222222222222222,\"#7201a8\"],[0.3333333333333333,\"#9c179e\"],[0.4444444444444444,\"#bd3786\"],[0.5555555555555556,\"#d8576b\"],[0.6666666666666666,\"#ed7953\"],[0.7777777777777778,\"#fb9f3a\"],[0.8888888888888888,\"#fdca26\"],[1.0,\"#f0f921\"]]}],\"contourcarpet\":[{\"type\":\"contourcarpet\",\"colorbar\":{\"outlinewidth\":0,\"ticks\":\"\"}}],\"contour\":[{\"type\":\"contour\",\"colorbar\":{\"outlinewidth\":0,\"ticks\":\"\"},\"colorscale\":[[0.0,\"#0d0887\"],[0.1111111111111111,\"#46039f\"],[0.2222222222222222,\"#7201a8\"],[0.3333333333333333,\"#9c179e\"],[0.4444444444444444,\"#bd3786\"],[0.5555555555555556,\"#d8576b\"],[0.6666666666666666,\"#ed7953\"],[0.7777777777777778,\"#fb9f3a\"],[0.8888888888888888,\"#fdca26\"],[1.0,\"#f0f921\"]]}],\"surface\":[{\"type\":\"surface\",\"colorbar\":{\"outlinewidth\":0,\"ticks\":\"\"},\"colorscale\":[[0.0,\"#0d0887\"],[0.1111111111111111,\"#46039f\"],[0.2222222222222222,\"#7201a8\"],[0.3333333333333333,\"#9c179e\"],[0.4444444444444444,\"#bd3786\"],[0.5555555555555556,\"#d8576b\"],[0.6666666666666666,\"#ed7953\"],[0.7777777777777778,\"#fb9f3a\"],[0.8888888888888888,\"#fdca26\"],[1.0,\"#f0f921\"]]}],\"mesh3d\":[{\"type\":\"mesh3d\",\"colorbar\":{\"outlinewidth\":0,\"ticks\":\"\"}}],\"scatter\":[{\"fillpattern\":{\"fillmode\":\"overlay\",\"size\":10,\"solidity\":0.2},\"type\":\"scatter\"}],\"parcoords\":[{\"type\":\"parcoords\",\"line\":{\"colorbar\":{\"outlinewidth\":0,\"ticks\":\"\"}}}],\"scatterpolargl\":[{\"type\":\"scatterpolargl\",\"marker\":{\"colorbar\":{\"outlinewidth\":0,\"ticks\":\"\"}}}],\"bar\":[{\"error_x\":{\"color\":\"#2a3f5f\"},\"error_y\":{\"color\":\"#2a3f5f\"},\"marker\":{\"line\":{\"color\":\"#E5ECF6\",\"width\":0.5},\"pattern\":{\"fillmode\":\"overlay\",\"size\":10,\"solidity\":0.2}},\"type\":\"bar\"}],\"scattergeo\":[{\"type\":\"scattergeo\",\"marker\":{\"colorbar\":{\"outlinewidth\":0,\"ticks\":\"\"}}}],\"scatterpolar\":[{\"type\":\"scatterpolar\",\"marker\":{\"colorbar\":{\"outlinewidth\":0,\"ticks\":\"\"}}}],\"histogram\":[{\"marker\":{\"pattern\":{\"fillmode\":\"overlay\",\"size\":10,\"solidity\":0.2}},\"type\":\"histogram\"}],\"scattergl\":[{\"type\":\"scattergl\",\"marker\":{\"colorbar\":{\"outlinewidth\":0,\"ticks\":\"\"}}}],\"scatter3d\":[{\"type\":\"scatter3d\",\"line\":{\"colorbar\":{\"outlinewidth\":0,\"ticks\":\"\"}},\"marker\":{\"colorbar\":{\"outlinewidth\":0,\"ticks\":\"\"}}}],\"scattermapbox\":[{\"type\":\"scattermapbox\",\"marker\":{\"colorbar\":{\"outlinewidth\":0,\"ticks\":\"\"}}}],\"scatterternary\":[{\"type\":\"scatterternary\",\"marker\":{\"colorbar\":{\"outlinewidth\":0,\"ticks\":\"\"}}}],\"scattercarpet\":[{\"type\":\"scattercarpet\",\"marker\":{\"colorbar\":{\"outlinewidth\":0,\"ticks\":\"\"}}}],\"carpet\":[{\"aaxis\":{\"endlinecolor\":\"#2a3f5f\",\"gridcolor\":\"white\",\"linecolor\":\"white\",\"minorgridcolor\":\"white\",\"startlinecolor\":\"#2a3f5f\"},\"baxis\":{\"endlinecolor\":\"#2a3f5f\",\"gridcolor\":\"white\",\"linecolor\":\"white\",\"minorgridcolor\":\"white\",\"startlinecolor\":\"#2a3f5f\"},\"type\":\"carpet\"}],\"table\":[{\"cells\":{\"fill\":{\"color\":\"#EBF0F8\"},\"line\":{\"color\":\"white\"}},\"header\":{\"fill\":{\"color\":\"#C8D4E3\"},\"line\":{\"color\":\"white\"}},\"type\":\"table\"}],\"barpolar\":[{\"marker\":{\"line\":{\"color\":\"#E5ECF6\",\"width\":0.5},\"pattern\":{\"fillmode\":\"overlay\",\"size\":10,\"solidity\":0.2}},\"type\":\"barpolar\"}],\"pie\":[{\"automargin\":true,\"type\":\"pie\"}]},\"layout\":{\"autotypenumbers\":\"strict\",\"colorway\":[\"#636efa\",\"#EF553B\",\"#00cc96\",\"#ab63fa\",\"#FFA15A\",\"#19d3f3\",\"#FF6692\",\"#B6E880\",\"#FF97FF\",\"#FECB52\"],\"font\":{\"color\":\"#2a3f5f\"},\"hovermode\":\"closest\",\"hoverlabel\":{\"align\":\"left\"},\"paper_bgcolor\":\"white\",\"plot_bgcolor\":\"#E5ECF6\",\"polar\":{\"bgcolor\":\"#E5ECF6\",\"angularaxis\":{\"gridcolor\":\"white\",\"linecolor\":\"white\",\"ticks\":\"\"},\"radialaxis\":{\"gridcolor\":\"white\",\"linecolor\":\"white\",\"ticks\":\"\"}},\"ternary\":{\"bgcolor\":\"#E5ECF6\",\"aaxis\":{\"gridcolor\":\"white\",\"linecolor\":\"white\",\"ticks\":\"\"},\"baxis\":{\"gridcolor\":\"white\",\"linecolor\":\"white\",\"ticks\":\"\"},\"caxis\":{\"gridcolor\":\"white\",\"linecolor\":\"white\",\"ticks\":\"\"}},\"coloraxis\":{\"colorbar\":{\"outlinewidth\":0,\"ticks\":\"\"}},\"colorscale\":{\"sequential\":[[0.0,\"#0d0887\"],[0.1111111111111111,\"#46039f\"],[0.2222222222222222,\"#7201a8\"],[0.3333333333333333,\"#9c179e\"],[0.4444444444444444,\"#bd3786\"],[0.5555555555555556,\"#d8576b\"],[0.6666666666666666,\"#ed7953\"],[0.7777777777777778,\"#fb9f3a\"],[0.8888888888888888,\"#fdca26\"],[1.0,\"#f0f921\"]],\"sequentialminus\":[[0.0,\"#0d0887\"],[0.1111111111111111,\"#46039f\"],[0.2222222222222222,\"#7201a8\"],[0.3333333333333333,\"#9c179e\"],[0.4444444444444444,\"#bd3786\"],[0.5555555555555556,\"#d8576b\"],[0.6666666666666666,\"#ed7953\"],[0.7777777777777778,\"#fb9f3a\"],[0.8888888888888888,\"#fdca26\"],[1.0,\"#f0f921\"]],\"diverging\":[[0,\"#8e0152\"],[0.1,\"#c51b7d\"],[0.2,\"#de77ae\"],[0.3,\"#f1b6da\"],[0.4,\"#fde0ef\"],[0.5,\"#f7f7f7\"],[0.6,\"#e6f5d0\"],[0.7,\"#b8e186\"],[0.8,\"#7fbc41\"],[0.9,\"#4d9221\"],[1,\"#276419\"]]},\"xaxis\":{\"gridcolor\":\"white\",\"linecolor\":\"white\",\"ticks\":\"\",\"title\":{\"standoff\":15},\"zerolinecolor\":\"white\",\"automargin\":true,\"zerolinewidth\":2},\"yaxis\":{\"gridcolor\":\"white\",\"linecolor\":\"white\",\"ticks\":\"\",\"title\":{\"standoff\":15},\"zerolinecolor\":\"white\",\"automargin\":true,\"zerolinewidth\":2},\"scene\":{\"xaxis\":{\"backgroundcolor\":\"#E5ECF6\",\"gridcolor\":\"white\",\"linecolor\":\"white\",\"showbackground\":true,\"ticks\":\"\",\"zerolinecolor\":\"white\",\"gridwidth\":2},\"yaxis\":{\"backgroundcolor\":\"#E5ECF6\",\"gridcolor\":\"white\",\"linecolor\":\"white\",\"showbackground\":true,\"ticks\":\"\",\"zerolinecolor\":\"white\",\"gridwidth\":2},\"zaxis\":{\"backgroundcolor\":\"#E5ECF6\",\"gridcolor\":\"white\",\"linecolor\":\"white\",\"showbackground\":true,\"ticks\":\"\",\"zerolinecolor\":\"white\",\"gridwidth\":2}},\"shapedefaults\":{\"line\":{\"color\":\"#2a3f5f\"}},\"annotationdefaults\":{\"arrowcolor\":\"#2a3f5f\",\"arrowhead\":0,\"arrowwidth\":1},\"geo\":{\"bgcolor\":\"white\",\"landcolor\":\"#E5ECF6\",\"subunitcolor\":\"white\",\"showland\":true,\"showlakes\":true,\"lakecolor\":\"white\"},\"title\":{\"x\":0.05},\"mapbox\":{\"style\":\"light\"}}},\"xaxis\":{\"anchor\":\"y\",\"domain\":[0.0,1.0],\"title\":{\"text\":\"total_bill\"}},\"yaxis\":{\"anchor\":\"x\",\"domain\":[0.0,1.0],\"title\":{\"text\":\"tip\"}},\"legend\":{\"title\":{\"text\":\"sex\"},\"tracegroupgap\":0},\"margin\":{\"t\":60}},                        {\"responsive\": true}                    ).then(function(){\n",
              "                            \n",
              "var gd = document.getElementById('00d53855-9616-4cf1-ad98-54d8b7043809');\n",
              "var x = new MutationObserver(function (mutations, observer) {{\n",
              "        var display = window.getComputedStyle(gd).display;\n",
              "        if (!display || display === 'none') {{\n",
              "            console.log([gd, 'removed!']);\n",
              "            Plotly.purge(gd);\n",
              "            observer.disconnect();\n",
              "        }}\n",
              "}});\n",
              "\n",
              "// Listen for the removal of the full notebook cells\n",
              "var notebookContainer = gd.closest('#notebook-container');\n",
              "if (notebookContainer) {{\n",
              "    x.observe(notebookContainer, {childList: true});\n",
              "}}\n",
              "\n",
              "// Listen for the clearing of the current output cell\n",
              "var outputEl = gd.closest('.output');\n",
              "if (outputEl) {{\n",
              "    x.observe(outputEl, {childList: true});\n",
              "}}\n",
              "\n",
              "                        })                };                            </script>        </div>\n",
              "</body>\n",
              "</html>"
            ]
          },
          "metadata": {}
        }
      ]
    },
    {
      "cell_type": "code",
      "source": [
        "fig=px.box(df,y=\"total_bill\",x=\"sex\",color=\"day\")\n",
        "fig.show()"
      ],
      "metadata": {
        "colab": {
          "base_uri": "https://localhost:8080/",
          "height": 542
        },
        "id": "HC2K9_1IfKuo",
        "outputId": "856132dc-1d60-45dd-dc7b-2cb93d45d598"
      },
      "execution_count": 47,
      "outputs": [
        {
          "output_type": "display_data",
          "data": {
            "text/html": [
              "<html>\n",
              "<head><meta charset=\"utf-8\" /></head>\n",
              "<body>\n",
              "    <div>            <script src=\"https://cdnjs.cloudflare.com/ajax/libs/mathjax/2.7.5/MathJax.js?config=TeX-AMS-MML_SVG\"></script><script type=\"text/javascript\">if (window.MathJax && window.MathJax.Hub && window.MathJax.Hub.Config) {window.MathJax.Hub.Config({SVG: {font: \"STIX-Web\"}});}</script>                <script type=\"text/javascript\">window.PlotlyConfig = {MathJaxConfig: 'local'};</script>\n",
              "        <script charset=\"utf-8\" src=\"https://cdn.plot.ly/plotly-2.24.1.min.js\"></script>                <div id=\"b4bb5ab0-70b7-4c80-bf46-7a45db4dd971\" class=\"plotly-graph-div\" style=\"height:525px; width:100%;\"></div>            <script type=\"text/javascript\">                                    window.PLOTLYENV=window.PLOTLYENV || {};                                    if (document.getElementById(\"b4bb5ab0-70b7-4c80-bf46-7a45db4dd971\")) {                    Plotly.newPlot(                        \"b4bb5ab0-70b7-4c80-bf46-7a45db4dd971\",                        [{\"alignmentgroup\":\"True\",\"hovertemplate\":\"day=Sun\\u003cbr\\u003esex=%{x}\\u003cbr\\u003etotal_bill=%{y}\\u003cextra\\u003e\\u003c\\u002fextra\\u003e\",\"legendgroup\":\"Sun\",\"marker\":{\"color\":\"#636efa\"},\"name\":\"Sun\",\"notched\":false,\"offsetgroup\":\"Sun\",\"orientation\":\"v\",\"showlegend\":true,\"x\":[\"Female\",\"Male\",\"Male\",\"Male\",\"Female\",\"Male\",\"Male\",\"Male\",\"Male\",\"Male\",\"Male\",\"Female\",\"Male\",\"Male\",\"Female\",\"Male\",\"Female\",\"Male\",\"Female\",\"Male\",\"Male\",\"Male\",\"Male\",\"Male\",\"Male\",\"Male\",\"Male\",\"Male\",\"Male\",\"Female\",\"Female\",\"Male\",\"Male\",\"Male\",\"Male\",\"Male\",\"Female\",\"Female\",\"Male\",\"Male\",\"Male\",\"Male\",\"Male\",\"Male\",\"Female\",\"Male\",\"Female\",\"Female\",\"Male\",\"Male\",\"Male\",\"Female\",\"Male\",\"Female\",\"Male\",\"Male\",\"Male\",\"Male\",\"Male\",\"Male\",\"Male\",\"Male\",\"Male\",\"Female\",\"Male\",\"Male\",\"Male\",\"Male\",\"Male\",\"Male\",\"Male\",\"Female\",\"Male\",\"Female\",\"Male\",\"Male\"],\"x0\":\" \",\"xaxis\":\"x\",\"y\":[16.99,10.34,21.01,23.68,24.59,25.29,8.77,26.88,15.04,14.78,10.27,35.26,15.42,18.43,14.83,21.58,10.33,16.29,16.97,17.46,13.94,9.68,30.4,18.29,22.23,32.4,28.55,18.04,12.54,10.29,34.81,9.94,25.56,19.49,38.07,23.95,25.71,17.31,29.93,14.07,13.13,17.26,24.55,19.77,29.85,48.17,25.0,13.39,16.49,21.5,12.66,16.21,13.81,17.51,24.52,20.76,31.71,7.25,31.85,16.82,32.9,17.89,14.48,9.6,34.63,34.65,23.33,45.35,23.17,40.55,20.69,20.9,30.46,18.15,23.1,15.69],\"y0\":\" \",\"yaxis\":\"y\",\"type\":\"box\"},{\"alignmentgroup\":\"True\",\"hovertemplate\":\"day=Sat\\u003cbr\\u003esex=%{x}\\u003cbr\\u003etotal_bill=%{y}\\u003cextra\\u003e\\u003c\\u002fextra\\u003e\",\"legendgroup\":\"Sat\",\"marker\":{\"color\":\"#EF553B\"},\"name\":\"Sat\",\"notched\":false,\"offsetgroup\":\"Sat\",\"orientation\":\"v\",\"showlegend\":true,\"x\":[\"Male\",\"Male\",\"Female\",\"Female\",\"Male\",\"Male\",\"Male\",\"Male\",\"Male\",\"Male\",\"Female\",\"Male\",\"Male\",\"Female\",\"Female\",\"Male\",\"Male\",\"Male\",\"Female\",\"Male\",\"Male\",\"Male\",\"Male\",\"Female\",\"Male\",\"Male\",\"Male\",\"Male\",\"Male\",\"Male\",\"Male\",\"Male\",\"Female\",\"Female\",\"Male\",\"Male\",\"Male\",\"Female\",\"Female\",\"Female\",\"Female\",\"Male\",\"Male\",\"Female\",\"Female\",\"Female\",\"Male\",\"Male\",\"Male\",\"Male\",\"Female\",\"Male\",\"Female\",\"Female\",\"Female\",\"Male\",\"Male\",\"Male\",\"Male\",\"Male\",\"Female\",\"Male\",\"Male\",\"Male\",\"Female\",\"Female\",\"Female\",\"Male\",\"Male\",\"Male\",\"Female\",\"Male\",\"Male\",\"Female\",\"Male\",\"Male\",\"Male\",\"Male\",\"Male\",\"Male\",\"Male\",\"Male\",\"Female\",\"Male\",\"Female\",\"Male\",\"Male\"],\"x0\":\" \",\"xaxis\":\"x\",\"y\":[20.65,17.92,20.29,15.77,39.42,19.82,17.81,13.37,12.69,21.7,19.65,9.55,18.35,15.06,20.69,17.78,24.06,16.31,16.93,18.69,31.27,16.04,38.01,26.41,11.24,48.27,20.29,13.81,11.02,18.29,17.59,20.08,16.45,3.07,20.23,15.01,12.02,17.07,26.86,25.28,14.73,10.51,17.92,44.3,22.42,20.92,15.36,20.49,25.21,18.24,14.31,14.0,7.25,10.59,10.63,50.81,15.81,26.59,38.73,24.27,12.76,30.06,25.89,48.33,13.27,28.17,12.9,28.15,11.59,7.74,30.14,20.45,13.28,22.12,24.01,15.69,11.61,10.77,15.53,10.07,12.6,32.83,35.83,29.03,27.18,22.67,17.82],\"y0\":\" \",\"yaxis\":\"y\",\"type\":\"box\"},{\"alignmentgroup\":\"True\",\"hovertemplate\":\"day=Thur\\u003cbr\\u003esex=%{x}\\u003cbr\\u003etotal_bill=%{y}\\u003cextra\\u003e\\u003c\\u002fextra\\u003e\",\"legendgroup\":\"Thur\",\"marker\":{\"color\":\"#00cc96\"},\"name\":\"Thur\",\"notched\":false,\"offsetgroup\":\"Thur\",\"orientation\":\"v\",\"showlegend\":true,\"x\":[\"Male\",\"Male\",\"Male\",\"Male\",\"Male\",\"Female\",\"Male\",\"Male\",\"Female\",\"Male\",\"Male\",\"Male\",\"Male\",\"Female\",\"Female\",\"Female\",\"Male\",\"Female\",\"Male\",\"Male\",\"Female\",\"Female\",\"Male\",\"Female\",\"Female\",\"Male\",\"Male\",\"Female\",\"Female\",\"Female\",\"Female\",\"Female\",\"Female\",\"Female\",\"Male\",\"Female\",\"Female\",\"Male\",\"Male\",\"Female\",\"Female\",\"Female\",\"Female\",\"Female\",\"Male\",\"Male\",\"Female\",\"Male\",\"Male\",\"Male\",\"Male\",\"Male\",\"Female\",\"Female\",\"Male\",\"Male\",\"Female\",\"Female\",\"Female\",\"Male\",\"Female\",\"Female\"],\"x0\":\" \",\"xaxis\":\"x\",\"y\":[27.2,22.76,17.29,19.44,16.66,10.07,32.68,15.98,34.83,13.03,18.28,24.71,21.16,10.65,12.43,24.08,11.69,13.42,14.26,15.95,12.48,29.8,8.52,14.52,11.38,22.82,19.08,20.27,11.17,12.26,18.26,8.51,10.33,14.15,16.0,13.16,17.47,34.3,41.19,27.05,16.43,8.35,18.64,11.87,9.78,7.51,19.81,28.44,15.48,16.58,7.56,10.34,43.11,13.0,13.51,18.71,12.74,13.0,16.4,20.53,16.47,18.78],\"y0\":\" \",\"yaxis\":\"y\",\"type\":\"box\"},{\"alignmentgroup\":\"True\",\"hovertemplate\":\"day=Fri\\u003cbr\\u003esex=%{x}\\u003cbr\\u003etotal_bill=%{y}\\u003cextra\\u003e\\u003c\\u002fextra\\u003e\",\"legendgroup\":\"Fri\",\"marker\":{\"color\":\"#ab63fa\"},\"name\":\"Fri\",\"notched\":false,\"offsetgroup\":\"Fri\",\"orientation\":\"v\",\"showlegend\":true,\"x\":[\"Male\",\"Male\",\"Female\",\"Female\",\"Female\",\"Male\",\"Male\",\"Male\",\"Male\",\"Male\",\"Female\",\"Female\",\"Male\",\"Female\",\"Male\",\"Female\",\"Male\",\"Female\",\"Female\"],\"x0\":\" \",\"xaxis\":\"x\",\"y\":[28.97,22.49,5.75,16.32,22.75,40.17,27.28,12.03,21.01,12.46,11.35,15.38,12.16,13.42,8.58,15.98,13.42,16.27,10.09],\"y0\":\" \",\"yaxis\":\"y\",\"type\":\"box\"}],                        {\"template\":{\"data\":{\"histogram2dcontour\":[{\"type\":\"histogram2dcontour\",\"colorbar\":{\"outlinewidth\":0,\"ticks\":\"\"},\"colorscale\":[[0.0,\"#0d0887\"],[0.1111111111111111,\"#46039f\"],[0.2222222222222222,\"#7201a8\"],[0.3333333333333333,\"#9c179e\"],[0.4444444444444444,\"#bd3786\"],[0.5555555555555556,\"#d8576b\"],[0.6666666666666666,\"#ed7953\"],[0.7777777777777778,\"#fb9f3a\"],[0.8888888888888888,\"#fdca26\"],[1.0,\"#f0f921\"]]}],\"choropleth\":[{\"type\":\"choropleth\",\"colorbar\":{\"outlinewidth\":0,\"ticks\":\"\"}}],\"histogram2d\":[{\"type\":\"histogram2d\",\"colorbar\":{\"outlinewidth\":0,\"ticks\":\"\"},\"colorscale\":[[0.0,\"#0d0887\"],[0.1111111111111111,\"#46039f\"],[0.2222222222222222,\"#7201a8\"],[0.3333333333333333,\"#9c179e\"],[0.4444444444444444,\"#bd3786\"],[0.5555555555555556,\"#d8576b\"],[0.6666666666666666,\"#ed7953\"],[0.7777777777777778,\"#fb9f3a\"],[0.8888888888888888,\"#fdca26\"],[1.0,\"#f0f921\"]]}],\"heatmap\":[{\"type\":\"heatmap\",\"colorbar\":{\"outlinewidth\":0,\"ticks\":\"\"},\"colorscale\":[[0.0,\"#0d0887\"],[0.1111111111111111,\"#46039f\"],[0.2222222222222222,\"#7201a8\"],[0.3333333333333333,\"#9c179e\"],[0.4444444444444444,\"#bd3786\"],[0.5555555555555556,\"#d8576b\"],[0.6666666666666666,\"#ed7953\"],[0.7777777777777778,\"#fb9f3a\"],[0.8888888888888888,\"#fdca26\"],[1.0,\"#f0f921\"]]}],\"heatmapgl\":[{\"type\":\"heatmapgl\",\"colorbar\":{\"outlinewidth\":0,\"ticks\":\"\"},\"colorscale\":[[0.0,\"#0d0887\"],[0.1111111111111111,\"#46039f\"],[0.2222222222222222,\"#7201a8\"],[0.3333333333333333,\"#9c179e\"],[0.4444444444444444,\"#bd3786\"],[0.5555555555555556,\"#d8576b\"],[0.6666666666666666,\"#ed7953\"],[0.7777777777777778,\"#fb9f3a\"],[0.8888888888888888,\"#fdca26\"],[1.0,\"#f0f921\"]]}],\"contourcarpet\":[{\"type\":\"contourcarpet\",\"colorbar\":{\"outlinewidth\":0,\"ticks\":\"\"}}],\"contour\":[{\"type\":\"contour\",\"colorbar\":{\"outlinewidth\":0,\"ticks\":\"\"},\"colorscale\":[[0.0,\"#0d0887\"],[0.1111111111111111,\"#46039f\"],[0.2222222222222222,\"#7201a8\"],[0.3333333333333333,\"#9c179e\"],[0.4444444444444444,\"#bd3786\"],[0.5555555555555556,\"#d8576b\"],[0.6666666666666666,\"#ed7953\"],[0.7777777777777778,\"#fb9f3a\"],[0.8888888888888888,\"#fdca26\"],[1.0,\"#f0f921\"]]}],\"surface\":[{\"type\":\"surface\",\"colorbar\":{\"outlinewidth\":0,\"ticks\":\"\"},\"colorscale\":[[0.0,\"#0d0887\"],[0.1111111111111111,\"#46039f\"],[0.2222222222222222,\"#7201a8\"],[0.3333333333333333,\"#9c179e\"],[0.4444444444444444,\"#bd3786\"],[0.5555555555555556,\"#d8576b\"],[0.6666666666666666,\"#ed7953\"],[0.7777777777777778,\"#fb9f3a\"],[0.8888888888888888,\"#fdca26\"],[1.0,\"#f0f921\"]]}],\"mesh3d\":[{\"type\":\"mesh3d\",\"colorbar\":{\"outlinewidth\":0,\"ticks\":\"\"}}],\"scatter\":[{\"fillpattern\":{\"fillmode\":\"overlay\",\"size\":10,\"solidity\":0.2},\"type\":\"scatter\"}],\"parcoords\":[{\"type\":\"parcoords\",\"line\":{\"colorbar\":{\"outlinewidth\":0,\"ticks\":\"\"}}}],\"scatterpolargl\":[{\"type\":\"scatterpolargl\",\"marker\":{\"colorbar\":{\"outlinewidth\":0,\"ticks\":\"\"}}}],\"bar\":[{\"error_x\":{\"color\":\"#2a3f5f\"},\"error_y\":{\"color\":\"#2a3f5f\"},\"marker\":{\"line\":{\"color\":\"#E5ECF6\",\"width\":0.5},\"pattern\":{\"fillmode\":\"overlay\",\"size\":10,\"solidity\":0.2}},\"type\":\"bar\"}],\"scattergeo\":[{\"type\":\"scattergeo\",\"marker\":{\"colorbar\":{\"outlinewidth\":0,\"ticks\":\"\"}}}],\"scatterpolar\":[{\"type\":\"scatterpolar\",\"marker\":{\"colorbar\":{\"outlinewidth\":0,\"ticks\":\"\"}}}],\"histogram\":[{\"marker\":{\"pattern\":{\"fillmode\":\"overlay\",\"size\":10,\"solidity\":0.2}},\"type\":\"histogram\"}],\"scattergl\":[{\"type\":\"scattergl\",\"marker\":{\"colorbar\":{\"outlinewidth\":0,\"ticks\":\"\"}}}],\"scatter3d\":[{\"type\":\"scatter3d\",\"line\":{\"colorbar\":{\"outlinewidth\":0,\"ticks\":\"\"}},\"marker\":{\"colorbar\":{\"outlinewidth\":0,\"ticks\":\"\"}}}],\"scattermapbox\":[{\"type\":\"scattermapbox\",\"marker\":{\"colorbar\":{\"outlinewidth\":0,\"ticks\":\"\"}}}],\"scatterternary\":[{\"type\":\"scatterternary\",\"marker\":{\"colorbar\":{\"outlinewidth\":0,\"ticks\":\"\"}}}],\"scattercarpet\":[{\"type\":\"scattercarpet\",\"marker\":{\"colorbar\":{\"outlinewidth\":0,\"ticks\":\"\"}}}],\"carpet\":[{\"aaxis\":{\"endlinecolor\":\"#2a3f5f\",\"gridcolor\":\"white\",\"linecolor\":\"white\",\"minorgridcolor\":\"white\",\"startlinecolor\":\"#2a3f5f\"},\"baxis\":{\"endlinecolor\":\"#2a3f5f\",\"gridcolor\":\"white\",\"linecolor\":\"white\",\"minorgridcolor\":\"white\",\"startlinecolor\":\"#2a3f5f\"},\"type\":\"carpet\"}],\"table\":[{\"cells\":{\"fill\":{\"color\":\"#EBF0F8\"},\"line\":{\"color\":\"white\"}},\"header\":{\"fill\":{\"color\":\"#C8D4E3\"},\"line\":{\"color\":\"white\"}},\"type\":\"table\"}],\"barpolar\":[{\"marker\":{\"line\":{\"color\":\"#E5ECF6\",\"width\":0.5},\"pattern\":{\"fillmode\":\"overlay\",\"size\":10,\"solidity\":0.2}},\"type\":\"barpolar\"}],\"pie\":[{\"automargin\":true,\"type\":\"pie\"}]},\"layout\":{\"autotypenumbers\":\"strict\",\"colorway\":[\"#636efa\",\"#EF553B\",\"#00cc96\",\"#ab63fa\",\"#FFA15A\",\"#19d3f3\",\"#FF6692\",\"#B6E880\",\"#FF97FF\",\"#FECB52\"],\"font\":{\"color\":\"#2a3f5f\"},\"hovermode\":\"closest\",\"hoverlabel\":{\"align\":\"left\"},\"paper_bgcolor\":\"white\",\"plot_bgcolor\":\"#E5ECF6\",\"polar\":{\"bgcolor\":\"#E5ECF6\",\"angularaxis\":{\"gridcolor\":\"white\",\"linecolor\":\"white\",\"ticks\":\"\"},\"radialaxis\":{\"gridcolor\":\"white\",\"linecolor\":\"white\",\"ticks\":\"\"}},\"ternary\":{\"bgcolor\":\"#E5ECF6\",\"aaxis\":{\"gridcolor\":\"white\",\"linecolor\":\"white\",\"ticks\":\"\"},\"baxis\":{\"gridcolor\":\"white\",\"linecolor\":\"white\",\"ticks\":\"\"},\"caxis\":{\"gridcolor\":\"white\",\"linecolor\":\"white\",\"ticks\":\"\"}},\"coloraxis\":{\"colorbar\":{\"outlinewidth\":0,\"ticks\":\"\"}},\"colorscale\":{\"sequential\":[[0.0,\"#0d0887\"],[0.1111111111111111,\"#46039f\"],[0.2222222222222222,\"#7201a8\"],[0.3333333333333333,\"#9c179e\"],[0.4444444444444444,\"#bd3786\"],[0.5555555555555556,\"#d8576b\"],[0.6666666666666666,\"#ed7953\"],[0.7777777777777778,\"#fb9f3a\"],[0.8888888888888888,\"#fdca26\"],[1.0,\"#f0f921\"]],\"sequentialminus\":[[0.0,\"#0d0887\"],[0.1111111111111111,\"#46039f\"],[0.2222222222222222,\"#7201a8\"],[0.3333333333333333,\"#9c179e\"],[0.4444444444444444,\"#bd3786\"],[0.5555555555555556,\"#d8576b\"],[0.6666666666666666,\"#ed7953\"],[0.7777777777777778,\"#fb9f3a\"],[0.8888888888888888,\"#fdca26\"],[1.0,\"#f0f921\"]],\"diverging\":[[0,\"#8e0152\"],[0.1,\"#c51b7d\"],[0.2,\"#de77ae\"],[0.3,\"#f1b6da\"],[0.4,\"#fde0ef\"],[0.5,\"#f7f7f7\"],[0.6,\"#e6f5d0\"],[0.7,\"#b8e186\"],[0.8,\"#7fbc41\"],[0.9,\"#4d9221\"],[1,\"#276419\"]]},\"xaxis\":{\"gridcolor\":\"white\",\"linecolor\":\"white\",\"ticks\":\"\",\"title\":{\"standoff\":15},\"zerolinecolor\":\"white\",\"automargin\":true,\"zerolinewidth\":2},\"yaxis\":{\"gridcolor\":\"white\",\"linecolor\":\"white\",\"ticks\":\"\",\"title\":{\"standoff\":15},\"zerolinecolor\":\"white\",\"automargin\":true,\"zerolinewidth\":2},\"scene\":{\"xaxis\":{\"backgroundcolor\":\"#E5ECF6\",\"gridcolor\":\"white\",\"linecolor\":\"white\",\"showbackground\":true,\"ticks\":\"\",\"zerolinecolor\":\"white\",\"gridwidth\":2},\"yaxis\":{\"backgroundcolor\":\"#E5ECF6\",\"gridcolor\":\"white\",\"linecolor\":\"white\",\"showbackground\":true,\"ticks\":\"\",\"zerolinecolor\":\"white\",\"gridwidth\":2},\"zaxis\":{\"backgroundcolor\":\"#E5ECF6\",\"gridcolor\":\"white\",\"linecolor\":\"white\",\"showbackground\":true,\"ticks\":\"\",\"zerolinecolor\":\"white\",\"gridwidth\":2}},\"shapedefaults\":{\"line\":{\"color\":\"#2a3f5f\"}},\"annotationdefaults\":{\"arrowcolor\":\"#2a3f5f\",\"arrowhead\":0,\"arrowwidth\":1},\"geo\":{\"bgcolor\":\"white\",\"landcolor\":\"#E5ECF6\",\"subunitcolor\":\"white\",\"showland\":true,\"showlakes\":true,\"lakecolor\":\"white\"},\"title\":{\"x\":0.05},\"mapbox\":{\"style\":\"light\"}}},\"xaxis\":{\"anchor\":\"y\",\"domain\":[0.0,1.0],\"title\":{\"text\":\"sex\"}},\"yaxis\":{\"anchor\":\"x\",\"domain\":[0.0,1.0],\"title\":{\"text\":\"total_bill\"}},\"legend\":{\"title\":{\"text\":\"day\"},\"tracegroupgap\":0},\"margin\":{\"t\":60},\"boxmode\":\"group\"},                        {\"responsive\": true}                    ).then(function(){\n",
              "                            \n",
              "var gd = document.getElementById('b4bb5ab0-70b7-4c80-bf46-7a45db4dd971');\n",
              "var x = new MutationObserver(function (mutations, observer) {{\n",
              "        var display = window.getComputedStyle(gd).display;\n",
              "        if (!display || display === 'none') {{\n",
              "            console.log([gd, 'removed!']);\n",
              "            Plotly.purge(gd);\n",
              "            observer.disconnect();\n",
              "        }}\n",
              "}});\n",
              "\n",
              "// Listen for the removal of the full notebook cells\n",
              "var notebookContainer = gd.closest('#notebook-container');\n",
              "if (notebookContainer) {{\n",
              "    x.observe(notebookContainer, {childList: true});\n",
              "}}\n",
              "\n",
              "// Listen for the clearing of the current output cell\n",
              "var outputEl = gd.closest('.output');\n",
              "if (outputEl) {{\n",
              "    x.observe(outputEl, {childList: true});\n",
              "}}\n",
              "\n",
              "                        })                };                            </script>        </div>\n",
              "</body>\n",
              "</html>"
            ]
          },
          "metadata": {}
        }
      ]
    },
    {
      "cell_type": "code",
      "source": [
        "fig=px.box(df,y=\"tip\",x=\"sex\",color=\"day\")\n",
        "fig.show()"
      ],
      "metadata": {
        "colab": {
          "base_uri": "https://localhost:8080/",
          "height": 542
        },
        "id": "qrNY71Flfs0_",
        "outputId": "47e4b66b-3887-41ff-e29d-ff91504e4c0b"
      },
      "execution_count": 48,
      "outputs": [
        {
          "output_type": "display_data",
          "data": {
            "text/html": [
              "<html>\n",
              "<head><meta charset=\"utf-8\" /></head>\n",
              "<body>\n",
              "    <div>            <script src=\"https://cdnjs.cloudflare.com/ajax/libs/mathjax/2.7.5/MathJax.js?config=TeX-AMS-MML_SVG\"></script><script type=\"text/javascript\">if (window.MathJax && window.MathJax.Hub && window.MathJax.Hub.Config) {window.MathJax.Hub.Config({SVG: {font: \"STIX-Web\"}});}</script>                <script type=\"text/javascript\">window.PlotlyConfig = {MathJaxConfig: 'local'};</script>\n",
              "        <script charset=\"utf-8\" src=\"https://cdn.plot.ly/plotly-2.24.1.min.js\"></script>                <div id=\"a917fc6c-5283-4842-8da3-20716f7a5063\" class=\"plotly-graph-div\" style=\"height:525px; width:100%;\"></div>            <script type=\"text/javascript\">                                    window.PLOTLYENV=window.PLOTLYENV || {};                                    if (document.getElementById(\"a917fc6c-5283-4842-8da3-20716f7a5063\")) {                    Plotly.newPlot(                        \"a917fc6c-5283-4842-8da3-20716f7a5063\",                        [{\"alignmentgroup\":\"True\",\"hovertemplate\":\"day=Sun\\u003cbr\\u003esex=%{x}\\u003cbr\\u003etip=%{y}\\u003cextra\\u003e\\u003c\\u002fextra\\u003e\",\"legendgroup\":\"Sun\",\"marker\":{\"color\":\"#636efa\"},\"name\":\"Sun\",\"notched\":false,\"offsetgroup\":\"Sun\",\"orientation\":\"v\",\"showlegend\":true,\"x\":[\"Female\",\"Male\",\"Male\",\"Male\",\"Female\",\"Male\",\"Male\",\"Male\",\"Male\",\"Male\",\"Male\",\"Female\",\"Male\",\"Male\",\"Female\",\"Male\",\"Female\",\"Male\",\"Female\",\"Male\",\"Male\",\"Male\",\"Male\",\"Male\",\"Male\",\"Male\",\"Male\",\"Male\",\"Male\",\"Female\",\"Female\",\"Male\",\"Male\",\"Male\",\"Male\",\"Male\",\"Female\",\"Female\",\"Male\",\"Male\",\"Male\",\"Male\",\"Male\",\"Male\",\"Female\",\"Male\",\"Female\",\"Female\",\"Male\",\"Male\",\"Male\",\"Female\",\"Male\",\"Female\",\"Male\",\"Male\",\"Male\",\"Male\",\"Male\",\"Male\",\"Male\",\"Male\",\"Male\",\"Female\",\"Male\",\"Male\",\"Male\",\"Male\",\"Male\",\"Male\",\"Male\",\"Female\",\"Male\",\"Female\",\"Male\",\"Male\"],\"x0\":\" \",\"xaxis\":\"x\",\"y\":[1.01,1.66,3.5,3.31,3.61,4.71,2.0,3.12,1.96,3.23,1.71,5.0,1.57,3.0,3.02,3.92,1.67,3.71,3.5,2.54,3.06,1.32,5.6,3.0,5.0,6.0,2.05,3.0,2.5,2.6,5.2,1.56,4.34,3.51,4.0,2.55,4.0,3.5,5.07,2.5,2.0,2.74,2.0,2.0,5.14,5.0,3.75,2.61,2.0,3.5,2.5,2.0,2.0,3.0,3.48,2.24,4.5,5.15,3.18,4.0,3.11,2.0,2.0,4.0,3.55,3.68,5.65,3.5,6.5,3.0,5.0,3.5,2.0,3.5,4.0,1.5],\"y0\":\" \",\"yaxis\":\"y\",\"type\":\"box\"},{\"alignmentgroup\":\"True\",\"hovertemplate\":\"day=Sat\\u003cbr\\u003esex=%{x}\\u003cbr\\u003etip=%{y}\\u003cextra\\u003e\\u003c\\u002fextra\\u003e\",\"legendgroup\":\"Sat\",\"marker\":{\"color\":\"#EF553B\"},\"name\":\"Sat\",\"notched\":false,\"offsetgroup\":\"Sat\",\"orientation\":\"v\",\"showlegend\":true,\"x\":[\"Male\",\"Male\",\"Female\",\"Female\",\"Male\",\"Male\",\"Male\",\"Male\",\"Male\",\"Male\",\"Female\",\"Male\",\"Male\",\"Female\",\"Female\",\"Male\",\"Male\",\"Male\",\"Female\",\"Male\",\"Male\",\"Male\",\"Male\",\"Female\",\"Male\",\"Male\",\"Male\",\"Male\",\"Male\",\"Male\",\"Male\",\"Male\",\"Female\",\"Female\",\"Male\",\"Male\",\"Male\",\"Female\",\"Female\",\"Female\",\"Female\",\"Male\",\"Male\",\"Female\",\"Female\",\"Female\",\"Male\",\"Male\",\"Male\",\"Male\",\"Female\",\"Male\",\"Female\",\"Female\",\"Female\",\"Male\",\"Male\",\"Male\",\"Male\",\"Male\",\"Female\",\"Male\",\"Male\",\"Male\",\"Female\",\"Female\",\"Female\",\"Male\",\"Male\",\"Male\",\"Female\",\"Male\",\"Male\",\"Female\",\"Male\",\"Male\",\"Male\",\"Male\",\"Male\",\"Male\",\"Male\",\"Male\",\"Female\",\"Male\",\"Female\",\"Male\",\"Male\"],\"x0\":\" \",\"xaxis\":\"x\",\"y\":[3.35,4.08,2.75,2.23,7.58,3.18,2.34,2.0,2.0,4.3,3.0,1.45,2.5,3.0,2.45,3.27,3.6,2.0,3.07,2.31,5.0,2.24,3.0,1.5,1.76,6.73,3.21,2.0,1.98,3.76,2.64,3.15,2.47,1.0,2.01,2.09,1.97,3.0,3.14,5.0,2.2,1.25,3.08,2.5,3.48,4.08,1.64,4.06,4.29,3.76,4.0,3.0,1.0,1.61,2.0,10.0,3.16,3.41,3.0,2.03,2.23,2.0,5.16,9.0,2.5,6.5,1.1,3.0,1.5,1.44,3.09,3.0,2.72,2.88,2.0,3.0,3.39,1.47,3.0,1.25,1.0,1.17,4.67,5.92,2.0,2.0,1.75],\"y0\":\" \",\"yaxis\":\"y\",\"type\":\"box\"},{\"alignmentgroup\":\"True\",\"hovertemplate\":\"day=Thur\\u003cbr\\u003esex=%{x}\\u003cbr\\u003etip=%{y}\\u003cextra\\u003e\\u003c\\u002fextra\\u003e\",\"legendgroup\":\"Thur\",\"marker\":{\"color\":\"#00cc96\"},\"name\":\"Thur\",\"notched\":false,\"offsetgroup\":\"Thur\",\"orientation\":\"v\",\"showlegend\":true,\"x\":[\"Male\",\"Male\",\"Male\",\"Male\",\"Male\",\"Female\",\"Male\",\"Male\",\"Female\",\"Male\",\"Male\",\"Male\",\"Male\",\"Female\",\"Female\",\"Female\",\"Male\",\"Female\",\"Male\",\"Male\",\"Female\",\"Female\",\"Male\",\"Female\",\"Female\",\"Male\",\"Male\",\"Female\",\"Female\",\"Female\",\"Female\",\"Female\",\"Female\",\"Female\",\"Male\",\"Female\",\"Female\",\"Male\",\"Male\",\"Female\",\"Female\",\"Female\",\"Female\",\"Female\",\"Male\",\"Male\",\"Female\",\"Male\",\"Male\",\"Male\",\"Male\",\"Male\",\"Female\",\"Female\",\"Male\",\"Male\",\"Female\",\"Female\",\"Female\",\"Male\",\"Female\",\"Female\"],\"x0\":\" \",\"xaxis\":\"x\",\"y\":[4.0,3.0,2.71,3.0,3.4,1.83,5.0,2.03,5.17,2.0,4.0,5.85,3.0,1.5,1.8,2.92,2.31,1.68,2.5,2.0,2.52,4.2,1.48,2.0,2.0,2.18,1.5,2.83,1.5,2.0,3.25,1.25,2.0,2.0,2.0,2.75,3.5,6.7,5.0,5.0,2.3,1.5,1.36,1.63,1.73,2.0,4.19,2.56,2.02,4.0,1.44,2.0,5.0,2.0,2.0,4.0,2.01,2.0,2.5,4.0,3.23,3.0],\"y0\":\" \",\"yaxis\":\"y\",\"type\":\"box\"},{\"alignmentgroup\":\"True\",\"hovertemplate\":\"day=Fri\\u003cbr\\u003esex=%{x}\\u003cbr\\u003etip=%{y}\\u003cextra\\u003e\\u003c\\u002fextra\\u003e\",\"legendgroup\":\"Fri\",\"marker\":{\"color\":\"#ab63fa\"},\"name\":\"Fri\",\"notched\":false,\"offsetgroup\":\"Fri\",\"orientation\":\"v\",\"showlegend\":true,\"x\":[\"Male\",\"Male\",\"Female\",\"Female\",\"Female\",\"Male\",\"Male\",\"Male\",\"Male\",\"Male\",\"Female\",\"Female\",\"Male\",\"Female\",\"Male\",\"Female\",\"Male\",\"Female\",\"Female\"],\"x0\":\" \",\"xaxis\":\"x\",\"y\":[3.0,3.5,1.0,4.3,3.25,4.73,4.0,1.5,3.0,1.5,2.5,3.0,2.2,3.48,1.92,3.0,1.58,2.5,2.0],\"y0\":\" \",\"yaxis\":\"y\",\"type\":\"box\"}],                        {\"template\":{\"data\":{\"histogram2dcontour\":[{\"type\":\"histogram2dcontour\",\"colorbar\":{\"outlinewidth\":0,\"ticks\":\"\"},\"colorscale\":[[0.0,\"#0d0887\"],[0.1111111111111111,\"#46039f\"],[0.2222222222222222,\"#7201a8\"],[0.3333333333333333,\"#9c179e\"],[0.4444444444444444,\"#bd3786\"],[0.5555555555555556,\"#d8576b\"],[0.6666666666666666,\"#ed7953\"],[0.7777777777777778,\"#fb9f3a\"],[0.8888888888888888,\"#fdca26\"],[1.0,\"#f0f921\"]]}],\"choropleth\":[{\"type\":\"choropleth\",\"colorbar\":{\"outlinewidth\":0,\"ticks\":\"\"}}],\"histogram2d\":[{\"type\":\"histogram2d\",\"colorbar\":{\"outlinewidth\":0,\"ticks\":\"\"},\"colorscale\":[[0.0,\"#0d0887\"],[0.1111111111111111,\"#46039f\"],[0.2222222222222222,\"#7201a8\"],[0.3333333333333333,\"#9c179e\"],[0.4444444444444444,\"#bd3786\"],[0.5555555555555556,\"#d8576b\"],[0.6666666666666666,\"#ed7953\"],[0.7777777777777778,\"#fb9f3a\"],[0.8888888888888888,\"#fdca26\"],[1.0,\"#f0f921\"]]}],\"heatmap\":[{\"type\":\"heatmap\",\"colorbar\":{\"outlinewidth\":0,\"ticks\":\"\"},\"colorscale\":[[0.0,\"#0d0887\"],[0.1111111111111111,\"#46039f\"],[0.2222222222222222,\"#7201a8\"],[0.3333333333333333,\"#9c179e\"],[0.4444444444444444,\"#bd3786\"],[0.5555555555555556,\"#d8576b\"],[0.6666666666666666,\"#ed7953\"],[0.7777777777777778,\"#fb9f3a\"],[0.8888888888888888,\"#fdca26\"],[1.0,\"#f0f921\"]]}],\"heatmapgl\":[{\"type\":\"heatmapgl\",\"colorbar\":{\"outlinewidth\":0,\"ticks\":\"\"},\"colorscale\":[[0.0,\"#0d0887\"],[0.1111111111111111,\"#46039f\"],[0.2222222222222222,\"#7201a8\"],[0.3333333333333333,\"#9c179e\"],[0.4444444444444444,\"#bd3786\"],[0.5555555555555556,\"#d8576b\"],[0.6666666666666666,\"#ed7953\"],[0.7777777777777778,\"#fb9f3a\"],[0.8888888888888888,\"#fdca26\"],[1.0,\"#f0f921\"]]}],\"contourcarpet\":[{\"type\":\"contourcarpet\",\"colorbar\":{\"outlinewidth\":0,\"ticks\":\"\"}}],\"contour\":[{\"type\":\"contour\",\"colorbar\":{\"outlinewidth\":0,\"ticks\":\"\"},\"colorscale\":[[0.0,\"#0d0887\"],[0.1111111111111111,\"#46039f\"],[0.2222222222222222,\"#7201a8\"],[0.3333333333333333,\"#9c179e\"],[0.4444444444444444,\"#bd3786\"],[0.5555555555555556,\"#d8576b\"],[0.6666666666666666,\"#ed7953\"],[0.7777777777777778,\"#fb9f3a\"],[0.8888888888888888,\"#fdca26\"],[1.0,\"#f0f921\"]]}],\"surface\":[{\"type\":\"surface\",\"colorbar\":{\"outlinewidth\":0,\"ticks\":\"\"},\"colorscale\":[[0.0,\"#0d0887\"],[0.1111111111111111,\"#46039f\"],[0.2222222222222222,\"#7201a8\"],[0.3333333333333333,\"#9c179e\"],[0.4444444444444444,\"#bd3786\"],[0.5555555555555556,\"#d8576b\"],[0.6666666666666666,\"#ed7953\"],[0.7777777777777778,\"#fb9f3a\"],[0.8888888888888888,\"#fdca26\"],[1.0,\"#f0f921\"]]}],\"mesh3d\":[{\"type\":\"mesh3d\",\"colorbar\":{\"outlinewidth\":0,\"ticks\":\"\"}}],\"scatter\":[{\"fillpattern\":{\"fillmode\":\"overlay\",\"size\":10,\"solidity\":0.2},\"type\":\"scatter\"}],\"parcoords\":[{\"type\":\"parcoords\",\"line\":{\"colorbar\":{\"outlinewidth\":0,\"ticks\":\"\"}}}],\"scatterpolargl\":[{\"type\":\"scatterpolargl\",\"marker\":{\"colorbar\":{\"outlinewidth\":0,\"ticks\":\"\"}}}],\"bar\":[{\"error_x\":{\"color\":\"#2a3f5f\"},\"error_y\":{\"color\":\"#2a3f5f\"},\"marker\":{\"line\":{\"color\":\"#E5ECF6\",\"width\":0.5},\"pattern\":{\"fillmode\":\"overlay\",\"size\":10,\"solidity\":0.2}},\"type\":\"bar\"}],\"scattergeo\":[{\"type\":\"scattergeo\",\"marker\":{\"colorbar\":{\"outlinewidth\":0,\"ticks\":\"\"}}}],\"scatterpolar\":[{\"type\":\"scatterpolar\",\"marker\":{\"colorbar\":{\"outlinewidth\":0,\"ticks\":\"\"}}}],\"histogram\":[{\"marker\":{\"pattern\":{\"fillmode\":\"overlay\",\"size\":10,\"solidity\":0.2}},\"type\":\"histogram\"}],\"scattergl\":[{\"type\":\"scattergl\",\"marker\":{\"colorbar\":{\"outlinewidth\":0,\"ticks\":\"\"}}}],\"scatter3d\":[{\"type\":\"scatter3d\",\"line\":{\"colorbar\":{\"outlinewidth\":0,\"ticks\":\"\"}},\"marker\":{\"colorbar\":{\"outlinewidth\":0,\"ticks\":\"\"}}}],\"scattermapbox\":[{\"type\":\"scattermapbox\",\"marker\":{\"colorbar\":{\"outlinewidth\":0,\"ticks\":\"\"}}}],\"scatterternary\":[{\"type\":\"scatterternary\",\"marker\":{\"colorbar\":{\"outlinewidth\":0,\"ticks\":\"\"}}}],\"scattercarpet\":[{\"type\":\"scattercarpet\",\"marker\":{\"colorbar\":{\"outlinewidth\":0,\"ticks\":\"\"}}}],\"carpet\":[{\"aaxis\":{\"endlinecolor\":\"#2a3f5f\",\"gridcolor\":\"white\",\"linecolor\":\"white\",\"minorgridcolor\":\"white\",\"startlinecolor\":\"#2a3f5f\"},\"baxis\":{\"endlinecolor\":\"#2a3f5f\",\"gridcolor\":\"white\",\"linecolor\":\"white\",\"minorgridcolor\":\"white\",\"startlinecolor\":\"#2a3f5f\"},\"type\":\"carpet\"}],\"table\":[{\"cells\":{\"fill\":{\"color\":\"#EBF0F8\"},\"line\":{\"color\":\"white\"}},\"header\":{\"fill\":{\"color\":\"#C8D4E3\"},\"line\":{\"color\":\"white\"}},\"type\":\"table\"}],\"barpolar\":[{\"marker\":{\"line\":{\"color\":\"#E5ECF6\",\"width\":0.5},\"pattern\":{\"fillmode\":\"overlay\",\"size\":10,\"solidity\":0.2}},\"type\":\"barpolar\"}],\"pie\":[{\"automargin\":true,\"type\":\"pie\"}]},\"layout\":{\"autotypenumbers\":\"strict\",\"colorway\":[\"#636efa\",\"#EF553B\",\"#00cc96\",\"#ab63fa\",\"#FFA15A\",\"#19d3f3\",\"#FF6692\",\"#B6E880\",\"#FF97FF\",\"#FECB52\"],\"font\":{\"color\":\"#2a3f5f\"},\"hovermode\":\"closest\",\"hoverlabel\":{\"align\":\"left\"},\"paper_bgcolor\":\"white\",\"plot_bgcolor\":\"#E5ECF6\",\"polar\":{\"bgcolor\":\"#E5ECF6\",\"angularaxis\":{\"gridcolor\":\"white\",\"linecolor\":\"white\",\"ticks\":\"\"},\"radialaxis\":{\"gridcolor\":\"white\",\"linecolor\":\"white\",\"ticks\":\"\"}},\"ternary\":{\"bgcolor\":\"#E5ECF6\",\"aaxis\":{\"gridcolor\":\"white\",\"linecolor\":\"white\",\"ticks\":\"\"},\"baxis\":{\"gridcolor\":\"white\",\"linecolor\":\"white\",\"ticks\":\"\"},\"caxis\":{\"gridcolor\":\"white\",\"linecolor\":\"white\",\"ticks\":\"\"}},\"coloraxis\":{\"colorbar\":{\"outlinewidth\":0,\"ticks\":\"\"}},\"colorscale\":{\"sequential\":[[0.0,\"#0d0887\"],[0.1111111111111111,\"#46039f\"],[0.2222222222222222,\"#7201a8\"],[0.3333333333333333,\"#9c179e\"],[0.4444444444444444,\"#bd3786\"],[0.5555555555555556,\"#d8576b\"],[0.6666666666666666,\"#ed7953\"],[0.7777777777777778,\"#fb9f3a\"],[0.8888888888888888,\"#fdca26\"],[1.0,\"#f0f921\"]],\"sequentialminus\":[[0.0,\"#0d0887\"],[0.1111111111111111,\"#46039f\"],[0.2222222222222222,\"#7201a8\"],[0.3333333333333333,\"#9c179e\"],[0.4444444444444444,\"#bd3786\"],[0.5555555555555556,\"#d8576b\"],[0.6666666666666666,\"#ed7953\"],[0.7777777777777778,\"#fb9f3a\"],[0.8888888888888888,\"#fdca26\"],[1.0,\"#f0f921\"]],\"diverging\":[[0,\"#8e0152\"],[0.1,\"#c51b7d\"],[0.2,\"#de77ae\"],[0.3,\"#f1b6da\"],[0.4,\"#fde0ef\"],[0.5,\"#f7f7f7\"],[0.6,\"#e6f5d0\"],[0.7,\"#b8e186\"],[0.8,\"#7fbc41\"],[0.9,\"#4d9221\"],[1,\"#276419\"]]},\"xaxis\":{\"gridcolor\":\"white\",\"linecolor\":\"white\",\"ticks\":\"\",\"title\":{\"standoff\":15},\"zerolinecolor\":\"white\",\"automargin\":true,\"zerolinewidth\":2},\"yaxis\":{\"gridcolor\":\"white\",\"linecolor\":\"white\",\"ticks\":\"\",\"title\":{\"standoff\":15},\"zerolinecolor\":\"white\",\"automargin\":true,\"zerolinewidth\":2},\"scene\":{\"xaxis\":{\"backgroundcolor\":\"#E5ECF6\",\"gridcolor\":\"white\",\"linecolor\":\"white\",\"showbackground\":true,\"ticks\":\"\",\"zerolinecolor\":\"white\",\"gridwidth\":2},\"yaxis\":{\"backgroundcolor\":\"#E5ECF6\",\"gridcolor\":\"white\",\"linecolor\":\"white\",\"showbackground\":true,\"ticks\":\"\",\"zerolinecolor\":\"white\",\"gridwidth\":2},\"zaxis\":{\"backgroundcolor\":\"#E5ECF6\",\"gridcolor\":\"white\",\"linecolor\":\"white\",\"showbackground\":true,\"ticks\":\"\",\"zerolinecolor\":\"white\",\"gridwidth\":2}},\"shapedefaults\":{\"line\":{\"color\":\"#2a3f5f\"}},\"annotationdefaults\":{\"arrowcolor\":\"#2a3f5f\",\"arrowhead\":0,\"arrowwidth\":1},\"geo\":{\"bgcolor\":\"white\",\"landcolor\":\"#E5ECF6\",\"subunitcolor\":\"white\",\"showland\":true,\"showlakes\":true,\"lakecolor\":\"white\"},\"title\":{\"x\":0.05},\"mapbox\":{\"style\":\"light\"}}},\"xaxis\":{\"anchor\":\"y\",\"domain\":[0.0,1.0],\"title\":{\"text\":\"sex\"}},\"yaxis\":{\"anchor\":\"x\",\"domain\":[0.0,1.0],\"title\":{\"text\":\"tip\"}},\"legend\":{\"title\":{\"text\":\"day\"},\"tracegroupgap\":0},\"margin\":{\"t\":60},\"boxmode\":\"group\"},                        {\"responsive\": true}                    ).then(function(){\n",
              "                            \n",
              "var gd = document.getElementById('a917fc6c-5283-4842-8da3-20716f7a5063');\n",
              "var x = new MutationObserver(function (mutations, observer) {{\n",
              "        var display = window.getComputedStyle(gd).display;\n",
              "        if (!display || display === 'none') {{\n",
              "            console.log([gd, 'removed!']);\n",
              "            Plotly.purge(gd);\n",
              "            observer.disconnect();\n",
              "        }}\n",
              "}});\n",
              "\n",
              "// Listen for the removal of the full notebook cells\n",
              "var notebookContainer = gd.closest('#notebook-container');\n",
              "if (notebookContainer) {{\n",
              "    x.observe(notebookContainer, {childList: true});\n",
              "}}\n",
              "\n",
              "// Listen for the clearing of the current output cell\n",
              "var outputEl = gd.closest('.output');\n",
              "if (outputEl) {{\n",
              "    x.observe(outputEl, {childList: true});\n",
              "}}\n",
              "\n",
              "                        })                };                            </script>        </div>\n",
              "</body>\n",
              "</html>"
            ]
          },
          "metadata": {}
        }
      ]
    },
    {
      "cell_type": "code",
      "source": [
        "fig=px.pie(df,values=\"tip\",names=\"sex\")\n",
        "fig.show()"
      ],
      "metadata": {
        "colab": {
          "base_uri": "https://localhost:8080/",
          "height": 542
        },
        "id": "bCtU-lqCf-nv",
        "outputId": "cce6727f-4810-4597-ffb0-ce3f30ebdc7f"
      },
      "execution_count": 54,
      "outputs": [
        {
          "output_type": "display_data",
          "data": {
            "text/html": [
              "<html>\n",
              "<head><meta charset=\"utf-8\" /></head>\n",
              "<body>\n",
              "    <div>            <script src=\"https://cdnjs.cloudflare.com/ajax/libs/mathjax/2.7.5/MathJax.js?config=TeX-AMS-MML_SVG\"></script><script type=\"text/javascript\">if (window.MathJax && window.MathJax.Hub && window.MathJax.Hub.Config) {window.MathJax.Hub.Config({SVG: {font: \"STIX-Web\"}});}</script>                <script type=\"text/javascript\">window.PlotlyConfig = {MathJaxConfig: 'local'};</script>\n",
              "        <script charset=\"utf-8\" src=\"https://cdn.plot.ly/plotly-2.24.1.min.js\"></script>                <div id=\"81f4481c-e4e8-44e4-80cc-c5e49c37c164\" class=\"plotly-graph-div\" style=\"height:525px; width:100%;\"></div>            <script type=\"text/javascript\">                                    window.PLOTLYENV=window.PLOTLYENV || {};                                    if (document.getElementById(\"81f4481c-e4e8-44e4-80cc-c5e49c37c164\")) {                    Plotly.newPlot(                        \"81f4481c-e4e8-44e4-80cc-c5e49c37c164\",                        [{\"domain\":{\"x\":[0.0,1.0],\"y\":[0.0,1.0]},\"hovertemplate\":\"sex=%{label}\\u003cbr\\u003etip=%{value}\\u003cextra\\u003e\\u003c\\u002fextra\\u003e\",\"labels\":[\"Female\",\"Male\",\"Male\",\"Male\",\"Female\",\"Male\",\"Male\",\"Male\",\"Male\",\"Male\",\"Male\",\"Female\",\"Male\",\"Male\",\"Female\",\"Male\",\"Female\",\"Male\",\"Female\",\"Male\",\"Male\",\"Female\",\"Female\",\"Male\",\"Male\",\"Male\",\"Male\",\"Male\",\"Male\",\"Female\",\"Male\",\"Male\",\"Female\",\"Female\",\"Male\",\"Male\",\"Male\",\"Female\",\"Male\",\"Male\",\"Male\",\"Male\",\"Male\",\"Male\",\"Male\",\"Male\",\"Male\",\"Male\",\"Male\",\"Male\",\"Male\",\"Female\",\"Female\",\"Male\",\"Male\",\"Male\",\"Male\",\"Female\",\"Male\",\"Male\",\"Male\",\"Male\",\"Male\",\"Male\",\"Male\",\"Male\",\"Female\",\"Female\",\"Male\",\"Male\",\"Male\",\"Female\",\"Female\",\"Female\",\"Female\",\"Male\",\"Male\",\"Male\",\"Male\",\"Male\",\"Male\",\"Male\",\"Female\",\"Male\",\"Male\",\"Female\",\"Male\",\"Male\",\"Male\",\"Male\",\"Male\",\"Male\",\"Female\",\"Female\",\"Female\",\"Male\",\"Male\",\"Male\",\"Male\",\"Male\",\"Female\",\"Female\",\"Female\",\"Female\",\"Female\",\"Male\",\"Male\",\"Male\",\"Male\",\"Female\",\"Male\",\"Female\",\"Male\",\"Male\",\"Female\",\"Female\",\"Male\",\"Female\",\"Female\",\"Female\",\"Male\",\"Female\",\"Male\",\"Male\",\"Female\",\"Female\",\"Male\",\"Female\",\"Female\",\"Male\",\"Male\",\"Female\",\"Female\",\"Female\",\"Female\",\"Female\",\"Female\",\"Female\",\"Male\",\"Female\",\"Female\",\"Male\",\"Male\",\"Female\",\"Female\",\"Female\",\"Female\",\"Female\",\"Male\",\"Male\",\"Male\",\"Male\",\"Male\",\"Male\",\"Male\",\"Female\",\"Male\",\"Female\",\"Female\",\"Male\",\"Male\",\"Male\",\"Female\",\"Male\",\"Female\",\"Male\",\"Male\",\"Male\",\"Female\",\"Female\",\"Male\",\"Male\",\"Male\",\"Male\",\"Male\",\"Male\",\"Male\",\"Male\",\"Female\",\"Male\",\"Male\",\"Male\",\"Male\",\"Male\",\"Male\",\"Male\",\"Female\",\"Male\",\"Female\",\"Male\",\"Male\",\"Female\",\"Male\",\"Male\",\"Male\",\"Male\",\"Male\",\"Female\",\"Female\",\"Male\",\"Male\",\"Female\",\"Female\",\"Female\",\"Male\",\"Female\",\"Male\",\"Male\",\"Male\",\"Female\",\"Male\",\"Male\",\"Male\",\"Female\",\"Female\",\"Female\",\"Male\",\"Male\",\"Male\",\"Female\",\"Male\",\"Female\",\"Male\",\"Female\",\"Male\",\"Female\",\"Female\",\"Male\",\"Male\",\"Female\",\"Male\",\"Male\",\"Male\",\"Male\",\"Male\",\"Male\",\"Male\",\"Male\",\"Female\",\"Male\",\"Female\",\"Male\",\"Male\",\"Female\"],\"legendgroup\":\"\",\"name\":\"\",\"showlegend\":true,\"values\":[1.01,1.66,3.5,3.31,3.61,4.71,2.0,3.12,1.96,3.23,1.71,5.0,1.57,3.0,3.02,3.92,1.67,3.71,3.5,3.35,4.08,2.75,2.23,7.58,3.18,2.34,2.0,2.0,4.3,3.0,1.45,2.5,3.0,2.45,3.27,3.6,2.0,3.07,2.31,5.0,2.24,2.54,3.06,1.32,5.6,3.0,5.0,6.0,2.05,3.0,2.5,2.6,5.2,1.56,4.34,3.51,3.0,1.5,1.76,6.73,3.21,2.0,1.98,3.76,2.64,3.15,2.47,1.0,2.01,2.09,1.97,3.0,3.14,5.0,2.2,1.25,3.08,4.0,3.0,2.71,3.0,3.4,1.83,5.0,2.03,5.17,2.0,4.0,5.85,3.0,3.0,3.5,1.0,4.3,3.25,4.73,4.0,1.5,3.0,1.5,2.5,3.0,2.5,3.48,4.08,1.64,4.06,4.29,3.76,4.0,3.0,1.0,4.0,2.55,4.0,3.5,5.07,1.5,1.8,2.92,2.31,1.68,2.5,2.0,2.52,4.2,1.48,2.0,2.0,2.18,1.5,2.83,1.5,2.0,3.25,1.25,2.0,2.0,2.0,2.75,3.5,6.7,5.0,5.0,2.3,1.5,1.36,1.63,1.73,2.0,2.5,2.0,2.74,2.0,2.0,5.14,5.0,3.75,2.61,2.0,3.5,2.5,2.0,2.0,3.0,3.48,2.24,4.5,1.61,2.0,10.0,3.16,5.15,3.18,4.0,3.11,2.0,2.0,4.0,3.55,3.68,5.65,3.5,6.5,3.0,5.0,3.5,2.0,3.5,4.0,1.5,4.19,2.56,2.02,4.0,1.44,2.0,5.0,2.0,2.0,4.0,2.01,2.0,2.5,4.0,3.23,3.41,3.0,2.03,2.23,2.0,5.16,9.0,2.5,6.5,1.1,3.0,1.5,1.44,3.09,2.2,3.48,1.92,3.0,1.58,2.5,2.0,3.0,2.72,2.88,2.0,3.0,3.39,1.47,3.0,1.25,1.0,1.17,4.67,5.92,2.0,2.0,1.75,3.0],\"type\":\"pie\"}],                        {\"template\":{\"data\":{\"histogram2dcontour\":[{\"type\":\"histogram2dcontour\",\"colorbar\":{\"outlinewidth\":0,\"ticks\":\"\"},\"colorscale\":[[0.0,\"#0d0887\"],[0.1111111111111111,\"#46039f\"],[0.2222222222222222,\"#7201a8\"],[0.3333333333333333,\"#9c179e\"],[0.4444444444444444,\"#bd3786\"],[0.5555555555555556,\"#d8576b\"],[0.6666666666666666,\"#ed7953\"],[0.7777777777777778,\"#fb9f3a\"],[0.8888888888888888,\"#fdca26\"],[1.0,\"#f0f921\"]]}],\"choropleth\":[{\"type\":\"choropleth\",\"colorbar\":{\"outlinewidth\":0,\"ticks\":\"\"}}],\"histogram2d\":[{\"type\":\"histogram2d\",\"colorbar\":{\"outlinewidth\":0,\"ticks\":\"\"},\"colorscale\":[[0.0,\"#0d0887\"],[0.1111111111111111,\"#46039f\"],[0.2222222222222222,\"#7201a8\"],[0.3333333333333333,\"#9c179e\"],[0.4444444444444444,\"#bd3786\"],[0.5555555555555556,\"#d8576b\"],[0.6666666666666666,\"#ed7953\"],[0.7777777777777778,\"#fb9f3a\"],[0.8888888888888888,\"#fdca26\"],[1.0,\"#f0f921\"]]}],\"heatmap\":[{\"type\":\"heatmap\",\"colorbar\":{\"outlinewidth\":0,\"ticks\":\"\"},\"colorscale\":[[0.0,\"#0d0887\"],[0.1111111111111111,\"#46039f\"],[0.2222222222222222,\"#7201a8\"],[0.3333333333333333,\"#9c179e\"],[0.4444444444444444,\"#bd3786\"],[0.5555555555555556,\"#d8576b\"],[0.6666666666666666,\"#ed7953\"],[0.7777777777777778,\"#fb9f3a\"],[0.8888888888888888,\"#fdca26\"],[1.0,\"#f0f921\"]]}],\"heatmapgl\":[{\"type\":\"heatmapgl\",\"colorbar\":{\"outlinewidth\":0,\"ticks\":\"\"},\"colorscale\":[[0.0,\"#0d0887\"],[0.1111111111111111,\"#46039f\"],[0.2222222222222222,\"#7201a8\"],[0.3333333333333333,\"#9c179e\"],[0.4444444444444444,\"#bd3786\"],[0.5555555555555556,\"#d8576b\"],[0.6666666666666666,\"#ed7953\"],[0.7777777777777778,\"#fb9f3a\"],[0.8888888888888888,\"#fdca26\"],[1.0,\"#f0f921\"]]}],\"contourcarpet\":[{\"type\":\"contourcarpet\",\"colorbar\":{\"outlinewidth\":0,\"ticks\":\"\"}}],\"contour\":[{\"type\":\"contour\",\"colorbar\":{\"outlinewidth\":0,\"ticks\":\"\"},\"colorscale\":[[0.0,\"#0d0887\"],[0.1111111111111111,\"#46039f\"],[0.2222222222222222,\"#7201a8\"],[0.3333333333333333,\"#9c179e\"],[0.4444444444444444,\"#bd3786\"],[0.5555555555555556,\"#d8576b\"],[0.6666666666666666,\"#ed7953\"],[0.7777777777777778,\"#fb9f3a\"],[0.8888888888888888,\"#fdca26\"],[1.0,\"#f0f921\"]]}],\"surface\":[{\"type\":\"surface\",\"colorbar\":{\"outlinewidth\":0,\"ticks\":\"\"},\"colorscale\":[[0.0,\"#0d0887\"],[0.1111111111111111,\"#46039f\"],[0.2222222222222222,\"#7201a8\"],[0.3333333333333333,\"#9c179e\"],[0.4444444444444444,\"#bd3786\"],[0.5555555555555556,\"#d8576b\"],[0.6666666666666666,\"#ed7953\"],[0.7777777777777778,\"#fb9f3a\"],[0.8888888888888888,\"#fdca26\"],[1.0,\"#f0f921\"]]}],\"mesh3d\":[{\"type\":\"mesh3d\",\"colorbar\":{\"outlinewidth\":0,\"ticks\":\"\"}}],\"scatter\":[{\"fillpattern\":{\"fillmode\":\"overlay\",\"size\":10,\"solidity\":0.2},\"type\":\"scatter\"}],\"parcoords\":[{\"type\":\"parcoords\",\"line\":{\"colorbar\":{\"outlinewidth\":0,\"ticks\":\"\"}}}],\"scatterpolargl\":[{\"type\":\"scatterpolargl\",\"marker\":{\"colorbar\":{\"outlinewidth\":0,\"ticks\":\"\"}}}],\"bar\":[{\"error_x\":{\"color\":\"#2a3f5f\"},\"error_y\":{\"color\":\"#2a3f5f\"},\"marker\":{\"line\":{\"color\":\"#E5ECF6\",\"width\":0.5},\"pattern\":{\"fillmode\":\"overlay\",\"size\":10,\"solidity\":0.2}},\"type\":\"bar\"}],\"scattergeo\":[{\"type\":\"scattergeo\",\"marker\":{\"colorbar\":{\"outlinewidth\":0,\"ticks\":\"\"}}}],\"scatterpolar\":[{\"type\":\"scatterpolar\",\"marker\":{\"colorbar\":{\"outlinewidth\":0,\"ticks\":\"\"}}}],\"histogram\":[{\"marker\":{\"pattern\":{\"fillmode\":\"overlay\",\"size\":10,\"solidity\":0.2}},\"type\":\"histogram\"}],\"scattergl\":[{\"type\":\"scattergl\",\"marker\":{\"colorbar\":{\"outlinewidth\":0,\"ticks\":\"\"}}}],\"scatter3d\":[{\"type\":\"scatter3d\",\"line\":{\"colorbar\":{\"outlinewidth\":0,\"ticks\":\"\"}},\"marker\":{\"colorbar\":{\"outlinewidth\":0,\"ticks\":\"\"}}}],\"scattermapbox\":[{\"type\":\"scattermapbox\",\"marker\":{\"colorbar\":{\"outlinewidth\":0,\"ticks\":\"\"}}}],\"scatterternary\":[{\"type\":\"scatterternary\",\"marker\":{\"colorbar\":{\"outlinewidth\":0,\"ticks\":\"\"}}}],\"scattercarpet\":[{\"type\":\"scattercarpet\",\"marker\":{\"colorbar\":{\"outlinewidth\":0,\"ticks\":\"\"}}}],\"carpet\":[{\"aaxis\":{\"endlinecolor\":\"#2a3f5f\",\"gridcolor\":\"white\",\"linecolor\":\"white\",\"minorgridcolor\":\"white\",\"startlinecolor\":\"#2a3f5f\"},\"baxis\":{\"endlinecolor\":\"#2a3f5f\",\"gridcolor\":\"white\",\"linecolor\":\"white\",\"minorgridcolor\":\"white\",\"startlinecolor\":\"#2a3f5f\"},\"type\":\"carpet\"}],\"table\":[{\"cells\":{\"fill\":{\"color\":\"#EBF0F8\"},\"line\":{\"color\":\"white\"}},\"header\":{\"fill\":{\"color\":\"#C8D4E3\"},\"line\":{\"color\":\"white\"}},\"type\":\"table\"}],\"barpolar\":[{\"marker\":{\"line\":{\"color\":\"#E5ECF6\",\"width\":0.5},\"pattern\":{\"fillmode\":\"overlay\",\"size\":10,\"solidity\":0.2}},\"type\":\"barpolar\"}],\"pie\":[{\"automargin\":true,\"type\":\"pie\"}]},\"layout\":{\"autotypenumbers\":\"strict\",\"colorway\":[\"#636efa\",\"#EF553B\",\"#00cc96\",\"#ab63fa\",\"#FFA15A\",\"#19d3f3\",\"#FF6692\",\"#B6E880\",\"#FF97FF\",\"#FECB52\"],\"font\":{\"color\":\"#2a3f5f\"},\"hovermode\":\"closest\",\"hoverlabel\":{\"align\":\"left\"},\"paper_bgcolor\":\"white\",\"plot_bgcolor\":\"#E5ECF6\",\"polar\":{\"bgcolor\":\"#E5ECF6\",\"angularaxis\":{\"gridcolor\":\"white\",\"linecolor\":\"white\",\"ticks\":\"\"},\"radialaxis\":{\"gridcolor\":\"white\",\"linecolor\":\"white\",\"ticks\":\"\"}},\"ternary\":{\"bgcolor\":\"#E5ECF6\",\"aaxis\":{\"gridcolor\":\"white\",\"linecolor\":\"white\",\"ticks\":\"\"},\"baxis\":{\"gridcolor\":\"white\",\"linecolor\":\"white\",\"ticks\":\"\"},\"caxis\":{\"gridcolor\":\"white\",\"linecolor\":\"white\",\"ticks\":\"\"}},\"coloraxis\":{\"colorbar\":{\"outlinewidth\":0,\"ticks\":\"\"}},\"colorscale\":{\"sequential\":[[0.0,\"#0d0887\"],[0.1111111111111111,\"#46039f\"],[0.2222222222222222,\"#7201a8\"],[0.3333333333333333,\"#9c179e\"],[0.4444444444444444,\"#bd3786\"],[0.5555555555555556,\"#d8576b\"],[0.6666666666666666,\"#ed7953\"],[0.7777777777777778,\"#fb9f3a\"],[0.8888888888888888,\"#fdca26\"],[1.0,\"#f0f921\"]],\"sequentialminus\":[[0.0,\"#0d0887\"],[0.1111111111111111,\"#46039f\"],[0.2222222222222222,\"#7201a8\"],[0.3333333333333333,\"#9c179e\"],[0.4444444444444444,\"#bd3786\"],[0.5555555555555556,\"#d8576b\"],[0.6666666666666666,\"#ed7953\"],[0.7777777777777778,\"#fb9f3a\"],[0.8888888888888888,\"#fdca26\"],[1.0,\"#f0f921\"]],\"diverging\":[[0,\"#8e0152\"],[0.1,\"#c51b7d\"],[0.2,\"#de77ae\"],[0.3,\"#f1b6da\"],[0.4,\"#fde0ef\"],[0.5,\"#f7f7f7\"],[0.6,\"#e6f5d0\"],[0.7,\"#b8e186\"],[0.8,\"#7fbc41\"],[0.9,\"#4d9221\"],[1,\"#276419\"]]},\"xaxis\":{\"gridcolor\":\"white\",\"linecolor\":\"white\",\"ticks\":\"\",\"title\":{\"standoff\":15},\"zerolinecolor\":\"white\",\"automargin\":true,\"zerolinewidth\":2},\"yaxis\":{\"gridcolor\":\"white\",\"linecolor\":\"white\",\"ticks\":\"\",\"title\":{\"standoff\":15},\"zerolinecolor\":\"white\",\"automargin\":true,\"zerolinewidth\":2},\"scene\":{\"xaxis\":{\"backgroundcolor\":\"#E5ECF6\",\"gridcolor\":\"white\",\"linecolor\":\"white\",\"showbackground\":true,\"ticks\":\"\",\"zerolinecolor\":\"white\",\"gridwidth\":2},\"yaxis\":{\"backgroundcolor\":\"#E5ECF6\",\"gridcolor\":\"white\",\"linecolor\":\"white\",\"showbackground\":true,\"ticks\":\"\",\"zerolinecolor\":\"white\",\"gridwidth\":2},\"zaxis\":{\"backgroundcolor\":\"#E5ECF6\",\"gridcolor\":\"white\",\"linecolor\":\"white\",\"showbackground\":true,\"ticks\":\"\",\"zerolinecolor\":\"white\",\"gridwidth\":2}},\"shapedefaults\":{\"line\":{\"color\":\"#2a3f5f\"}},\"annotationdefaults\":{\"arrowcolor\":\"#2a3f5f\",\"arrowhead\":0,\"arrowwidth\":1},\"geo\":{\"bgcolor\":\"white\",\"landcolor\":\"#E5ECF6\",\"subunitcolor\":\"white\",\"showland\":true,\"showlakes\":true,\"lakecolor\":\"white\"},\"title\":{\"x\":0.05},\"mapbox\":{\"style\":\"light\"}}},\"legend\":{\"tracegroupgap\":0},\"margin\":{\"t\":60}},                        {\"responsive\": true}                    ).then(function(){\n",
              "                            \n",
              "var gd = document.getElementById('81f4481c-e4e8-44e4-80cc-c5e49c37c164');\n",
              "var x = new MutationObserver(function (mutations, observer) {{\n",
              "        var display = window.getComputedStyle(gd).display;\n",
              "        if (!display || display === 'none') {{\n",
              "            console.log([gd, 'removed!']);\n",
              "            Plotly.purge(gd);\n",
              "            observer.disconnect();\n",
              "        }}\n",
              "}});\n",
              "\n",
              "// Listen for the removal of the full notebook cells\n",
              "var notebookContainer = gd.closest('#notebook-container');\n",
              "if (notebookContainer) {{\n",
              "    x.observe(notebookContainer, {childList: true});\n",
              "}}\n",
              "\n",
              "// Listen for the clearing of the current output cell\n",
              "var outputEl = gd.closest('.output');\n",
              "if (outputEl) {{\n",
              "    x.observe(outputEl, {childList: true});\n",
              "}}\n",
              "\n",
              "                        })                };                            </script>        </div>\n",
              "</body>\n",
              "</html>"
            ]
          },
          "metadata": {}
        }
      ]
    },
    {
      "cell_type": "code",
      "source": [
        "fig=px.sunburst(df,path=[\"sex\",\"day\",\"time\",\"smoker\",\"size\"],values=\"tip\")\n",
        "fig.show()"
      ],
      "metadata": {
        "colab": {
          "base_uri": "https://localhost:8080/",
          "height": 542
        },
        "id": "ggY72lnsgaa_",
        "outputId": "2f6ebb6e-39a0-44e0-832a-a64285b070eb"
      },
      "execution_count": 56,
      "outputs": [
        {
          "output_type": "display_data",
          "data": {
            "text/html": [
              "<html>\n",
              "<head><meta charset=\"utf-8\" /></head>\n",
              "<body>\n",
              "    <div>            <script src=\"https://cdnjs.cloudflare.com/ajax/libs/mathjax/2.7.5/MathJax.js?config=TeX-AMS-MML_SVG\"></script><script type=\"text/javascript\">if (window.MathJax && window.MathJax.Hub && window.MathJax.Hub.Config) {window.MathJax.Hub.Config({SVG: {font: \"STIX-Web\"}});}</script>                <script type=\"text/javascript\">window.PlotlyConfig = {MathJaxConfig: 'local'};</script>\n",
              "        <script charset=\"utf-8\" src=\"https://cdn.plot.ly/plotly-2.24.1.min.js\"></script>                <div id=\"c7cb7c00-8aa2-46c9-8c3f-57f02bdd932f\" class=\"plotly-graph-div\" style=\"height:525px; width:100%;\"></div>            <script type=\"text/javascript\">                                    window.PLOTLYENV=window.PLOTLYENV || {};                                    if (document.getElementById(\"c7cb7c00-8aa2-46c9-8c3f-57f02bdd932f\")) {                    Plotly.newPlot(                        \"c7cb7c00-8aa2-46c9-8c3f-57f02bdd932f\",                        [{\"branchvalues\":\"total\",\"domain\":{\"x\":[0.0,1.0],\"y\":[0.0,1.0]},\"hovertemplate\":\"labels=%{label}\\u003cbr\\u003etip=%{value}\\u003cbr\\u003eparent=%{parent}\\u003cbr\\u003eid=%{id}\\u003cextra\\u003e\\u003c\\u002fextra\\u003e\",\"ids\":[\"Male\\u002fThur\\u002fLunch\\u002fYes\\u002f1\",\"Female\\u002fThur\\u002fLunch\\u002fYes\\u002f1\",\"Male\\u002fFri\\u002fLunch\\u002fYes\\u002f1\",\"Female\\u002fFri\\u002fLunch\\u002fYes\\u002f1\",\"Male\\u002fSat\\u002fLunch\\u002fYes\\u002f1\",\"Female\\u002fSat\\u002fLunch\\u002fYes\\u002f1\",\"Male\\u002fSun\\u002fLunch\\u002fYes\\u002f1\",\"Female\\u002fSun\\u002fLunch\\u002fYes\\u002f1\",\"Male\\u002fThur\\u002fDinner\\u002fYes\\u002f1\",\"Female\\u002fThur\\u002fDinner\\u002fYes\\u002f1\",\"Male\\u002fFri\\u002fDinner\\u002fYes\\u002f1\",\"Female\\u002fFri\\u002fDinner\\u002fYes\\u002f1\",\"Male\\u002fSat\\u002fDinner\\u002fYes\\u002f1\",\"Female\\u002fSat\\u002fDinner\\u002fYes\\u002f1\",\"Male\\u002fSun\\u002fDinner\\u002fYes\\u002f1\",\"Female\\u002fSun\\u002fDinner\\u002fYes\\u002f1\",\"Male\\u002fThur\\u002fLunch\\u002fNo\\u002f1\",\"Female\\u002fThur\\u002fLunch\\u002fNo\\u002f1\",\"Male\\u002fFri\\u002fLunch\\u002fNo\\u002f1\",\"Female\\u002fFri\\u002fLunch\\u002fNo\\u002f1\",\"Male\\u002fSat\\u002fLunch\\u002fNo\\u002f1\",\"Female\\u002fSat\\u002fLunch\\u002fNo\\u002f1\",\"Male\\u002fSun\\u002fLunch\\u002fNo\\u002f1\",\"Female\\u002fSun\\u002fLunch\\u002fNo\\u002f1\",\"Male\\u002fThur\\u002fDinner\\u002fNo\\u002f1\",\"Female\\u002fThur\\u002fDinner\\u002fNo\\u002f1\",\"Male\\u002fFri\\u002fDinner\\u002fNo\\u002f1\",\"Female\\u002fFri\\u002fDinner\\u002fNo\\u002f1\",\"Male\\u002fSat\\u002fDinner\\u002fNo\\u002f1\",\"Female\\u002fSat\\u002fDinner\\u002fNo\\u002f1\",\"Male\\u002fSun\\u002fDinner\\u002fNo\\u002f1\",\"Female\\u002fSun\\u002fDinner\\u002fNo\\u002f1\",\"Male\\u002fThur\\u002fLunch\\u002fYes\\u002f2\",\"Female\\u002fThur\\u002fLunch\\u002fYes\\u002f2\",\"Male\\u002fFri\\u002fLunch\\u002fYes\\u002f2\",\"Female\\u002fFri\\u002fLunch\\u002fYes\\u002f2\",\"Male\\u002fSat\\u002fLunch\\u002fYes\\u002f2\",\"Female\\u002fSat\\u002fLunch\\u002fYes\\u002f2\",\"Male\\u002fSun\\u002fLunch\\u002fYes\\u002f2\",\"Female\\u002fSun\\u002fLunch\\u002fYes\\u002f2\",\"Male\\u002fThur\\u002fDinner\\u002fYes\\u002f2\",\"Female\\u002fThur\\u002fDinner\\u002fYes\\u002f2\",\"Male\\u002fFri\\u002fDinner\\u002fYes\\u002f2\",\"Female\\u002fFri\\u002fDinner\\u002fYes\\u002f2\",\"Male\\u002fSat\\u002fDinner\\u002fYes\\u002f2\",\"Female\\u002fSat\\u002fDinner\\u002fYes\\u002f2\",\"Male\\u002fSun\\u002fDinner\\u002fYes\\u002f2\",\"Female\\u002fSun\\u002fDinner\\u002fYes\\u002f2\",\"Male\\u002fThur\\u002fLunch\\u002fNo\\u002f2\",\"Female\\u002fThur\\u002fLunch\\u002fNo\\u002f2\",\"Male\\u002fFri\\u002fLunch\\u002fNo\\u002f2\",\"Female\\u002fFri\\u002fLunch\\u002fNo\\u002f2\",\"Male\\u002fSat\\u002fLunch\\u002fNo\\u002f2\",\"Female\\u002fSat\\u002fLunch\\u002fNo\\u002f2\",\"Male\\u002fSun\\u002fLunch\\u002fNo\\u002f2\",\"Female\\u002fSun\\u002fLunch\\u002fNo\\u002f2\",\"Male\\u002fThur\\u002fDinner\\u002fNo\\u002f2\",\"Female\\u002fThur\\u002fDinner\\u002fNo\\u002f2\",\"Male\\u002fFri\\u002fDinner\\u002fNo\\u002f2\",\"Female\\u002fFri\\u002fDinner\\u002fNo\\u002f2\",\"Male\\u002fSat\\u002fDinner\\u002fNo\\u002f2\",\"Female\\u002fSat\\u002fDinner\\u002fNo\\u002f2\",\"Male\\u002fSun\\u002fDinner\\u002fNo\\u002f2\",\"Female\\u002fSun\\u002fDinner\\u002fNo\\u002f2\",\"Male\\u002fThur\\u002fLunch\\u002fYes\\u002f3\",\"Female\\u002fThur\\u002fLunch\\u002fYes\\u002f3\",\"Male\\u002fFri\\u002fLunch\\u002fYes\\u002f3\",\"Female\\u002fFri\\u002fLunch\\u002fYes\\u002f3\",\"Male\\u002fSat\\u002fLunch\\u002fYes\\u002f3\",\"Female\\u002fSat\\u002fLunch\\u002fYes\\u002f3\",\"Male\\u002fSun\\u002fLunch\\u002fYes\\u002f3\",\"Female\\u002fSun\\u002fLunch\\u002fYes\\u002f3\",\"Male\\u002fThur\\u002fDinner\\u002fYes\\u002f3\",\"Female\\u002fThur\\u002fDinner\\u002fYes\\u002f3\",\"Male\\u002fFri\\u002fDinner\\u002fYes\\u002f3\",\"Female\\u002fFri\\u002fDinner\\u002fYes\\u002f3\",\"Male\\u002fSat\\u002fDinner\\u002fYes\\u002f3\",\"Female\\u002fSat\\u002fDinner\\u002fYes\\u002f3\",\"Male\\u002fSun\\u002fDinner\\u002fYes\\u002f3\",\"Female\\u002fSun\\u002fDinner\\u002fYes\\u002f3\",\"Male\\u002fThur\\u002fLunch\\u002fNo\\u002f3\",\"Female\\u002fThur\\u002fLunch\\u002fNo\\u002f3\",\"Male\\u002fFri\\u002fLunch\\u002fNo\\u002f3\",\"Female\\u002fFri\\u002fLunch\\u002fNo\\u002f3\",\"Male\\u002fSat\\u002fLunch\\u002fNo\\u002f3\",\"Female\\u002fSat\\u002fLunch\\u002fNo\\u002f3\",\"Male\\u002fSun\\u002fLunch\\u002fNo\\u002f3\",\"Female\\u002fSun\\u002fLunch\\u002fNo\\u002f3\",\"Male\\u002fThur\\u002fDinner\\u002fNo\\u002f3\",\"Female\\u002fThur\\u002fDinner\\u002fNo\\u002f3\",\"Male\\u002fFri\\u002fDinner\\u002fNo\\u002f3\",\"Female\\u002fFri\\u002fDinner\\u002fNo\\u002f3\",\"Male\\u002fSat\\u002fDinner\\u002fNo\\u002f3\",\"Female\\u002fSat\\u002fDinner\\u002fNo\\u002f3\",\"Male\\u002fSun\\u002fDinner\\u002fNo\\u002f3\",\"Female\\u002fSun\\u002fDinner\\u002fNo\\u002f3\",\"Male\\u002fThur\\u002fLunch\\u002fYes\\u002f4\",\"Female\\u002fThur\\u002fLunch\\u002fYes\\u002f4\",\"Male\\u002fFri\\u002fLunch\\u002fYes\\u002f4\",\"Female\\u002fFri\\u002fLunch\\u002fYes\\u002f4\",\"Male\\u002fSat\\u002fLunch\\u002fYes\\u002f4\",\"Female\\u002fSat\\u002fLunch\\u002fYes\\u002f4\",\"Male\\u002fSun\\u002fLunch\\u002fYes\\u002f4\",\"Female\\u002fSun\\u002fLunch\\u002fYes\\u002f4\",\"Male\\u002fThur\\u002fDinner\\u002fYes\\u002f4\",\"Female\\u002fThur\\u002fDinner\\u002fYes\\u002f4\",\"Male\\u002fFri\\u002fDinner\\u002fYes\\u002f4\",\"Female\\u002fFri\\u002fDinner\\u002fYes\\u002f4\",\"Male\\u002fSat\\u002fDinner\\u002fYes\\u002f4\",\"Female\\u002fSat\\u002fDinner\\u002fYes\\u002f4\",\"Male\\u002fSun\\u002fDinner\\u002fYes\\u002f4\",\"Female\\u002fSun\\u002fDinner\\u002fYes\\u002f4\",\"Male\\u002fThur\\u002fLunch\\u002fNo\\u002f4\",\"Female\\u002fThur\\u002fLunch\\u002fNo\\u002f4\",\"Male\\u002fFri\\u002fLunch\\u002fNo\\u002f4\",\"Female\\u002fFri\\u002fLunch\\u002fNo\\u002f4\",\"Male\\u002fSat\\u002fLunch\\u002fNo\\u002f4\",\"Female\\u002fSat\\u002fLunch\\u002fNo\\u002f4\",\"Male\\u002fSun\\u002fLunch\\u002fNo\\u002f4\",\"Female\\u002fSun\\u002fLunch\\u002fNo\\u002f4\",\"Male\\u002fThur\\u002fDinner\\u002fNo\\u002f4\",\"Female\\u002fThur\\u002fDinner\\u002fNo\\u002f4\",\"Male\\u002fFri\\u002fDinner\\u002fNo\\u002f4\",\"Female\\u002fFri\\u002fDinner\\u002fNo\\u002f4\",\"Male\\u002fSat\\u002fDinner\\u002fNo\\u002f4\",\"Female\\u002fSat\\u002fDinner\\u002fNo\\u002f4\",\"Male\\u002fSun\\u002fDinner\\u002fNo\\u002f4\",\"Female\\u002fSun\\u002fDinner\\u002fNo\\u002f4\",\"Male\\u002fThur\\u002fLunch\\u002fYes\\u002f5\",\"Female\\u002fThur\\u002fLunch\\u002fYes\\u002f5\",\"Male\\u002fFri\\u002fLunch\\u002fYes\\u002f5\",\"Female\\u002fFri\\u002fLunch\\u002fYes\\u002f5\",\"Male\\u002fSat\\u002fLunch\\u002fYes\\u002f5\",\"Female\\u002fSat\\u002fLunch\\u002fYes\\u002f5\",\"Male\\u002fSun\\u002fLunch\\u002fYes\\u002f5\",\"Female\\u002fSun\\u002fLunch\\u002fYes\\u002f5\",\"Male\\u002fThur\\u002fDinner\\u002fYes\\u002f5\",\"Female\\u002fThur\\u002fDinner\\u002fYes\\u002f5\",\"Male\\u002fFri\\u002fDinner\\u002fYes\\u002f5\",\"Female\\u002fFri\\u002fDinner\\u002fYes\\u002f5\",\"Male\\u002fSat\\u002fDinner\\u002fYes\\u002f5\",\"Female\\u002fSat\\u002fDinner\\u002fYes\\u002f5\",\"Male\\u002fSun\\u002fDinner\\u002fYes\\u002f5\",\"Female\\u002fSun\\u002fDinner\\u002fYes\\u002f5\",\"Male\\u002fThur\\u002fLunch\\u002fNo\\u002f5\",\"Female\\u002fThur\\u002fLunch\\u002fNo\\u002f5\",\"Male\\u002fFri\\u002fLunch\\u002fNo\\u002f5\",\"Female\\u002fFri\\u002fLunch\\u002fNo\\u002f5\",\"Male\\u002fSat\\u002fLunch\\u002fNo\\u002f5\",\"Female\\u002fSat\\u002fLunch\\u002fNo\\u002f5\",\"Male\\u002fSun\\u002fLunch\\u002fNo\\u002f5\",\"Female\\u002fSun\\u002fLunch\\u002fNo\\u002f5\",\"Male\\u002fThur\\u002fDinner\\u002fNo\\u002f5\",\"Female\\u002fThur\\u002fDinner\\u002fNo\\u002f5\",\"Male\\u002fFri\\u002fDinner\\u002fNo\\u002f5\",\"Female\\u002fFri\\u002fDinner\\u002fNo\\u002f5\",\"Male\\u002fSat\\u002fDinner\\u002fNo\\u002f5\",\"Female\\u002fSat\\u002fDinner\\u002fNo\\u002f5\",\"Male\\u002fSun\\u002fDinner\\u002fNo\\u002f5\",\"Female\\u002fSun\\u002fDinner\\u002fNo\\u002f5\",\"Male\\u002fThur\\u002fLunch\\u002fYes\\u002f6\",\"Female\\u002fThur\\u002fLunch\\u002fYes\\u002f6\",\"Male\\u002fFri\\u002fLunch\\u002fYes\\u002f6\",\"Female\\u002fFri\\u002fLunch\\u002fYes\\u002f6\",\"Male\\u002fSat\\u002fLunch\\u002fYes\\u002f6\",\"Female\\u002fSat\\u002fLunch\\u002fYes\\u002f6\",\"Male\\u002fSun\\u002fLunch\\u002fYes\\u002f6\",\"Female\\u002fSun\\u002fLunch\\u002fYes\\u002f6\",\"Male\\u002fThur\\u002fDinner\\u002fYes\\u002f6\",\"Female\\u002fThur\\u002fDinner\\u002fYes\\u002f6\",\"Male\\u002fFri\\u002fDinner\\u002fYes\\u002f6\",\"Female\\u002fFri\\u002fDinner\\u002fYes\\u002f6\",\"Male\\u002fSat\\u002fDinner\\u002fYes\\u002f6\",\"Female\\u002fSat\\u002fDinner\\u002fYes\\u002f6\",\"Male\\u002fSun\\u002fDinner\\u002fYes\\u002f6\",\"Female\\u002fSun\\u002fDinner\\u002fYes\\u002f6\",\"Male\\u002fThur\\u002fLunch\\u002fNo\\u002f6\",\"Female\\u002fThur\\u002fLunch\\u002fNo\\u002f6\",\"Male\\u002fFri\\u002fLunch\\u002fNo\\u002f6\",\"Female\\u002fFri\\u002fLunch\\u002fNo\\u002f6\",\"Male\\u002fSat\\u002fLunch\\u002fNo\\u002f6\",\"Female\\u002fSat\\u002fLunch\\u002fNo\\u002f6\",\"Male\\u002fSun\\u002fLunch\\u002fNo\\u002f6\",\"Female\\u002fSun\\u002fLunch\\u002fNo\\u002f6\",\"Male\\u002fThur\\u002fDinner\\u002fNo\\u002f6\",\"Female\\u002fThur\\u002fDinner\\u002fNo\\u002f6\",\"Male\\u002fFri\\u002fDinner\\u002fNo\\u002f6\",\"Female\\u002fFri\\u002fDinner\\u002fNo\\u002f6\",\"Male\\u002fSat\\u002fDinner\\u002fNo\\u002f6\",\"Female\\u002fSat\\u002fDinner\\u002fNo\\u002f6\",\"Male\\u002fSun\\u002fDinner\\u002fNo\\u002f6\",\"Female\\u002fSun\\u002fDinner\\u002fNo\\u002f6\",\"Male\\u002fThur\\u002fLunch\\u002fYes\",\"Female\\u002fThur\\u002fLunch\\u002fYes\",\"Male\\u002fFri\\u002fLunch\\u002fYes\",\"Female\\u002fFri\\u002fLunch\\u002fYes\",\"Male\\u002fSat\\u002fLunch\\u002fYes\",\"Female\\u002fSat\\u002fLunch\\u002fYes\",\"Male\\u002fSun\\u002fLunch\\u002fYes\",\"Female\\u002fSun\\u002fLunch\\u002fYes\",\"Male\\u002fThur\\u002fDinner\\u002fYes\",\"Female\\u002fThur\\u002fDinner\\u002fYes\",\"Male\\u002fFri\\u002fDinner\\u002fYes\",\"Female\\u002fFri\\u002fDinner\\u002fYes\",\"Male\\u002fSat\\u002fDinner\\u002fYes\",\"Female\\u002fSat\\u002fDinner\\u002fYes\",\"Male\\u002fSun\\u002fDinner\\u002fYes\",\"Female\\u002fSun\\u002fDinner\\u002fYes\",\"Male\\u002fThur\\u002fLunch\\u002fNo\",\"Female\\u002fThur\\u002fLunch\\u002fNo\",\"Male\\u002fFri\\u002fLunch\\u002fNo\",\"Female\\u002fFri\\u002fLunch\\u002fNo\",\"Male\\u002fSat\\u002fLunch\\u002fNo\",\"Female\\u002fSat\\u002fLunch\\u002fNo\",\"Male\\u002fSun\\u002fLunch\\u002fNo\",\"Female\\u002fSun\\u002fLunch\\u002fNo\",\"Male\\u002fThur\\u002fDinner\\u002fNo\",\"Female\\u002fThur\\u002fDinner\\u002fNo\",\"Male\\u002fFri\\u002fDinner\\u002fNo\",\"Female\\u002fFri\\u002fDinner\\u002fNo\",\"Male\\u002fSat\\u002fDinner\\u002fNo\",\"Female\\u002fSat\\u002fDinner\\u002fNo\",\"Male\\u002fSun\\u002fDinner\\u002fNo\",\"Female\\u002fSun\\u002fDinner\\u002fNo\",\"Male\\u002fThur\\u002fLunch\",\"Female\\u002fThur\\u002fLunch\",\"Male\\u002fFri\\u002fLunch\",\"Female\\u002fFri\\u002fLunch\",\"Male\\u002fSat\\u002fLunch\",\"Female\\u002fSat\\u002fLunch\",\"Male\\u002fSun\\u002fLunch\",\"Female\\u002fSun\\u002fLunch\",\"Male\\u002fThur\\u002fDinner\",\"Female\\u002fThur\\u002fDinner\",\"Male\\u002fFri\\u002fDinner\",\"Female\\u002fFri\\u002fDinner\",\"Male\\u002fSat\\u002fDinner\",\"Female\\u002fSat\\u002fDinner\",\"Male\\u002fSun\\u002fDinner\",\"Female\\u002fSun\\u002fDinner\",\"Male\\u002fThur\",\"Female\\u002fThur\",\"Male\\u002fFri\",\"Female\\u002fFri\",\"Male\\u002fSat\",\"Female\\u002fSat\",\"Male\\u002fSun\",\"Female\\u002fSun\",\"Male\",\"Female\"],\"labels\":[\"1\",\"1\",\"1\",\"1\",\"1\",\"1\",\"1\",\"1\",\"1\",\"1\",\"1\",\"1\",\"1\",\"1\",\"1\",\"1\",\"1\",\"1\",\"1\",\"1\",\"1\",\"1\",\"1\",\"1\",\"1\",\"1\",\"1\",\"1\",\"1\",\"1\",\"1\",\"1\",\"2\",\"2\",\"2\",\"2\",\"2\",\"2\",\"2\",\"2\",\"2\",\"2\",\"2\",\"2\",\"2\",\"2\",\"2\",\"2\",\"2\",\"2\",\"2\",\"2\",\"2\",\"2\",\"2\",\"2\",\"2\",\"2\",\"2\",\"2\",\"2\",\"2\",\"2\",\"2\",\"3\",\"3\",\"3\",\"3\",\"3\",\"3\",\"3\",\"3\",\"3\",\"3\",\"3\",\"3\",\"3\",\"3\",\"3\",\"3\",\"3\",\"3\",\"3\",\"3\",\"3\",\"3\",\"3\",\"3\",\"3\",\"3\",\"3\",\"3\",\"3\",\"3\",\"3\",\"3\",\"4\",\"4\",\"4\",\"4\",\"4\",\"4\",\"4\",\"4\",\"4\",\"4\",\"4\",\"4\",\"4\",\"4\",\"4\",\"4\",\"4\",\"4\",\"4\",\"4\",\"4\",\"4\",\"4\",\"4\",\"4\",\"4\",\"4\",\"4\",\"4\",\"4\",\"4\",\"4\",\"5\",\"5\",\"5\",\"5\",\"5\",\"5\",\"5\",\"5\",\"5\",\"5\",\"5\",\"5\",\"5\",\"5\",\"5\",\"5\",\"5\",\"5\",\"5\",\"5\",\"5\",\"5\",\"5\",\"5\",\"5\",\"5\",\"5\",\"5\",\"5\",\"5\",\"5\",\"5\",\"6\",\"6\",\"6\",\"6\",\"6\",\"6\",\"6\",\"6\",\"6\",\"6\",\"6\",\"6\",\"6\",\"6\",\"6\",\"6\",\"6\",\"6\",\"6\",\"6\",\"6\",\"6\",\"6\",\"6\",\"6\",\"6\",\"6\",\"6\",\"6\",\"6\",\"6\",\"6\",\"Yes\",\"Yes\",\"Yes\",\"Yes\",\"Yes\",\"Yes\",\"Yes\",\"Yes\",\"Yes\",\"Yes\",\"Yes\",\"Yes\",\"Yes\",\"Yes\",\"Yes\",\"Yes\",\"No\",\"No\",\"No\",\"No\",\"No\",\"No\",\"No\",\"No\",\"No\",\"No\",\"No\",\"No\",\"No\",\"No\",\"No\",\"No\",\"Lunch\",\"Lunch\",\"Lunch\",\"Lunch\",\"Lunch\",\"Lunch\",\"Lunch\",\"Lunch\",\"Dinner\",\"Dinner\",\"Dinner\",\"Dinner\",\"Dinner\",\"Dinner\",\"Dinner\",\"Dinner\",\"Thur\",\"Thur\",\"Fri\",\"Fri\",\"Sat\",\"Sat\",\"Sun\",\"Sun\",\"Male\",\"Female\"],\"name\":\"\",\"parents\":[\"Male\\u002fThur\\u002fLunch\\u002fYes\",\"Female\\u002fThur\\u002fLunch\\u002fYes\",\"Male\\u002fFri\\u002fLunch\\u002fYes\",\"Female\\u002fFri\\u002fLunch\\u002fYes\",\"Male\\u002fSat\\u002fLunch\\u002fYes\",\"Female\\u002fSat\\u002fLunch\\u002fYes\",\"Male\\u002fSun\\u002fLunch\\u002fYes\",\"Female\\u002fSun\\u002fLunch\\u002fYes\",\"Male\\u002fThur\\u002fDinner\\u002fYes\",\"Female\\u002fThur\\u002fDinner\\u002fYes\",\"Male\\u002fFri\\u002fDinner\\u002fYes\",\"Female\\u002fFri\\u002fDinner\\u002fYes\",\"Male\\u002fSat\\u002fDinner\\u002fYes\",\"Female\\u002fSat\\u002fDinner\\u002fYes\",\"Male\\u002fSun\\u002fDinner\\u002fYes\",\"Female\\u002fSun\\u002fDinner\\u002fYes\",\"Male\\u002fThur\\u002fLunch\\u002fNo\",\"Female\\u002fThur\\u002fLunch\\u002fNo\",\"Male\\u002fFri\\u002fLunch\\u002fNo\",\"Female\\u002fFri\\u002fLunch\\u002fNo\",\"Male\\u002fSat\\u002fLunch\\u002fNo\",\"Female\\u002fSat\\u002fLunch\\u002fNo\",\"Male\\u002fSun\\u002fLunch\\u002fNo\",\"Female\\u002fSun\\u002fLunch\\u002fNo\",\"Male\\u002fThur\\u002fDinner\\u002fNo\",\"Female\\u002fThur\\u002fDinner\\u002fNo\",\"Male\\u002fFri\\u002fDinner\\u002fNo\",\"Female\\u002fFri\\u002fDinner\\u002fNo\",\"Male\\u002fSat\\u002fDinner\\u002fNo\",\"Female\\u002fSat\\u002fDinner\\u002fNo\",\"Male\\u002fSun\\u002fDinner\\u002fNo\",\"Female\\u002fSun\\u002fDinner\\u002fNo\",\"Male\\u002fThur\\u002fLunch\\u002fYes\",\"Female\\u002fThur\\u002fLunch\\u002fYes\",\"Male\\u002fFri\\u002fLunch\\u002fYes\",\"Female\\u002fFri\\u002fLunch\\u002fYes\",\"Male\\u002fSat\\u002fLunch\\u002fYes\",\"Female\\u002fSat\\u002fLunch\\u002fYes\",\"Male\\u002fSun\\u002fLunch\\u002fYes\",\"Female\\u002fSun\\u002fLunch\\u002fYes\",\"Male\\u002fThur\\u002fDinner\\u002fYes\",\"Female\\u002fThur\\u002fDinner\\u002fYes\",\"Male\\u002fFri\\u002fDinner\\u002fYes\",\"Female\\u002fFri\\u002fDinner\\u002fYes\",\"Male\\u002fSat\\u002fDinner\\u002fYes\",\"Female\\u002fSat\\u002fDinner\\u002fYes\",\"Male\\u002fSun\\u002fDinner\\u002fYes\",\"Female\\u002fSun\\u002fDinner\\u002fYes\",\"Male\\u002fThur\\u002fLunch\\u002fNo\",\"Female\\u002fThur\\u002fLunch\\u002fNo\",\"Male\\u002fFri\\u002fLunch\\u002fNo\",\"Female\\u002fFri\\u002fLunch\\u002fNo\",\"Male\\u002fSat\\u002fLunch\\u002fNo\",\"Female\\u002fSat\\u002fLunch\\u002fNo\",\"Male\\u002fSun\\u002fLunch\\u002fNo\",\"Female\\u002fSun\\u002fLunch\\u002fNo\",\"Male\\u002fThur\\u002fDinner\\u002fNo\",\"Female\\u002fThur\\u002fDinner\\u002fNo\",\"Male\\u002fFri\\u002fDinner\\u002fNo\",\"Female\\u002fFri\\u002fDinner\\u002fNo\",\"Male\\u002fSat\\u002fDinner\\u002fNo\",\"Female\\u002fSat\\u002fDinner\\u002fNo\",\"Male\\u002fSun\\u002fDinner\\u002fNo\",\"Female\\u002fSun\\u002fDinner\\u002fNo\",\"Male\\u002fThur\\u002fLunch\\u002fYes\",\"Female\\u002fThur\\u002fLunch\\u002fYes\",\"Male\\u002fFri\\u002fLunch\\u002fYes\",\"Female\\u002fFri\\u002fLunch\\u002fYes\",\"Male\\u002fSat\\u002fLunch\\u002fYes\",\"Female\\u002fSat\\u002fLunch\\u002fYes\",\"Male\\u002fSun\\u002fLunch\\u002fYes\",\"Female\\u002fSun\\u002fLunch\\u002fYes\",\"Male\\u002fThur\\u002fDinner\\u002fYes\",\"Female\\u002fThur\\u002fDinner\\u002fYes\",\"Male\\u002fFri\\u002fDinner\\u002fYes\",\"Female\\u002fFri\\u002fDinner\\u002fYes\",\"Male\\u002fSat\\u002fDinner\\u002fYes\",\"Female\\u002fSat\\u002fDinner\\u002fYes\",\"Male\\u002fSun\\u002fDinner\\u002fYes\",\"Female\\u002fSun\\u002fDinner\\u002fYes\",\"Male\\u002fThur\\u002fLunch\\u002fNo\",\"Female\\u002fThur\\u002fLunch\\u002fNo\",\"Male\\u002fFri\\u002fLunch\\u002fNo\",\"Female\\u002fFri\\u002fLunch\\u002fNo\",\"Male\\u002fSat\\u002fLunch\\u002fNo\",\"Female\\u002fSat\\u002fLunch\\u002fNo\",\"Male\\u002fSun\\u002fLunch\\u002fNo\",\"Female\\u002fSun\\u002fLunch\\u002fNo\",\"Male\\u002fThur\\u002fDinner\\u002fNo\",\"Female\\u002fThur\\u002fDinner\\u002fNo\",\"Male\\u002fFri\\u002fDinner\\u002fNo\",\"Female\\u002fFri\\u002fDinner\\u002fNo\",\"Male\\u002fSat\\u002fDinner\\u002fNo\",\"Female\\u002fSat\\u002fDinner\\u002fNo\",\"Male\\u002fSun\\u002fDinner\\u002fNo\",\"Female\\u002fSun\\u002fDinner\\u002fNo\",\"Male\\u002fThur\\u002fLunch\\u002fYes\",\"Female\\u002fThur\\u002fLunch\\u002fYes\",\"Male\\u002fFri\\u002fLunch\\u002fYes\",\"Female\\u002fFri\\u002fLunch\\u002fYes\",\"Male\\u002fSat\\u002fLunch\\u002fYes\",\"Female\\u002fSat\\u002fLunch\\u002fYes\",\"Male\\u002fSun\\u002fLunch\\u002fYes\",\"Female\\u002fSun\\u002fLunch\\u002fYes\",\"Male\\u002fThur\\u002fDinner\\u002fYes\",\"Female\\u002fThur\\u002fDinner\\u002fYes\",\"Male\\u002fFri\\u002fDinner\\u002fYes\",\"Female\\u002fFri\\u002fDinner\\u002fYes\",\"Male\\u002fSat\\u002fDinner\\u002fYes\",\"Female\\u002fSat\\u002fDinner\\u002fYes\",\"Male\\u002fSun\\u002fDinner\\u002fYes\",\"Female\\u002fSun\\u002fDinner\\u002fYes\",\"Male\\u002fThur\\u002fLunch\\u002fNo\",\"Female\\u002fThur\\u002fLunch\\u002fNo\",\"Male\\u002fFri\\u002fLunch\\u002fNo\",\"Female\\u002fFri\\u002fLunch\\u002fNo\",\"Male\\u002fSat\\u002fLunch\\u002fNo\",\"Female\\u002fSat\\u002fLunch\\u002fNo\",\"Male\\u002fSun\\u002fLunch\\u002fNo\",\"Female\\u002fSun\\u002fLunch\\u002fNo\",\"Male\\u002fThur\\u002fDinner\\u002fNo\",\"Female\\u002fThur\\u002fDinner\\u002fNo\",\"Male\\u002fFri\\u002fDinner\\u002fNo\",\"Female\\u002fFri\\u002fDinner\\u002fNo\",\"Male\\u002fSat\\u002fDinner\\u002fNo\",\"Female\\u002fSat\\u002fDinner\\u002fNo\",\"Male\\u002fSun\\u002fDinner\\u002fNo\",\"Female\\u002fSun\\u002fDinner\\u002fNo\",\"Male\\u002fThur\\u002fLunch\\u002fYes\",\"Female\\u002fThur\\u002fLunch\\u002fYes\",\"Male\\u002fFri\\u002fLunch\\u002fYes\",\"Female\\u002fFri\\u002fLunch\\u002fYes\",\"Male\\u002fSat\\u002fLunch\\u002fYes\",\"Female\\u002fSat\\u002fLunch\\u002fYes\",\"Male\\u002fSun\\u002fLunch\\u002fYes\",\"Female\\u002fSun\\u002fLunch\\u002fYes\",\"Male\\u002fThur\\u002fDinner\\u002fYes\",\"Female\\u002fThur\\u002fDinner\\u002fYes\",\"Male\\u002fFri\\u002fDinner\\u002fYes\",\"Female\\u002fFri\\u002fDinner\\u002fYes\",\"Male\\u002fSat\\u002fDinner\\u002fYes\",\"Female\\u002fSat\\u002fDinner\\u002fYes\",\"Male\\u002fSun\\u002fDinner\\u002fYes\",\"Female\\u002fSun\\u002fDinner\\u002fYes\",\"Male\\u002fThur\\u002fLunch\\u002fNo\",\"Female\\u002fThur\\u002fLunch\\u002fNo\",\"Male\\u002fFri\\u002fLunch\\u002fNo\",\"Female\\u002fFri\\u002fLunch\\u002fNo\",\"Male\\u002fSat\\u002fLunch\\u002fNo\",\"Female\\u002fSat\\u002fLunch\\u002fNo\",\"Male\\u002fSun\\u002fLunch\\u002fNo\",\"Female\\u002fSun\\u002fLunch\\u002fNo\",\"Male\\u002fThur\\u002fDinner\\u002fNo\",\"Female\\u002fThur\\u002fDinner\\u002fNo\",\"Male\\u002fFri\\u002fDinner\\u002fNo\",\"Female\\u002fFri\\u002fDinner\\u002fNo\",\"Male\\u002fSat\\u002fDinner\\u002fNo\",\"Female\\u002fSat\\u002fDinner\\u002fNo\",\"Male\\u002fSun\\u002fDinner\\u002fNo\",\"Female\\u002fSun\\u002fDinner\\u002fNo\",\"Male\\u002fThur\\u002fLunch\\u002fYes\",\"Female\\u002fThur\\u002fLunch\\u002fYes\",\"Male\\u002fFri\\u002fLunch\\u002fYes\",\"Female\\u002fFri\\u002fLunch\\u002fYes\",\"Male\\u002fSat\\u002fLunch\\u002fYes\",\"Female\\u002fSat\\u002fLunch\\u002fYes\",\"Male\\u002fSun\\u002fLunch\\u002fYes\",\"Female\\u002fSun\\u002fLunch\\u002fYes\",\"Male\\u002fThur\\u002fDinner\\u002fYes\",\"Female\\u002fThur\\u002fDinner\\u002fYes\",\"Male\\u002fFri\\u002fDinner\\u002fYes\",\"Female\\u002fFri\\u002fDinner\\u002fYes\",\"Male\\u002fSat\\u002fDinner\\u002fYes\",\"Female\\u002fSat\\u002fDinner\\u002fYes\",\"Male\\u002fSun\\u002fDinner\\u002fYes\",\"Female\\u002fSun\\u002fDinner\\u002fYes\",\"Male\\u002fThur\\u002fLunch\\u002fNo\",\"Female\\u002fThur\\u002fLunch\\u002fNo\",\"Male\\u002fFri\\u002fLunch\\u002fNo\",\"Female\\u002fFri\\u002fLunch\\u002fNo\",\"Male\\u002fSat\\u002fLunch\\u002fNo\",\"Female\\u002fSat\\u002fLunch\\u002fNo\",\"Male\\u002fSun\\u002fLunch\\u002fNo\",\"Female\\u002fSun\\u002fLunch\\u002fNo\",\"Male\\u002fThur\\u002fDinner\\u002fNo\",\"Female\\u002fThur\\u002fDinner\\u002fNo\",\"Male\\u002fFri\\u002fDinner\\u002fNo\",\"Female\\u002fFri\\u002fDinner\\u002fNo\",\"Male\\u002fSat\\u002fDinner\\u002fNo\",\"Female\\u002fSat\\u002fDinner\\u002fNo\",\"Male\\u002fSun\\u002fDinner\\u002fNo\",\"Female\\u002fSun\\u002fDinner\\u002fNo\",\"Male\\u002fThur\\u002fLunch\",\"Female\\u002fThur\\u002fLunch\",\"Male\\u002fFri\\u002fLunch\",\"Female\\u002fFri\\u002fLunch\",\"Male\\u002fSat\\u002fLunch\",\"Female\\u002fSat\\u002fLunch\",\"Male\\u002fSun\\u002fLunch\",\"Female\\u002fSun\\u002fLunch\",\"Male\\u002fThur\\u002fDinner\",\"Female\\u002fThur\\u002fDinner\",\"Male\\u002fFri\\u002fDinner\",\"Female\\u002fFri\\u002fDinner\",\"Male\\u002fSat\\u002fDinner\",\"Female\\u002fSat\\u002fDinner\",\"Male\\u002fSun\\u002fDinner\",\"Female\\u002fSun\\u002fDinner\",\"Male\\u002fThur\\u002fLunch\",\"Female\\u002fThur\\u002fLunch\",\"Male\\u002fFri\\u002fLunch\",\"Female\\u002fFri\\u002fLunch\",\"Male\\u002fSat\\u002fLunch\",\"Female\\u002fSat\\u002fLunch\",\"Male\\u002fSun\\u002fLunch\",\"Female\\u002fSun\\u002fLunch\",\"Male\\u002fThur\\u002fDinner\",\"Female\\u002fThur\\u002fDinner\",\"Male\\u002fFri\\u002fDinner\",\"Female\\u002fFri\\u002fDinner\",\"Male\\u002fSat\\u002fDinner\",\"Female\\u002fSat\\u002fDinner\",\"Male\\u002fSun\\u002fDinner\",\"Female\\u002fSun\\u002fDinner\",\"Male\\u002fThur\",\"Female\\u002fThur\",\"Male\\u002fFri\",\"Female\\u002fFri\",\"Male\\u002fSat\",\"Female\\u002fSat\",\"Male\\u002fSun\",\"Female\\u002fSun\",\"Male\\u002fThur\",\"Female\\u002fThur\",\"Male\\u002fFri\",\"Female\\u002fFri\",\"Male\\u002fSat\",\"Female\\u002fSat\",\"Male\\u002fSun\",\"Female\\u002fSun\",\"Male\",\"Female\",\"Male\",\"Female\",\"Male\",\"Female\",\"Male\",\"Female\",\"\",\"\"],\"values\":[0.0,0.0,1.92,0.0,0.0,0.0,0.0,0.0,0.0,0.0,0.0,0.0,0.0,1.0,0.0,0.0,0.0,1.83,0.0,0.0,0.0,0.0,0.0,0.0,0.0,0.0,0.0,0.0,0.0,1.0,0.0,0.0,22.58,12.7,3.7800000000000002,7.98,0.0,0.0,0.0,0.0,0.0,0.0,11.5,10.8,39.41,29.94,33.14,7.0,40.95,38.01,0.0,0.0,0.0,0.0,0.0,0.0,0.0,3.0,5.0,3.25,42.85,21.23,56.98,12.74,4.0,3.23,0.0,0.0,0.0,0.0,0.0,0.0,0.0,0.0,0.0,0.0,18.41,9.0,7.5,7.0,2.18,1.36,0.0,3.0,0.0,0.0,0.0,0.0,0.0,0.0,0.0,0.0,30.21,10.74,21.14,11.17,4.0,5.0,0.0,0.0,0.0,0.0,0.0,0.0,0.0,0.0,4.73,0.0,16.92,3.09,10.18,0.0,4.0,8.09,0.0,0.0,0.0,0.0,0.0,0.0,0.0,0.0,0.0,0.0,31.15,2.45,45.84,17.56,0.0,0.0,0.0,0.0,0.0,0.0,0.0,0.0,0.0,0.0,0.0,0.0,3.0,0.0,2.0,0.0,5.0,0.0,0.0,0.0,0.0,0.0,0.0,0.0,0.0,0.0,0.0,0.0,0.0,0.0,5.0,5.14,0.0,0.0,0.0,0.0,0.0,0.0,0.0,0.0,0.0,0.0,0.0,0.0,0.0,0.0,0.0,0.0,6.7,9.2,0.0,0.0,0.0,0.0,0.0,0.0,0.0,0.0,0.0,0.0,0.0,0.0,5.0,0.0,30.58,20.93,5.7,7.98,0.0,0.0,0.0,0.0,0.0,0.0,16.23,10.8,77.74,43.03,52.82,14.0,58.83,58.49,0.0,3.0,0.0,0.0,0.0,0.0,0.0,3.0,5.0,3.25,104.21000000000001,35.42,133.96,46.61,89.41,79.42,5.7,10.98,0.0,0.0,0.0,0.0,0.0,3.0,21.23,14.05,181.95,78.45,186.78,60.61,89.41,82.42,26.93,25.03,181.95,78.45,186.78,60.61,485.07,246.51],\"type\":\"sunburst\"}],                        {\"template\":{\"data\":{\"histogram2dcontour\":[{\"type\":\"histogram2dcontour\",\"colorbar\":{\"outlinewidth\":0,\"ticks\":\"\"},\"colorscale\":[[0.0,\"#0d0887\"],[0.1111111111111111,\"#46039f\"],[0.2222222222222222,\"#7201a8\"],[0.3333333333333333,\"#9c179e\"],[0.4444444444444444,\"#bd3786\"],[0.5555555555555556,\"#d8576b\"],[0.6666666666666666,\"#ed7953\"],[0.7777777777777778,\"#fb9f3a\"],[0.8888888888888888,\"#fdca26\"],[1.0,\"#f0f921\"]]}],\"choropleth\":[{\"type\":\"choropleth\",\"colorbar\":{\"outlinewidth\":0,\"ticks\":\"\"}}],\"histogram2d\":[{\"type\":\"histogram2d\",\"colorbar\":{\"outlinewidth\":0,\"ticks\":\"\"},\"colorscale\":[[0.0,\"#0d0887\"],[0.1111111111111111,\"#46039f\"],[0.2222222222222222,\"#7201a8\"],[0.3333333333333333,\"#9c179e\"],[0.4444444444444444,\"#bd3786\"],[0.5555555555555556,\"#d8576b\"],[0.6666666666666666,\"#ed7953\"],[0.7777777777777778,\"#fb9f3a\"],[0.8888888888888888,\"#fdca26\"],[1.0,\"#f0f921\"]]}],\"heatmap\":[{\"type\":\"heatmap\",\"colorbar\":{\"outlinewidth\":0,\"ticks\":\"\"},\"colorscale\":[[0.0,\"#0d0887\"],[0.1111111111111111,\"#46039f\"],[0.2222222222222222,\"#7201a8\"],[0.3333333333333333,\"#9c179e\"],[0.4444444444444444,\"#bd3786\"],[0.5555555555555556,\"#d8576b\"],[0.6666666666666666,\"#ed7953\"],[0.7777777777777778,\"#fb9f3a\"],[0.8888888888888888,\"#fdca26\"],[1.0,\"#f0f921\"]]}],\"heatmapgl\":[{\"type\":\"heatmapgl\",\"colorbar\":{\"outlinewidth\":0,\"ticks\":\"\"},\"colorscale\":[[0.0,\"#0d0887\"],[0.1111111111111111,\"#46039f\"],[0.2222222222222222,\"#7201a8\"],[0.3333333333333333,\"#9c179e\"],[0.4444444444444444,\"#bd3786\"],[0.5555555555555556,\"#d8576b\"],[0.6666666666666666,\"#ed7953\"],[0.7777777777777778,\"#fb9f3a\"],[0.8888888888888888,\"#fdca26\"],[1.0,\"#f0f921\"]]}],\"contourcarpet\":[{\"type\":\"contourcarpet\",\"colorbar\":{\"outlinewidth\":0,\"ticks\":\"\"}}],\"contour\":[{\"type\":\"contour\",\"colorbar\":{\"outlinewidth\":0,\"ticks\":\"\"},\"colorscale\":[[0.0,\"#0d0887\"],[0.1111111111111111,\"#46039f\"],[0.2222222222222222,\"#7201a8\"],[0.3333333333333333,\"#9c179e\"],[0.4444444444444444,\"#bd3786\"],[0.5555555555555556,\"#d8576b\"],[0.6666666666666666,\"#ed7953\"],[0.7777777777777778,\"#fb9f3a\"],[0.8888888888888888,\"#fdca26\"],[1.0,\"#f0f921\"]]}],\"surface\":[{\"type\":\"surface\",\"colorbar\":{\"outlinewidth\":0,\"ticks\":\"\"},\"colorscale\":[[0.0,\"#0d0887\"],[0.1111111111111111,\"#46039f\"],[0.2222222222222222,\"#7201a8\"],[0.3333333333333333,\"#9c179e\"],[0.4444444444444444,\"#bd3786\"],[0.5555555555555556,\"#d8576b\"],[0.6666666666666666,\"#ed7953\"],[0.7777777777777778,\"#fb9f3a\"],[0.8888888888888888,\"#fdca26\"],[1.0,\"#f0f921\"]]}],\"mesh3d\":[{\"type\":\"mesh3d\",\"colorbar\":{\"outlinewidth\":0,\"ticks\":\"\"}}],\"scatter\":[{\"fillpattern\":{\"fillmode\":\"overlay\",\"size\":10,\"solidity\":0.2},\"type\":\"scatter\"}],\"parcoords\":[{\"type\":\"parcoords\",\"line\":{\"colorbar\":{\"outlinewidth\":0,\"ticks\":\"\"}}}],\"scatterpolargl\":[{\"type\":\"scatterpolargl\",\"marker\":{\"colorbar\":{\"outlinewidth\":0,\"ticks\":\"\"}}}],\"bar\":[{\"error_x\":{\"color\":\"#2a3f5f\"},\"error_y\":{\"color\":\"#2a3f5f\"},\"marker\":{\"line\":{\"color\":\"#E5ECF6\",\"width\":0.5},\"pattern\":{\"fillmode\":\"overlay\",\"size\":10,\"solidity\":0.2}},\"type\":\"bar\"}],\"scattergeo\":[{\"type\":\"scattergeo\",\"marker\":{\"colorbar\":{\"outlinewidth\":0,\"ticks\":\"\"}}}],\"scatterpolar\":[{\"type\":\"scatterpolar\",\"marker\":{\"colorbar\":{\"outlinewidth\":0,\"ticks\":\"\"}}}],\"histogram\":[{\"marker\":{\"pattern\":{\"fillmode\":\"overlay\",\"size\":10,\"solidity\":0.2}},\"type\":\"histogram\"}],\"scattergl\":[{\"type\":\"scattergl\",\"marker\":{\"colorbar\":{\"outlinewidth\":0,\"ticks\":\"\"}}}],\"scatter3d\":[{\"type\":\"scatter3d\",\"line\":{\"colorbar\":{\"outlinewidth\":0,\"ticks\":\"\"}},\"marker\":{\"colorbar\":{\"outlinewidth\":0,\"ticks\":\"\"}}}],\"scattermapbox\":[{\"type\":\"scattermapbox\",\"marker\":{\"colorbar\":{\"outlinewidth\":0,\"ticks\":\"\"}}}],\"scatterternary\":[{\"type\":\"scatterternary\",\"marker\":{\"colorbar\":{\"outlinewidth\":0,\"ticks\":\"\"}}}],\"scattercarpet\":[{\"type\":\"scattercarpet\",\"marker\":{\"colorbar\":{\"outlinewidth\":0,\"ticks\":\"\"}}}],\"carpet\":[{\"aaxis\":{\"endlinecolor\":\"#2a3f5f\",\"gridcolor\":\"white\",\"linecolor\":\"white\",\"minorgridcolor\":\"white\",\"startlinecolor\":\"#2a3f5f\"},\"baxis\":{\"endlinecolor\":\"#2a3f5f\",\"gridcolor\":\"white\",\"linecolor\":\"white\",\"minorgridcolor\":\"white\",\"startlinecolor\":\"#2a3f5f\"},\"type\":\"carpet\"}],\"table\":[{\"cells\":{\"fill\":{\"color\":\"#EBF0F8\"},\"line\":{\"color\":\"white\"}},\"header\":{\"fill\":{\"color\":\"#C8D4E3\"},\"line\":{\"color\":\"white\"}},\"type\":\"table\"}],\"barpolar\":[{\"marker\":{\"line\":{\"color\":\"#E5ECF6\",\"width\":0.5},\"pattern\":{\"fillmode\":\"overlay\",\"size\":10,\"solidity\":0.2}},\"type\":\"barpolar\"}],\"pie\":[{\"automargin\":true,\"type\":\"pie\"}]},\"layout\":{\"autotypenumbers\":\"strict\",\"colorway\":[\"#636efa\",\"#EF553B\",\"#00cc96\",\"#ab63fa\",\"#FFA15A\",\"#19d3f3\",\"#FF6692\",\"#B6E880\",\"#FF97FF\",\"#FECB52\"],\"font\":{\"color\":\"#2a3f5f\"},\"hovermode\":\"closest\",\"hoverlabel\":{\"align\":\"left\"},\"paper_bgcolor\":\"white\",\"plot_bgcolor\":\"#E5ECF6\",\"polar\":{\"bgcolor\":\"#E5ECF6\",\"angularaxis\":{\"gridcolor\":\"white\",\"linecolor\":\"white\",\"ticks\":\"\"},\"radialaxis\":{\"gridcolor\":\"white\",\"linecolor\":\"white\",\"ticks\":\"\"}},\"ternary\":{\"bgcolor\":\"#E5ECF6\",\"aaxis\":{\"gridcolor\":\"white\",\"linecolor\":\"white\",\"ticks\":\"\"},\"baxis\":{\"gridcolor\":\"white\",\"linecolor\":\"white\",\"ticks\":\"\"},\"caxis\":{\"gridcolor\":\"white\",\"linecolor\":\"white\",\"ticks\":\"\"}},\"coloraxis\":{\"colorbar\":{\"outlinewidth\":0,\"ticks\":\"\"}},\"colorscale\":{\"sequential\":[[0.0,\"#0d0887\"],[0.1111111111111111,\"#46039f\"],[0.2222222222222222,\"#7201a8\"],[0.3333333333333333,\"#9c179e\"],[0.4444444444444444,\"#bd3786\"],[0.5555555555555556,\"#d8576b\"],[0.6666666666666666,\"#ed7953\"],[0.7777777777777778,\"#fb9f3a\"],[0.8888888888888888,\"#fdca26\"],[1.0,\"#f0f921\"]],\"sequentialminus\":[[0.0,\"#0d0887\"],[0.1111111111111111,\"#46039f\"],[0.2222222222222222,\"#7201a8\"],[0.3333333333333333,\"#9c179e\"],[0.4444444444444444,\"#bd3786\"],[0.5555555555555556,\"#d8576b\"],[0.6666666666666666,\"#ed7953\"],[0.7777777777777778,\"#fb9f3a\"],[0.8888888888888888,\"#fdca26\"],[1.0,\"#f0f921\"]],\"diverging\":[[0,\"#8e0152\"],[0.1,\"#c51b7d\"],[0.2,\"#de77ae\"],[0.3,\"#f1b6da\"],[0.4,\"#fde0ef\"],[0.5,\"#f7f7f7\"],[0.6,\"#e6f5d0\"],[0.7,\"#b8e186\"],[0.8,\"#7fbc41\"],[0.9,\"#4d9221\"],[1,\"#276419\"]]},\"xaxis\":{\"gridcolor\":\"white\",\"linecolor\":\"white\",\"ticks\":\"\",\"title\":{\"standoff\":15},\"zerolinecolor\":\"white\",\"automargin\":true,\"zerolinewidth\":2},\"yaxis\":{\"gridcolor\":\"white\",\"linecolor\":\"white\",\"ticks\":\"\",\"title\":{\"standoff\":15},\"zerolinecolor\":\"white\",\"automargin\":true,\"zerolinewidth\":2},\"scene\":{\"xaxis\":{\"backgroundcolor\":\"#E5ECF6\",\"gridcolor\":\"white\",\"linecolor\":\"white\",\"showbackground\":true,\"ticks\":\"\",\"zerolinecolor\":\"white\",\"gridwidth\":2},\"yaxis\":{\"backgroundcolor\":\"#E5ECF6\",\"gridcolor\":\"white\",\"linecolor\":\"white\",\"showbackground\":true,\"ticks\":\"\",\"zerolinecolor\":\"white\",\"gridwidth\":2},\"zaxis\":{\"backgroundcolor\":\"#E5ECF6\",\"gridcolor\":\"white\",\"linecolor\":\"white\",\"showbackground\":true,\"ticks\":\"\",\"zerolinecolor\":\"white\",\"gridwidth\":2}},\"shapedefaults\":{\"line\":{\"color\":\"#2a3f5f\"}},\"annotationdefaults\":{\"arrowcolor\":\"#2a3f5f\",\"arrowhead\":0,\"arrowwidth\":1},\"geo\":{\"bgcolor\":\"white\",\"landcolor\":\"#E5ECF6\",\"subunitcolor\":\"white\",\"showland\":true,\"showlakes\":true,\"lakecolor\":\"white\"},\"title\":{\"x\":0.05},\"mapbox\":{\"style\":\"light\"}}},\"legend\":{\"tracegroupgap\":0},\"margin\":{\"t\":60}},                        {\"responsive\": true}                    ).then(function(){\n",
              "                            \n",
              "var gd = document.getElementById('c7cb7c00-8aa2-46c9-8c3f-57f02bdd932f');\n",
              "var x = new MutationObserver(function (mutations, observer) {{\n",
              "        var display = window.getComputedStyle(gd).display;\n",
              "        if (!display || display === 'none') {{\n",
              "            console.log([gd, 'removed!']);\n",
              "            Plotly.purge(gd);\n",
              "            observer.disconnect();\n",
              "        }}\n",
              "}});\n",
              "\n",
              "// Listen for the removal of the full notebook cells\n",
              "var notebookContainer = gd.closest('#notebook-container');\n",
              "if (notebookContainer) {{\n",
              "    x.observe(notebookContainer, {childList: true});\n",
              "}}\n",
              "\n",
              "// Listen for the clearing of the current output cell\n",
              "var outputEl = gd.closest('.output');\n",
              "if (outputEl) {{\n",
              "    x.observe(outputEl, {childList: true});\n",
              "}}\n",
              "\n",
              "                        })                };                            </script>        </div>\n",
              "</body>\n",
              "</html>"
            ]
          },
          "metadata": {}
        }
      ]
    },
    {
      "cell_type": "code",
      "source": [
        "fig=px.sunburst(df,path=[\"sex\",\"day\",\"time\",\"smoker\",\"size\"],values=\"total_bill\")\n",
        "fig.show()"
      ],
      "metadata": {
        "colab": {
          "base_uri": "https://localhost:8080/",
          "height": 542
        },
        "id": "pMoq8i6Kgzz_",
        "outputId": "bbc191ec-c1ce-4811-a564-c0811cfc4fad"
      },
      "execution_count": 57,
      "outputs": [
        {
          "output_type": "display_data",
          "data": {
            "text/html": [
              "<html>\n",
              "<head><meta charset=\"utf-8\" /></head>\n",
              "<body>\n",
              "    <div>            <script src=\"https://cdnjs.cloudflare.com/ajax/libs/mathjax/2.7.5/MathJax.js?config=TeX-AMS-MML_SVG\"></script><script type=\"text/javascript\">if (window.MathJax && window.MathJax.Hub && window.MathJax.Hub.Config) {window.MathJax.Hub.Config({SVG: {font: \"STIX-Web\"}});}</script>                <script type=\"text/javascript\">window.PlotlyConfig = {MathJaxConfig: 'local'};</script>\n",
              "        <script charset=\"utf-8\" src=\"https://cdn.plot.ly/plotly-2.24.1.min.js\"></script>                <div id=\"9c746527-e10a-49ad-a112-7284fcc9576b\" class=\"plotly-graph-div\" style=\"height:525px; width:100%;\"></div>            <script type=\"text/javascript\">                                    window.PLOTLYENV=window.PLOTLYENV || {};                                    if (document.getElementById(\"9c746527-e10a-49ad-a112-7284fcc9576b\")) {                    Plotly.newPlot(                        \"9c746527-e10a-49ad-a112-7284fcc9576b\",                        [{\"branchvalues\":\"total\",\"domain\":{\"x\":[0.0,1.0],\"y\":[0.0,1.0]},\"hovertemplate\":\"labels=%{label}\\u003cbr\\u003etotal_bill=%{value}\\u003cbr\\u003eparent=%{parent}\\u003cbr\\u003eid=%{id}\\u003cextra\\u003e\\u003c\\u002fextra\\u003e\",\"ids\":[\"Male\\u002fThur\\u002fLunch\\u002fYes\\u002f1\",\"Female\\u002fThur\\u002fLunch\\u002fYes\\u002f1\",\"Male\\u002fFri\\u002fLunch\\u002fYes\\u002f1\",\"Female\\u002fFri\\u002fLunch\\u002fYes\\u002f1\",\"Male\\u002fSat\\u002fLunch\\u002fYes\\u002f1\",\"Female\\u002fSat\\u002fLunch\\u002fYes\\u002f1\",\"Male\\u002fSun\\u002fLunch\\u002fYes\\u002f1\",\"Female\\u002fSun\\u002fLunch\\u002fYes\\u002f1\",\"Male\\u002fThur\\u002fDinner\\u002fYes\\u002f1\",\"Female\\u002fThur\\u002fDinner\\u002fYes\\u002f1\",\"Male\\u002fFri\\u002fDinner\\u002fYes\\u002f1\",\"Female\\u002fFri\\u002fDinner\\u002fYes\\u002f1\",\"Male\\u002fSat\\u002fDinner\\u002fYes\\u002f1\",\"Female\\u002fSat\\u002fDinner\\u002fYes\\u002f1\",\"Male\\u002fSun\\u002fDinner\\u002fYes\\u002f1\",\"Female\\u002fSun\\u002fDinner\\u002fYes\\u002f1\",\"Male\\u002fThur\\u002fLunch\\u002fNo\\u002f1\",\"Female\\u002fThur\\u002fLunch\\u002fNo\\u002f1\",\"Male\\u002fFri\\u002fLunch\\u002fNo\\u002f1\",\"Female\\u002fFri\\u002fLunch\\u002fNo\\u002f1\",\"Male\\u002fSat\\u002fLunch\\u002fNo\\u002f1\",\"Female\\u002fSat\\u002fLunch\\u002fNo\\u002f1\",\"Male\\u002fSun\\u002fLunch\\u002fNo\\u002f1\",\"Female\\u002fSun\\u002fLunch\\u002fNo\\u002f1\",\"Male\\u002fThur\\u002fDinner\\u002fNo\\u002f1\",\"Female\\u002fThur\\u002fDinner\\u002fNo\\u002f1\",\"Male\\u002fFri\\u002fDinner\\u002fNo\\u002f1\",\"Female\\u002fFri\\u002fDinner\\u002fNo\\u002f1\",\"Male\\u002fSat\\u002fDinner\\u002fNo\\u002f1\",\"Female\\u002fSat\\u002fDinner\\u002fNo\\u002f1\",\"Male\\u002fSun\\u002fDinner\\u002fNo\\u002f1\",\"Female\\u002fSun\\u002fDinner\\u002fNo\\u002f1\",\"Male\\u002fThur\\u002fLunch\\u002fYes\\u002f2\",\"Female\\u002fThur\\u002fLunch\\u002fYes\\u002f2\",\"Male\\u002fFri\\u002fLunch\\u002fYes\\u002f2\",\"Female\\u002fFri\\u002fLunch\\u002fYes\\u002f2\",\"Male\\u002fSat\\u002fLunch\\u002fYes\\u002f2\",\"Female\\u002fSat\\u002fLunch\\u002fYes\\u002f2\",\"Male\\u002fSun\\u002fLunch\\u002fYes\\u002f2\",\"Female\\u002fSun\\u002fLunch\\u002fYes\\u002f2\",\"Male\\u002fThur\\u002fDinner\\u002fYes\\u002f2\",\"Female\\u002fThur\\u002fDinner\\u002fYes\\u002f2\",\"Male\\u002fFri\\u002fDinner\\u002fYes\\u002f2\",\"Female\\u002fFri\\u002fDinner\\u002fYes\\u002f2\",\"Male\\u002fSat\\u002fDinner\\u002fYes\\u002f2\",\"Female\\u002fSat\\u002fDinner\\u002fYes\\u002f2\",\"Male\\u002fSun\\u002fDinner\\u002fYes\\u002f2\",\"Female\\u002fSun\\u002fDinner\\u002fYes\\u002f2\",\"Male\\u002fThur\\u002fLunch\\u002fNo\\u002f2\",\"Female\\u002fThur\\u002fLunch\\u002fNo\\u002f2\",\"Male\\u002fFri\\u002fLunch\\u002fNo\\u002f2\",\"Female\\u002fFri\\u002fLunch\\u002fNo\\u002f2\",\"Male\\u002fSat\\u002fLunch\\u002fNo\\u002f2\",\"Female\\u002fSat\\u002fLunch\\u002fNo\\u002f2\",\"Male\\u002fSun\\u002fLunch\\u002fNo\\u002f2\",\"Female\\u002fSun\\u002fLunch\\u002fNo\\u002f2\",\"Male\\u002fThur\\u002fDinner\\u002fNo\\u002f2\",\"Female\\u002fThur\\u002fDinner\\u002fNo\\u002f2\",\"Male\\u002fFri\\u002fDinner\\u002fNo\\u002f2\",\"Female\\u002fFri\\u002fDinner\\u002fNo\\u002f2\",\"Male\\u002fSat\\u002fDinner\\u002fNo\\u002f2\",\"Female\\u002fSat\\u002fDinner\\u002fNo\\u002f2\",\"Male\\u002fSun\\u002fDinner\\u002fNo\\u002f2\",\"Female\\u002fSun\\u002fDinner\\u002fNo\\u002f2\",\"Male\\u002fThur\\u002fLunch\\u002fYes\\u002f3\",\"Female\\u002fThur\\u002fLunch\\u002fYes\\u002f3\",\"Male\\u002fFri\\u002fLunch\\u002fYes\\u002f3\",\"Female\\u002fFri\\u002fLunch\\u002fYes\\u002f3\",\"Male\\u002fSat\\u002fLunch\\u002fYes\\u002f3\",\"Female\\u002fSat\\u002fLunch\\u002fYes\\u002f3\",\"Male\\u002fSun\\u002fLunch\\u002fYes\\u002f3\",\"Female\\u002fSun\\u002fLunch\\u002fYes\\u002f3\",\"Male\\u002fThur\\u002fDinner\\u002fYes\\u002f3\",\"Female\\u002fThur\\u002fDinner\\u002fYes\\u002f3\",\"Male\\u002fFri\\u002fDinner\\u002fYes\\u002f3\",\"Female\\u002fFri\\u002fDinner\\u002fYes\\u002f3\",\"Male\\u002fSat\\u002fDinner\\u002fYes\\u002f3\",\"Female\\u002fSat\\u002fDinner\\u002fYes\\u002f3\",\"Male\\u002fSun\\u002fDinner\\u002fYes\\u002f3\",\"Female\\u002fSun\\u002fDinner\\u002fYes\\u002f3\",\"Male\\u002fThur\\u002fLunch\\u002fNo\\u002f3\",\"Female\\u002fThur\\u002fLunch\\u002fNo\\u002f3\",\"Male\\u002fFri\\u002fLunch\\u002fNo\\u002f3\",\"Female\\u002fFri\\u002fLunch\\u002fNo\\u002f3\",\"Male\\u002fSat\\u002fLunch\\u002fNo\\u002f3\",\"Female\\u002fSat\\u002fLunch\\u002fNo\\u002f3\",\"Male\\u002fSun\\u002fLunch\\u002fNo\\u002f3\",\"Female\\u002fSun\\u002fLunch\\u002fNo\\u002f3\",\"Male\\u002fThur\\u002fDinner\\u002fNo\\u002f3\",\"Female\\u002fThur\\u002fDinner\\u002fNo\\u002f3\",\"Male\\u002fFri\\u002fDinner\\u002fNo\\u002f3\",\"Female\\u002fFri\\u002fDinner\\u002fNo\\u002f3\",\"Male\\u002fSat\\u002fDinner\\u002fNo\\u002f3\",\"Female\\u002fSat\\u002fDinner\\u002fNo\\u002f3\",\"Male\\u002fSun\\u002fDinner\\u002fNo\\u002f3\",\"Female\\u002fSun\\u002fDinner\\u002fNo\\u002f3\",\"Male\\u002fThur\\u002fLunch\\u002fYes\\u002f4\",\"Female\\u002fThur\\u002fLunch\\u002fYes\\u002f4\",\"Male\\u002fFri\\u002fLunch\\u002fYes\\u002f4\",\"Female\\u002fFri\\u002fLunch\\u002fYes\\u002f4\",\"Male\\u002fSat\\u002fLunch\\u002fYes\\u002f4\",\"Female\\u002fSat\\u002fLunch\\u002fYes\\u002f4\",\"Male\\u002fSun\\u002fLunch\\u002fYes\\u002f4\",\"Female\\u002fSun\\u002fLunch\\u002fYes\\u002f4\",\"Male\\u002fThur\\u002fDinner\\u002fYes\\u002f4\",\"Female\\u002fThur\\u002fDinner\\u002fYes\\u002f4\",\"Male\\u002fFri\\u002fDinner\\u002fYes\\u002f4\",\"Female\\u002fFri\\u002fDinner\\u002fYes\\u002f4\",\"Male\\u002fSat\\u002fDinner\\u002fYes\\u002f4\",\"Female\\u002fSat\\u002fDinner\\u002fYes\\u002f4\",\"Male\\u002fSun\\u002fDinner\\u002fYes\\u002f4\",\"Female\\u002fSun\\u002fDinner\\u002fYes\\u002f4\",\"Male\\u002fThur\\u002fLunch\\u002fNo\\u002f4\",\"Female\\u002fThur\\u002fLunch\\u002fNo\\u002f4\",\"Male\\u002fFri\\u002fLunch\\u002fNo\\u002f4\",\"Female\\u002fFri\\u002fLunch\\u002fNo\\u002f4\",\"Male\\u002fSat\\u002fLunch\\u002fNo\\u002f4\",\"Female\\u002fSat\\u002fLunch\\u002fNo\\u002f4\",\"Male\\u002fSun\\u002fLunch\\u002fNo\\u002f4\",\"Female\\u002fSun\\u002fLunch\\u002fNo\\u002f4\",\"Male\\u002fThur\\u002fDinner\\u002fNo\\u002f4\",\"Female\\u002fThur\\u002fDinner\\u002fNo\\u002f4\",\"Male\\u002fFri\\u002fDinner\\u002fNo\\u002f4\",\"Female\\u002fFri\\u002fDinner\\u002fNo\\u002f4\",\"Male\\u002fSat\\u002fDinner\\u002fNo\\u002f4\",\"Female\\u002fSat\\u002fDinner\\u002fNo\\u002f4\",\"Male\\u002fSun\\u002fDinner\\u002fNo\\u002f4\",\"Female\\u002fSun\\u002fDinner\\u002fNo\\u002f4\",\"Male\\u002fThur\\u002fLunch\\u002fYes\\u002f5\",\"Female\\u002fThur\\u002fLunch\\u002fYes\\u002f5\",\"Male\\u002fFri\\u002fLunch\\u002fYes\\u002f5\",\"Female\\u002fFri\\u002fLunch\\u002fYes\\u002f5\",\"Male\\u002fSat\\u002fLunch\\u002fYes\\u002f5\",\"Female\\u002fSat\\u002fLunch\\u002fYes\\u002f5\",\"Male\\u002fSun\\u002fLunch\\u002fYes\\u002f5\",\"Female\\u002fSun\\u002fLunch\\u002fYes\\u002f5\",\"Male\\u002fThur\\u002fDinner\\u002fYes\\u002f5\",\"Female\\u002fThur\\u002fDinner\\u002fYes\\u002f5\",\"Male\\u002fFri\\u002fDinner\\u002fYes\\u002f5\",\"Female\\u002fFri\\u002fDinner\\u002fYes\\u002f5\",\"Male\\u002fSat\\u002fDinner\\u002fYes\\u002f5\",\"Female\\u002fSat\\u002fDinner\\u002fYes\\u002f5\",\"Male\\u002fSun\\u002fDinner\\u002fYes\\u002f5\",\"Female\\u002fSun\\u002fDinner\\u002fYes\\u002f5\",\"Male\\u002fThur\\u002fLunch\\u002fNo\\u002f5\",\"Female\\u002fThur\\u002fLunch\\u002fNo\\u002f5\",\"Male\\u002fFri\\u002fLunch\\u002fNo\\u002f5\",\"Female\\u002fFri\\u002fLunch\\u002fNo\\u002f5\",\"Male\\u002fSat\\u002fLunch\\u002fNo\\u002f5\",\"Female\\u002fSat\\u002fLunch\\u002fNo\\u002f5\",\"Male\\u002fSun\\u002fLunch\\u002fNo\\u002f5\",\"Female\\u002fSun\\u002fLunch\\u002fNo\\u002f5\",\"Male\\u002fThur\\u002fDinner\\u002fNo\\u002f5\",\"Female\\u002fThur\\u002fDinner\\u002fNo\\u002f5\",\"Male\\u002fFri\\u002fDinner\\u002fNo\\u002f5\",\"Female\\u002fFri\\u002fDinner\\u002fNo\\u002f5\",\"Male\\u002fSat\\u002fDinner\\u002fNo\\u002f5\",\"Female\\u002fSat\\u002fDinner\\u002fNo\\u002f5\",\"Male\\u002fSun\\u002fDinner\\u002fNo\\u002f5\",\"Female\\u002fSun\\u002fDinner\\u002fNo\\u002f5\",\"Male\\u002fThur\\u002fLunch\\u002fYes\\u002f6\",\"Female\\u002fThur\\u002fLunch\\u002fYes\\u002f6\",\"Male\\u002fFri\\u002fLunch\\u002fYes\\u002f6\",\"Female\\u002fFri\\u002fLunch\\u002fYes\\u002f6\",\"Male\\u002fSat\\u002fLunch\\u002fYes\\u002f6\",\"Female\\u002fSat\\u002fLunch\\u002fYes\\u002f6\",\"Male\\u002fSun\\u002fLunch\\u002fYes\\u002f6\",\"Female\\u002fSun\\u002fLunch\\u002fYes\\u002f6\",\"Male\\u002fThur\\u002fDinner\\u002fYes\\u002f6\",\"Female\\u002fThur\\u002fDinner\\u002fYes\\u002f6\",\"Male\\u002fFri\\u002fDinner\\u002fYes\\u002f6\",\"Female\\u002fFri\\u002fDinner\\u002fYes\\u002f6\",\"Male\\u002fSat\\u002fDinner\\u002fYes\\u002f6\",\"Female\\u002fSat\\u002fDinner\\u002fYes\\u002f6\",\"Male\\u002fSun\\u002fDinner\\u002fYes\\u002f6\",\"Female\\u002fSun\\u002fDinner\\u002fYes\\u002f6\",\"Male\\u002fThur\\u002fLunch\\u002fNo\\u002f6\",\"Female\\u002fThur\\u002fLunch\\u002fNo\\u002f6\",\"Male\\u002fFri\\u002fLunch\\u002fNo\\u002f6\",\"Female\\u002fFri\\u002fLunch\\u002fNo\\u002f6\",\"Male\\u002fSat\\u002fLunch\\u002fNo\\u002f6\",\"Female\\u002fSat\\u002fLunch\\u002fNo\\u002f6\",\"Male\\u002fSun\\u002fLunch\\u002fNo\\u002f6\",\"Female\\u002fSun\\u002fLunch\\u002fNo\\u002f6\",\"Male\\u002fThur\\u002fDinner\\u002fNo\\u002f6\",\"Female\\u002fThur\\u002fDinner\\u002fNo\\u002f6\",\"Male\\u002fFri\\u002fDinner\\u002fNo\\u002f6\",\"Female\\u002fFri\\u002fDinner\\u002fNo\\u002f6\",\"Male\\u002fSat\\u002fDinner\\u002fNo\\u002f6\",\"Female\\u002fSat\\u002fDinner\\u002fNo\\u002f6\",\"Male\\u002fSun\\u002fDinner\\u002fNo\\u002f6\",\"Female\\u002fSun\\u002fDinner\\u002fNo\\u002f6\",\"Male\\u002fThur\\u002fLunch\\u002fYes\",\"Female\\u002fThur\\u002fLunch\\u002fYes\",\"Male\\u002fFri\\u002fLunch\\u002fYes\",\"Female\\u002fFri\\u002fLunch\\u002fYes\",\"Male\\u002fSat\\u002fLunch\\u002fYes\",\"Female\\u002fSat\\u002fLunch\\u002fYes\",\"Male\\u002fSun\\u002fLunch\\u002fYes\",\"Female\\u002fSun\\u002fLunch\\u002fYes\",\"Male\\u002fThur\\u002fDinner\\u002fYes\",\"Female\\u002fThur\\u002fDinner\\u002fYes\",\"Male\\u002fFri\\u002fDinner\\u002fYes\",\"Female\\u002fFri\\u002fDinner\\u002fYes\",\"Male\\u002fSat\\u002fDinner\\u002fYes\",\"Female\\u002fSat\\u002fDinner\\u002fYes\",\"Male\\u002fSun\\u002fDinner\\u002fYes\",\"Female\\u002fSun\\u002fDinner\\u002fYes\",\"Male\\u002fThur\\u002fLunch\\u002fNo\",\"Female\\u002fThur\\u002fLunch\\u002fNo\",\"Male\\u002fFri\\u002fLunch\\u002fNo\",\"Female\\u002fFri\\u002fLunch\\u002fNo\",\"Male\\u002fSat\\u002fLunch\\u002fNo\",\"Female\\u002fSat\\u002fLunch\\u002fNo\",\"Male\\u002fSun\\u002fLunch\\u002fNo\",\"Female\\u002fSun\\u002fLunch\\u002fNo\",\"Male\\u002fThur\\u002fDinner\\u002fNo\",\"Female\\u002fThur\\u002fDinner\\u002fNo\",\"Male\\u002fFri\\u002fDinner\\u002fNo\",\"Female\\u002fFri\\u002fDinner\\u002fNo\",\"Male\\u002fSat\\u002fDinner\\u002fNo\",\"Female\\u002fSat\\u002fDinner\\u002fNo\",\"Male\\u002fSun\\u002fDinner\\u002fNo\",\"Female\\u002fSun\\u002fDinner\\u002fNo\",\"Male\\u002fThur\\u002fLunch\",\"Female\\u002fThur\\u002fLunch\",\"Male\\u002fFri\\u002fLunch\",\"Female\\u002fFri\\u002fLunch\",\"Male\\u002fSat\\u002fLunch\",\"Female\\u002fSat\\u002fLunch\",\"Male\\u002fSun\\u002fLunch\",\"Female\\u002fSun\\u002fLunch\",\"Male\\u002fThur\\u002fDinner\",\"Female\\u002fThur\\u002fDinner\",\"Male\\u002fFri\\u002fDinner\",\"Female\\u002fFri\\u002fDinner\",\"Male\\u002fSat\\u002fDinner\",\"Female\\u002fSat\\u002fDinner\",\"Male\\u002fSun\\u002fDinner\",\"Female\\u002fSun\\u002fDinner\",\"Male\\u002fThur\",\"Female\\u002fThur\",\"Male\\u002fFri\",\"Female\\u002fFri\",\"Male\\u002fSat\",\"Female\\u002fSat\",\"Male\\u002fSun\",\"Female\\u002fSun\",\"Male\",\"Female\"],\"labels\":[\"1\",\"1\",\"1\",\"1\",\"1\",\"1\",\"1\",\"1\",\"1\",\"1\",\"1\",\"1\",\"1\",\"1\",\"1\",\"1\",\"1\",\"1\",\"1\",\"1\",\"1\",\"1\",\"1\",\"1\",\"1\",\"1\",\"1\",\"1\",\"1\",\"1\",\"1\",\"1\",\"2\",\"2\",\"2\",\"2\",\"2\",\"2\",\"2\",\"2\",\"2\",\"2\",\"2\",\"2\",\"2\",\"2\",\"2\",\"2\",\"2\",\"2\",\"2\",\"2\",\"2\",\"2\",\"2\",\"2\",\"2\",\"2\",\"2\",\"2\",\"2\",\"2\",\"2\",\"2\",\"3\",\"3\",\"3\",\"3\",\"3\",\"3\",\"3\",\"3\",\"3\",\"3\",\"3\",\"3\",\"3\",\"3\",\"3\",\"3\",\"3\",\"3\",\"3\",\"3\",\"3\",\"3\",\"3\",\"3\",\"3\",\"3\",\"3\",\"3\",\"3\",\"3\",\"3\",\"3\",\"4\",\"4\",\"4\",\"4\",\"4\",\"4\",\"4\",\"4\",\"4\",\"4\",\"4\",\"4\",\"4\",\"4\",\"4\",\"4\",\"4\",\"4\",\"4\",\"4\",\"4\",\"4\",\"4\",\"4\",\"4\",\"4\",\"4\",\"4\",\"4\",\"4\",\"4\",\"4\",\"5\",\"5\",\"5\",\"5\",\"5\",\"5\",\"5\",\"5\",\"5\",\"5\",\"5\",\"5\",\"5\",\"5\",\"5\",\"5\",\"5\",\"5\",\"5\",\"5\",\"5\",\"5\",\"5\",\"5\",\"5\",\"5\",\"5\",\"5\",\"5\",\"5\",\"5\",\"5\",\"6\",\"6\",\"6\",\"6\",\"6\",\"6\",\"6\",\"6\",\"6\",\"6\",\"6\",\"6\",\"6\",\"6\",\"6\",\"6\",\"6\",\"6\",\"6\",\"6\",\"6\",\"6\",\"6\",\"6\",\"6\",\"6\",\"6\",\"6\",\"6\",\"6\",\"6\",\"6\",\"Yes\",\"Yes\",\"Yes\",\"Yes\",\"Yes\",\"Yes\",\"Yes\",\"Yes\",\"Yes\",\"Yes\",\"Yes\",\"Yes\",\"Yes\",\"Yes\",\"Yes\",\"Yes\",\"No\",\"No\",\"No\",\"No\",\"No\",\"No\",\"No\",\"No\",\"No\",\"No\",\"No\",\"No\",\"No\",\"No\",\"No\",\"No\",\"Lunch\",\"Lunch\",\"Lunch\",\"Lunch\",\"Lunch\",\"Lunch\",\"Lunch\",\"Lunch\",\"Dinner\",\"Dinner\",\"Dinner\",\"Dinner\",\"Dinner\",\"Dinner\",\"Dinner\",\"Dinner\",\"Thur\",\"Thur\",\"Fri\",\"Fri\",\"Sat\",\"Sat\",\"Sun\",\"Sun\",\"Male\",\"Female\"],\"name\":\"\",\"parents\":[\"Male\\u002fThur\\u002fLunch\\u002fYes\",\"Female\\u002fThur\\u002fLunch\\u002fYes\",\"Male\\u002fFri\\u002fLunch\\u002fYes\",\"Female\\u002fFri\\u002fLunch\\u002fYes\",\"Male\\u002fSat\\u002fLunch\\u002fYes\",\"Female\\u002fSat\\u002fLunch\\u002fYes\",\"Male\\u002fSun\\u002fLunch\\u002fYes\",\"Female\\u002fSun\\u002fLunch\\u002fYes\",\"Male\\u002fThur\\u002fDinner\\u002fYes\",\"Female\\u002fThur\\u002fDinner\\u002fYes\",\"Male\\u002fFri\\u002fDinner\\u002fYes\",\"Female\\u002fFri\\u002fDinner\\u002fYes\",\"Male\\u002fSat\\u002fDinner\\u002fYes\",\"Female\\u002fSat\\u002fDinner\\u002fYes\",\"Male\\u002fSun\\u002fDinner\\u002fYes\",\"Female\\u002fSun\\u002fDinner\\u002fYes\",\"Male\\u002fThur\\u002fLunch\\u002fNo\",\"Female\\u002fThur\\u002fLunch\\u002fNo\",\"Male\\u002fFri\\u002fLunch\\u002fNo\",\"Female\\u002fFri\\u002fLunch\\u002fNo\",\"Male\\u002fSat\\u002fLunch\\u002fNo\",\"Female\\u002fSat\\u002fLunch\\u002fNo\",\"Male\\u002fSun\\u002fLunch\\u002fNo\",\"Female\\u002fSun\\u002fLunch\\u002fNo\",\"Male\\u002fThur\\u002fDinner\\u002fNo\",\"Female\\u002fThur\\u002fDinner\\u002fNo\",\"Male\\u002fFri\\u002fDinner\\u002fNo\",\"Female\\u002fFri\\u002fDinner\\u002fNo\",\"Male\\u002fSat\\u002fDinner\\u002fNo\",\"Female\\u002fSat\\u002fDinner\\u002fNo\",\"Male\\u002fSun\\u002fDinner\\u002fNo\",\"Female\\u002fSun\\u002fDinner\\u002fNo\",\"Male\\u002fThur\\u002fLunch\\u002fYes\",\"Female\\u002fThur\\u002fLunch\\u002fYes\",\"Male\\u002fFri\\u002fLunch\\u002fYes\",\"Female\\u002fFri\\u002fLunch\\u002fYes\",\"Male\\u002fSat\\u002fLunch\\u002fYes\",\"Female\\u002fSat\\u002fLunch\\u002fYes\",\"Male\\u002fSun\\u002fLunch\\u002fYes\",\"Female\\u002fSun\\u002fLunch\\u002fYes\",\"Male\\u002fThur\\u002fDinner\\u002fYes\",\"Female\\u002fThur\\u002fDinner\\u002fYes\",\"Male\\u002fFri\\u002fDinner\\u002fYes\",\"Female\\u002fFri\\u002fDinner\\u002fYes\",\"Male\\u002fSat\\u002fDinner\\u002fYes\",\"Female\\u002fSat\\u002fDinner\\u002fYes\",\"Male\\u002fSun\\u002fDinner\\u002fYes\",\"Female\\u002fSun\\u002fDinner\\u002fYes\",\"Male\\u002fThur\\u002fLunch\\u002fNo\",\"Female\\u002fThur\\u002fLunch\\u002fNo\",\"Male\\u002fFri\\u002fLunch\\u002fNo\",\"Female\\u002fFri\\u002fLunch\\u002fNo\",\"Male\\u002fSat\\u002fLunch\\u002fNo\",\"Female\\u002fSat\\u002fLunch\\u002fNo\",\"Male\\u002fSun\\u002fLunch\\u002fNo\",\"Female\\u002fSun\\u002fLunch\\u002fNo\",\"Male\\u002fThur\\u002fDinner\\u002fNo\",\"Female\\u002fThur\\u002fDinner\\u002fNo\",\"Male\\u002fFri\\u002fDinner\\u002fNo\",\"Female\\u002fFri\\u002fDinner\\u002fNo\",\"Male\\u002fSat\\u002fDinner\\u002fNo\",\"Female\\u002fSat\\u002fDinner\\u002fNo\",\"Male\\u002fSun\\u002fDinner\\u002fNo\",\"Female\\u002fSun\\u002fDinner\\u002fNo\",\"Male\\u002fThur\\u002fLunch\\u002fYes\",\"Female\\u002fThur\\u002fLunch\\u002fYes\",\"Male\\u002fFri\\u002fLunch\\u002fYes\",\"Female\\u002fFri\\u002fLunch\\u002fYes\",\"Male\\u002fSat\\u002fLunch\\u002fYes\",\"Female\\u002fSat\\u002fLunch\\u002fYes\",\"Male\\u002fSun\\u002fLunch\\u002fYes\",\"Female\\u002fSun\\u002fLunch\\u002fYes\",\"Male\\u002fThur\\u002fDinner\\u002fYes\",\"Female\\u002fThur\\u002fDinner\\u002fYes\",\"Male\\u002fFri\\u002fDinner\\u002fYes\",\"Female\\u002fFri\\u002fDinner\\u002fYes\",\"Male\\u002fSat\\u002fDinner\\u002fYes\",\"Female\\u002fSat\\u002fDinner\\u002fYes\",\"Male\\u002fSun\\u002fDinner\\u002fYes\",\"Female\\u002fSun\\u002fDinner\\u002fYes\",\"Male\\u002fThur\\u002fLunch\\u002fNo\",\"Female\\u002fThur\\u002fLunch\\u002fNo\",\"Male\\u002fFri\\u002fLunch\\u002fNo\",\"Female\\u002fFri\\u002fLunch\\u002fNo\",\"Male\\u002fSat\\u002fLunch\\u002fNo\",\"Female\\u002fSat\\u002fLunch\\u002fNo\",\"Male\\u002fSun\\u002fLunch\\u002fNo\",\"Female\\u002fSun\\u002fLunch\\u002fNo\",\"Male\\u002fThur\\u002fDinner\\u002fNo\",\"Female\\u002fThur\\u002fDinner\\u002fNo\",\"Male\\u002fFri\\u002fDinner\\u002fNo\",\"Female\\u002fFri\\u002fDinner\\u002fNo\",\"Male\\u002fSat\\u002fDinner\\u002fNo\",\"Female\\u002fSat\\u002fDinner\\u002fNo\",\"Male\\u002fSun\\u002fDinner\\u002fNo\",\"Female\\u002fSun\\u002fDinner\\u002fNo\",\"Male\\u002fThur\\u002fLunch\\u002fYes\",\"Female\\u002fThur\\u002fLunch\\u002fYes\",\"Male\\u002fFri\\u002fLunch\\u002fYes\",\"Female\\u002fFri\\u002fLunch\\u002fYes\",\"Male\\u002fSat\\u002fLunch\\u002fYes\",\"Female\\u002fSat\\u002fLunch\\u002fYes\",\"Male\\u002fSun\\u002fLunch\\u002fYes\",\"Female\\u002fSun\\u002fLunch\\u002fYes\",\"Male\\u002fThur\\u002fDinner\\u002fYes\",\"Female\\u002fThur\\u002fDinner\\u002fYes\",\"Male\\u002fFri\\u002fDinner\\u002fYes\",\"Female\\u002fFri\\u002fDinner\\u002fYes\",\"Male\\u002fSat\\u002fDinner\\u002fYes\",\"Female\\u002fSat\\u002fDinner\\u002fYes\",\"Male\\u002fSun\\u002fDinner\\u002fYes\",\"Female\\u002fSun\\u002fDinner\\u002fYes\",\"Male\\u002fThur\\u002fLunch\\u002fNo\",\"Female\\u002fThur\\u002fLunch\\u002fNo\",\"Male\\u002fFri\\u002fLunch\\u002fNo\",\"Female\\u002fFri\\u002fLunch\\u002fNo\",\"Male\\u002fSat\\u002fLunch\\u002fNo\",\"Female\\u002fSat\\u002fLunch\\u002fNo\",\"Male\\u002fSun\\u002fLunch\\u002fNo\",\"Female\\u002fSun\\u002fLunch\\u002fNo\",\"Male\\u002fThur\\u002fDinner\\u002fNo\",\"Female\\u002fThur\\u002fDinner\\u002fNo\",\"Male\\u002fFri\\u002fDinner\\u002fNo\",\"Female\\u002fFri\\u002fDinner\\u002fNo\",\"Male\\u002fSat\\u002fDinner\\u002fNo\",\"Female\\u002fSat\\u002fDinner\\u002fNo\",\"Male\\u002fSun\\u002fDinner\\u002fNo\",\"Female\\u002fSun\\u002fDinner\\u002fNo\",\"Male\\u002fThur\\u002fLunch\\u002fYes\",\"Female\\u002fThur\\u002fLunch\\u002fYes\",\"Male\\u002fFri\\u002fLunch\\u002fYes\",\"Female\\u002fFri\\u002fLunch\\u002fYes\",\"Male\\u002fSat\\u002fLunch\\u002fYes\",\"Female\\u002fSat\\u002fLunch\\u002fYes\",\"Male\\u002fSun\\u002fLunch\\u002fYes\",\"Female\\u002fSun\\u002fLunch\\u002fYes\",\"Male\\u002fThur\\u002fDinner\\u002fYes\",\"Female\\u002fThur\\u002fDinner\\u002fYes\",\"Male\\u002fFri\\u002fDinner\\u002fYes\",\"Female\\u002fFri\\u002fDinner\\u002fYes\",\"Male\\u002fSat\\u002fDinner\\u002fYes\",\"Female\\u002fSat\\u002fDinner\\u002fYes\",\"Male\\u002fSun\\u002fDinner\\u002fYes\",\"Female\\u002fSun\\u002fDinner\\u002fYes\",\"Male\\u002fThur\\u002fLunch\\u002fNo\",\"Female\\u002fThur\\u002fLunch\\u002fNo\",\"Male\\u002fFri\\u002fLunch\\u002fNo\",\"Female\\u002fFri\\u002fLunch\\u002fNo\",\"Male\\u002fSat\\u002fLunch\\u002fNo\",\"Female\\u002fSat\\u002fLunch\\u002fNo\",\"Male\\u002fSun\\u002fLunch\\u002fNo\",\"Female\\u002fSun\\u002fLunch\\u002fNo\",\"Male\\u002fThur\\u002fDinner\\u002fNo\",\"Female\\u002fThur\\u002fDinner\\u002fNo\",\"Male\\u002fFri\\u002fDinner\\u002fNo\",\"Female\\u002fFri\\u002fDinner\\u002fNo\",\"Male\\u002fSat\\u002fDinner\\u002fNo\",\"Female\\u002fSat\\u002fDinner\\u002fNo\",\"Male\\u002fSun\\u002fDinner\\u002fNo\",\"Female\\u002fSun\\u002fDinner\\u002fNo\",\"Male\\u002fThur\\u002fLunch\\u002fYes\",\"Female\\u002fThur\\u002fLunch\\u002fYes\",\"Male\\u002fFri\\u002fLunch\\u002fYes\",\"Female\\u002fFri\\u002fLunch\\u002fYes\",\"Male\\u002fSat\\u002fLunch\\u002fYes\",\"Female\\u002fSat\\u002fLunch\\u002fYes\",\"Male\\u002fSun\\u002fLunch\\u002fYes\",\"Female\\u002fSun\\u002fLunch\\u002fYes\",\"Male\\u002fThur\\u002fDinner\\u002fYes\",\"Female\\u002fThur\\u002fDinner\\u002fYes\",\"Male\\u002fFri\\u002fDinner\\u002fYes\",\"Female\\u002fFri\\u002fDinner\\u002fYes\",\"Male\\u002fSat\\u002fDinner\\u002fYes\",\"Female\\u002fSat\\u002fDinner\\u002fYes\",\"Male\\u002fSun\\u002fDinner\\u002fYes\",\"Female\\u002fSun\\u002fDinner\\u002fYes\",\"Male\\u002fThur\\u002fLunch\\u002fNo\",\"Female\\u002fThur\\u002fLunch\\u002fNo\",\"Male\\u002fFri\\u002fLunch\\u002fNo\",\"Female\\u002fFri\\u002fLunch\\u002fNo\",\"Male\\u002fSat\\u002fLunch\\u002fNo\",\"Female\\u002fSat\\u002fLunch\\u002fNo\",\"Male\\u002fSun\\u002fLunch\\u002fNo\",\"Female\\u002fSun\\u002fLunch\\u002fNo\",\"Male\\u002fThur\\u002fDinner\\u002fNo\",\"Female\\u002fThur\\u002fDinner\\u002fNo\",\"Male\\u002fFri\\u002fDinner\\u002fNo\",\"Female\\u002fFri\\u002fDinner\\u002fNo\",\"Male\\u002fSat\\u002fDinner\\u002fNo\",\"Female\\u002fSat\\u002fDinner\\u002fNo\",\"Male\\u002fSun\\u002fDinner\\u002fNo\",\"Female\\u002fSun\\u002fDinner\\u002fNo\",\"Male\\u002fThur\\u002fLunch\",\"Female\\u002fThur\\u002fLunch\",\"Male\\u002fFri\\u002fLunch\",\"Female\\u002fFri\\u002fLunch\",\"Male\\u002fSat\\u002fLunch\",\"Female\\u002fSat\\u002fLunch\",\"Male\\u002fSun\\u002fLunch\",\"Female\\u002fSun\\u002fLunch\",\"Male\\u002fThur\\u002fDinner\",\"Female\\u002fThur\\u002fDinner\",\"Male\\u002fFri\\u002fDinner\",\"Female\\u002fFri\\u002fDinner\",\"Male\\u002fSat\\u002fDinner\",\"Female\\u002fSat\\u002fDinner\",\"Male\\u002fSun\\u002fDinner\",\"Female\\u002fSun\\u002fDinner\",\"Male\\u002fThur\\u002fLunch\",\"Female\\u002fThur\\u002fLunch\",\"Male\\u002fFri\\u002fLunch\",\"Female\\u002fFri\\u002fLunch\",\"Male\\u002fSat\\u002fLunch\",\"Female\\u002fSat\\u002fLunch\",\"Male\\u002fSun\\u002fLunch\",\"Female\\u002fSun\\u002fLunch\",\"Male\\u002fThur\\u002fDinner\",\"Female\\u002fThur\\u002fDinner\",\"Male\\u002fFri\\u002fDinner\",\"Female\\u002fFri\\u002fDinner\",\"Male\\u002fSat\\u002fDinner\",\"Female\\u002fSat\\u002fDinner\",\"Male\\u002fSun\\u002fDinner\",\"Female\\u002fSun\\u002fDinner\",\"Male\\u002fThur\",\"Female\\u002fThur\",\"Male\\u002fFri\",\"Female\\u002fFri\",\"Male\\u002fSat\",\"Female\\u002fSat\",\"Male\\u002fSun\",\"Female\\u002fSun\",\"Male\\u002fThur\",\"Female\\u002fThur\",\"Male\\u002fFri\",\"Female\\u002fFri\",\"Male\\u002fSat\",\"Female\\u002fSat\",\"Male\\u002fSun\",\"Female\\u002fSun\",\"Male\",\"Female\",\"Male\",\"Female\",\"Male\",\"Female\",\"Male\",\"Female\",\"\",\"\"],\"values\":[0.0,0.0,8.58,0.0,0.0,0.0,0.0,0.0,0.0,0.0,0.0,0.0,0.0,3.07,0.0,0.0,0.0,10.07,0.0,0.0,0.0,0.0,0.0,0.0,0.0,0.0,0.0,0.0,0.0,7.25,0.0,0.0,152.47,74.94999999999999,25.58,39.78,0.0,0.0,0.0,0.0,0.0,0.0,89.28999999999999,48.8,293.39,198.32,235.39000000000001,27.11,244.22,237.11,0.0,0.0,0.0,0.0,0.0,0.0,0.0,18.78,34.95,22.75,251.38,149.28,349.53,72.81,18.71,16.47,0.0,0.0,0.0,0.0,0.0,0.0,0.0,0.0,0.0,0.0,123.15,72.47,68.45,39.05,22.82,18.64,0.0,15.98,0.0,0.0,0.0,0.0,0.0,0.0,0.0,0.0,193.72,69.83,156.04000000000002,69.22,20.53,43.11,0.0,0.0,0.0,0.0,0.0,0.0,0.0,0.0,40.17,0.0,144.93,30.14,57.82,0.0,27.2,58.91,0.0,0.0,0.0,0.0,0.0,0.0,0.0,0.0,0.0,0.0,192.63,20.69,302.90999999999997,119.66,0.0,0.0,0.0,0.0,0.0,0.0,0.0,0.0,0.0,0.0,0.0,0.0,28.15,0.0,30.46,0.0,41.19,0.0,0.0,0.0,0.0,0.0,0.0,0.0,0.0,0.0,0.0,0.0,0.0,0.0,20.69,29.85,0.0,0.0,0.0,0.0,0.0,0.0,0.0,0.0,0.0,0.0,0.0,0.0,0.0,0.0,0.0,0.0,34.3,56.85,0.0,0.0,0.0,0.0,0.0,0.0,0.0,0.0,0.0,0.0,0.0,0.0,48.17,0.0,191.71,134.53,34.16,39.78,0.0,0.0,0.0,0.0,0.0,0.0,129.46,48.8,589.62,304.0,392.12,66.16,369.73,381.58,0.0,15.98,0.0,0.0,0.0,0.0,0.0,18.78,34.95,22.75,637.73,247.05,877.34,291.54,561.4399999999999,516.11,34.16,55.760000000000005,0.0,0.0,0.0,0.0,0.0,18.78,164.41,71.55,1227.35,551.05,1269.46,357.7,561.4399999999999,534.89,198.57,127.31,1227.35,551.05,1269.46,357.7,3256.82,1570.95],\"type\":\"sunburst\"}],                        {\"template\":{\"data\":{\"histogram2dcontour\":[{\"type\":\"histogram2dcontour\",\"colorbar\":{\"outlinewidth\":0,\"ticks\":\"\"},\"colorscale\":[[0.0,\"#0d0887\"],[0.1111111111111111,\"#46039f\"],[0.2222222222222222,\"#7201a8\"],[0.3333333333333333,\"#9c179e\"],[0.4444444444444444,\"#bd3786\"],[0.5555555555555556,\"#d8576b\"],[0.6666666666666666,\"#ed7953\"],[0.7777777777777778,\"#fb9f3a\"],[0.8888888888888888,\"#fdca26\"],[1.0,\"#f0f921\"]]}],\"choropleth\":[{\"type\":\"choropleth\",\"colorbar\":{\"outlinewidth\":0,\"ticks\":\"\"}}],\"histogram2d\":[{\"type\":\"histogram2d\",\"colorbar\":{\"outlinewidth\":0,\"ticks\":\"\"},\"colorscale\":[[0.0,\"#0d0887\"],[0.1111111111111111,\"#46039f\"],[0.2222222222222222,\"#7201a8\"],[0.3333333333333333,\"#9c179e\"],[0.4444444444444444,\"#bd3786\"],[0.5555555555555556,\"#d8576b\"],[0.6666666666666666,\"#ed7953\"],[0.7777777777777778,\"#fb9f3a\"],[0.8888888888888888,\"#fdca26\"],[1.0,\"#f0f921\"]]}],\"heatmap\":[{\"type\":\"heatmap\",\"colorbar\":{\"outlinewidth\":0,\"ticks\":\"\"},\"colorscale\":[[0.0,\"#0d0887\"],[0.1111111111111111,\"#46039f\"],[0.2222222222222222,\"#7201a8\"],[0.3333333333333333,\"#9c179e\"],[0.4444444444444444,\"#bd3786\"],[0.5555555555555556,\"#d8576b\"],[0.6666666666666666,\"#ed7953\"],[0.7777777777777778,\"#fb9f3a\"],[0.8888888888888888,\"#fdca26\"],[1.0,\"#f0f921\"]]}],\"heatmapgl\":[{\"type\":\"heatmapgl\",\"colorbar\":{\"outlinewidth\":0,\"ticks\":\"\"},\"colorscale\":[[0.0,\"#0d0887\"],[0.1111111111111111,\"#46039f\"],[0.2222222222222222,\"#7201a8\"],[0.3333333333333333,\"#9c179e\"],[0.4444444444444444,\"#bd3786\"],[0.5555555555555556,\"#d8576b\"],[0.6666666666666666,\"#ed7953\"],[0.7777777777777778,\"#fb9f3a\"],[0.8888888888888888,\"#fdca26\"],[1.0,\"#f0f921\"]]}],\"contourcarpet\":[{\"type\":\"contourcarpet\",\"colorbar\":{\"outlinewidth\":0,\"ticks\":\"\"}}],\"contour\":[{\"type\":\"contour\",\"colorbar\":{\"outlinewidth\":0,\"ticks\":\"\"},\"colorscale\":[[0.0,\"#0d0887\"],[0.1111111111111111,\"#46039f\"],[0.2222222222222222,\"#7201a8\"],[0.3333333333333333,\"#9c179e\"],[0.4444444444444444,\"#bd3786\"],[0.5555555555555556,\"#d8576b\"],[0.6666666666666666,\"#ed7953\"],[0.7777777777777778,\"#fb9f3a\"],[0.8888888888888888,\"#fdca26\"],[1.0,\"#f0f921\"]]}],\"surface\":[{\"type\":\"surface\",\"colorbar\":{\"outlinewidth\":0,\"ticks\":\"\"},\"colorscale\":[[0.0,\"#0d0887\"],[0.1111111111111111,\"#46039f\"],[0.2222222222222222,\"#7201a8\"],[0.3333333333333333,\"#9c179e\"],[0.4444444444444444,\"#bd3786\"],[0.5555555555555556,\"#d8576b\"],[0.6666666666666666,\"#ed7953\"],[0.7777777777777778,\"#fb9f3a\"],[0.8888888888888888,\"#fdca26\"],[1.0,\"#f0f921\"]]}],\"mesh3d\":[{\"type\":\"mesh3d\",\"colorbar\":{\"outlinewidth\":0,\"ticks\":\"\"}}],\"scatter\":[{\"fillpattern\":{\"fillmode\":\"overlay\",\"size\":10,\"solidity\":0.2},\"type\":\"scatter\"}],\"parcoords\":[{\"type\":\"parcoords\",\"line\":{\"colorbar\":{\"outlinewidth\":0,\"ticks\":\"\"}}}],\"scatterpolargl\":[{\"type\":\"scatterpolargl\",\"marker\":{\"colorbar\":{\"outlinewidth\":0,\"ticks\":\"\"}}}],\"bar\":[{\"error_x\":{\"color\":\"#2a3f5f\"},\"error_y\":{\"color\":\"#2a3f5f\"},\"marker\":{\"line\":{\"color\":\"#E5ECF6\",\"width\":0.5},\"pattern\":{\"fillmode\":\"overlay\",\"size\":10,\"solidity\":0.2}},\"type\":\"bar\"}],\"scattergeo\":[{\"type\":\"scattergeo\",\"marker\":{\"colorbar\":{\"outlinewidth\":0,\"ticks\":\"\"}}}],\"scatterpolar\":[{\"type\":\"scatterpolar\",\"marker\":{\"colorbar\":{\"outlinewidth\":0,\"ticks\":\"\"}}}],\"histogram\":[{\"marker\":{\"pattern\":{\"fillmode\":\"overlay\",\"size\":10,\"solidity\":0.2}},\"type\":\"histogram\"}],\"scattergl\":[{\"type\":\"scattergl\",\"marker\":{\"colorbar\":{\"outlinewidth\":0,\"ticks\":\"\"}}}],\"scatter3d\":[{\"type\":\"scatter3d\",\"line\":{\"colorbar\":{\"outlinewidth\":0,\"ticks\":\"\"}},\"marker\":{\"colorbar\":{\"outlinewidth\":0,\"ticks\":\"\"}}}],\"scattermapbox\":[{\"type\":\"scattermapbox\",\"marker\":{\"colorbar\":{\"outlinewidth\":0,\"ticks\":\"\"}}}],\"scatterternary\":[{\"type\":\"scatterternary\",\"marker\":{\"colorbar\":{\"outlinewidth\":0,\"ticks\":\"\"}}}],\"scattercarpet\":[{\"type\":\"scattercarpet\",\"marker\":{\"colorbar\":{\"outlinewidth\":0,\"ticks\":\"\"}}}],\"carpet\":[{\"aaxis\":{\"endlinecolor\":\"#2a3f5f\",\"gridcolor\":\"white\",\"linecolor\":\"white\",\"minorgridcolor\":\"white\",\"startlinecolor\":\"#2a3f5f\"},\"baxis\":{\"endlinecolor\":\"#2a3f5f\",\"gridcolor\":\"white\",\"linecolor\":\"white\",\"minorgridcolor\":\"white\",\"startlinecolor\":\"#2a3f5f\"},\"type\":\"carpet\"}],\"table\":[{\"cells\":{\"fill\":{\"color\":\"#EBF0F8\"},\"line\":{\"color\":\"white\"}},\"header\":{\"fill\":{\"color\":\"#C8D4E3\"},\"line\":{\"color\":\"white\"}},\"type\":\"table\"}],\"barpolar\":[{\"marker\":{\"line\":{\"color\":\"#E5ECF6\",\"width\":0.5},\"pattern\":{\"fillmode\":\"overlay\",\"size\":10,\"solidity\":0.2}},\"type\":\"barpolar\"}],\"pie\":[{\"automargin\":true,\"type\":\"pie\"}]},\"layout\":{\"autotypenumbers\":\"strict\",\"colorway\":[\"#636efa\",\"#EF553B\",\"#00cc96\",\"#ab63fa\",\"#FFA15A\",\"#19d3f3\",\"#FF6692\",\"#B6E880\",\"#FF97FF\",\"#FECB52\"],\"font\":{\"color\":\"#2a3f5f\"},\"hovermode\":\"closest\",\"hoverlabel\":{\"align\":\"left\"},\"paper_bgcolor\":\"white\",\"plot_bgcolor\":\"#E5ECF6\",\"polar\":{\"bgcolor\":\"#E5ECF6\",\"angularaxis\":{\"gridcolor\":\"white\",\"linecolor\":\"white\",\"ticks\":\"\"},\"radialaxis\":{\"gridcolor\":\"white\",\"linecolor\":\"white\",\"ticks\":\"\"}},\"ternary\":{\"bgcolor\":\"#E5ECF6\",\"aaxis\":{\"gridcolor\":\"white\",\"linecolor\":\"white\",\"ticks\":\"\"},\"baxis\":{\"gridcolor\":\"white\",\"linecolor\":\"white\",\"ticks\":\"\"},\"caxis\":{\"gridcolor\":\"white\",\"linecolor\":\"white\",\"ticks\":\"\"}},\"coloraxis\":{\"colorbar\":{\"outlinewidth\":0,\"ticks\":\"\"}},\"colorscale\":{\"sequential\":[[0.0,\"#0d0887\"],[0.1111111111111111,\"#46039f\"],[0.2222222222222222,\"#7201a8\"],[0.3333333333333333,\"#9c179e\"],[0.4444444444444444,\"#bd3786\"],[0.5555555555555556,\"#d8576b\"],[0.6666666666666666,\"#ed7953\"],[0.7777777777777778,\"#fb9f3a\"],[0.8888888888888888,\"#fdca26\"],[1.0,\"#f0f921\"]],\"sequentialminus\":[[0.0,\"#0d0887\"],[0.1111111111111111,\"#46039f\"],[0.2222222222222222,\"#7201a8\"],[0.3333333333333333,\"#9c179e\"],[0.4444444444444444,\"#bd3786\"],[0.5555555555555556,\"#d8576b\"],[0.6666666666666666,\"#ed7953\"],[0.7777777777777778,\"#fb9f3a\"],[0.8888888888888888,\"#fdca26\"],[1.0,\"#f0f921\"]],\"diverging\":[[0,\"#8e0152\"],[0.1,\"#c51b7d\"],[0.2,\"#de77ae\"],[0.3,\"#f1b6da\"],[0.4,\"#fde0ef\"],[0.5,\"#f7f7f7\"],[0.6,\"#e6f5d0\"],[0.7,\"#b8e186\"],[0.8,\"#7fbc41\"],[0.9,\"#4d9221\"],[1,\"#276419\"]]},\"xaxis\":{\"gridcolor\":\"white\",\"linecolor\":\"white\",\"ticks\":\"\",\"title\":{\"standoff\":15},\"zerolinecolor\":\"white\",\"automargin\":true,\"zerolinewidth\":2},\"yaxis\":{\"gridcolor\":\"white\",\"linecolor\":\"white\",\"ticks\":\"\",\"title\":{\"standoff\":15},\"zerolinecolor\":\"white\",\"automargin\":true,\"zerolinewidth\":2},\"scene\":{\"xaxis\":{\"backgroundcolor\":\"#E5ECF6\",\"gridcolor\":\"white\",\"linecolor\":\"white\",\"showbackground\":true,\"ticks\":\"\",\"zerolinecolor\":\"white\",\"gridwidth\":2},\"yaxis\":{\"backgroundcolor\":\"#E5ECF6\",\"gridcolor\":\"white\",\"linecolor\":\"white\",\"showbackground\":true,\"ticks\":\"\",\"zerolinecolor\":\"white\",\"gridwidth\":2},\"zaxis\":{\"backgroundcolor\":\"#E5ECF6\",\"gridcolor\":\"white\",\"linecolor\":\"white\",\"showbackground\":true,\"ticks\":\"\",\"zerolinecolor\":\"white\",\"gridwidth\":2}},\"shapedefaults\":{\"line\":{\"color\":\"#2a3f5f\"}},\"annotationdefaults\":{\"arrowcolor\":\"#2a3f5f\",\"arrowhead\":0,\"arrowwidth\":1},\"geo\":{\"bgcolor\":\"white\",\"landcolor\":\"#E5ECF6\",\"subunitcolor\":\"white\",\"showland\":true,\"showlakes\":true,\"lakecolor\":\"white\"},\"title\":{\"x\":0.05},\"mapbox\":{\"style\":\"light\"}}},\"legend\":{\"tracegroupgap\":0},\"margin\":{\"t\":60}},                        {\"responsive\": true}                    ).then(function(){\n",
              "                            \n",
              "var gd = document.getElementById('9c746527-e10a-49ad-a112-7284fcc9576b');\n",
              "var x = new MutationObserver(function (mutations, observer) {{\n",
              "        var display = window.getComputedStyle(gd).display;\n",
              "        if (!display || display === 'none') {{\n",
              "            console.log([gd, 'removed!']);\n",
              "            Plotly.purge(gd);\n",
              "            observer.disconnect();\n",
              "        }}\n",
              "}});\n",
              "\n",
              "// Listen for the removal of the full notebook cells\n",
              "var notebookContainer = gd.closest('#notebook-container');\n",
              "if (notebookContainer) {{\n",
              "    x.observe(notebookContainer, {childList: true});\n",
              "}}\n",
              "\n",
              "// Listen for the clearing of the current output cell\n",
              "var outputEl = gd.closest('.output');\n",
              "if (outputEl) {{\n",
              "    x.observe(outputEl, {childList: true});\n",
              "}}\n",
              "\n",
              "                        })                };                            </script>        </div>\n",
              "</body>\n",
              "</html>"
            ]
          },
          "metadata": {}
        }
      ]
    },
    {
      "cell_type": "code",
      "source": [],
      "metadata": {
        "id": "rzo9J2DV5boA"
      },
      "execution_count": null,
      "outputs": []
    }
  ]
}